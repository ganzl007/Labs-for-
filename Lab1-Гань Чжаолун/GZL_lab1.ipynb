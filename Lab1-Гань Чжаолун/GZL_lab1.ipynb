{
 "cells": [
  {
   "cell_type": "code",
   "execution_count": 2,
   "id": "89f004a8-2947-4610-a9a5-a01a08549f52",
   "metadata": {
    "tags": []
   },
   "outputs": [
    {
     "data": {
      "text/plain": [
       "(Int64, Float64, Irrational{:π})"
      ]
     },
     "execution_count": 2,
     "metadata": {},
     "output_type": "execute_result"
    }
   ],
   "source": [
    "typeof(1), typeof(4.5), typeof(pi)"
   ]
  },
  {
   "cell_type": "code",
   "execution_count": 4,
   "id": "ff8257d6-992c-4636-b4e7-f592b492b071",
   "metadata": {
    "tags": []
   },
   "outputs": [
    {
     "data": {
      "text/plain": [
       "(Inf, -Inf, NaN)"
      ]
     },
     "execution_count": 4,
     "metadata": {},
     "output_type": "execute_result"
    }
   ],
   "source": [
    "1.0/0.0, 1.0/(-0.0), 0.0/0.0"
   ]
  },
  {
   "cell_type": "code",
   "execution_count": 6,
   "id": "feb0be76-0dc2-4c6d-973d-c32094d1679e",
   "metadata": {
    "tags": []
   },
   "outputs": [
    {
     "data": {
      "text/plain": [
       "(Float64, Float64, Float64)"
      ]
     },
     "execution_count": 6,
     "metadata": {},
     "output_type": "execute_result"
    }
   ],
   "source": [
    "typeof(1.0/0.0), typeof(1.0/(-0.0)), typeof(0.0/0.0)"
   ]
  },
  {
   "cell_type": "code",
   "execution_count": 8,
   "id": "53d935a3-7289-4393-a7ba-ad61c8cf29c3",
   "metadata": {
    "tags": []
   },
   "outputs": [
    {
     "name": "stdout",
     "output_type": "stream",
     "text": [
      "   Int8: [-128,127]\n",
      "  Int16: [-32768,32767]\n",
      "  Int32: [-2147483648,2147483647]\n",
      "  Int64: [-9223372036854775808,9223372036854775807]\n",
      " Int128: [-170141183460469231731687303715884105728,170141183460469231731687303715884105727]\n",
      "  UInt8: [0,255]\n",
      " UInt16: [0,65535]\n",
      " UInt32: [0,4294967295]\n",
      " UInt64: [0,18446744073709551615]\n",
      "UInt128: [0,340282366920938463463374607431768211455]\n"
     ]
    }
   ],
   "source": [
    "for T in [Int8,Int16,Int32,Int64,Int128,UInt8,UInt16,UInt32,UInt64,UInt128]\n",
    "    println(\"$(lpad(T,7)): [$(typemin(T)),$(typemax(T))]\")\n",
    "end"
   ]
  },
  {
   "cell_type": "code",
   "execution_count": 10,
   "id": "2cf75c72-bc74-4437-86fd-90a8ad8ebcbe",
   "metadata": {
    "tags": []
   },
   "outputs": [
    {
     "data": {
      "text/plain": [
       "(2, '\\x02')"
      ]
     },
     "execution_count": 10,
     "metadata": {},
     "output_type": "execute_result"
    }
   ],
   "source": [
    "Int64(2.0), Char(2)"
   ]
  },
  {
   "cell_type": "code",
   "execution_count": 12,
   "id": "d92a742f-031f-4c55-b62d-5db0d8da183a",
   "metadata": {
    "tags": []
   },
   "outputs": [
    {
     "data": {
      "text/plain": [
       "(2, '\\x02', Char)"
      ]
     },
     "execution_count": 12,
     "metadata": {},
     "output_type": "execute_result"
    }
   ],
   "source": [
    "Int64(2.0), Char(2), typeof(Char(2))"
   ]
  },
  {
   "cell_type": "code",
   "execution_count": 14,
   "id": "4ac61781-79c1-4d18-9892-3eff325fb18a",
   "metadata": {
    "tags": []
   },
   "outputs": [
    {
     "data": {
      "text/plain": [
       "(2, '\\x02')"
      ]
     },
     "execution_count": 14,
     "metadata": {},
     "output_type": "execute_result"
    }
   ],
   "source": [
    "convert(Int64, 2.0), convert(Char,2)"
   ]
  },
  {
   "cell_type": "code",
   "execution_count": 16,
   "id": "f5a79605-7e84-45c5-9b39-53b844079415",
   "metadata": {
    "tags": []
   },
   "outputs": [
    {
     "data": {
      "text/plain": [
       "(true, false)"
      ]
     },
     "execution_count": 16,
     "metadata": {},
     "output_type": "execute_result"
    }
   ],
   "source": [
    "Bool(1), Bool(0)"
   ]
  },
  {
   "cell_type": "code",
   "execution_count": 18,
   "id": "e77389f7-d6cb-47ee-8fdf-c9febbc70c36",
   "metadata": {
    "tags": []
   },
   "outputs": [
    {
     "data": {
      "text/plain": [
       "(1.0f0, 4.5f0, 4.1f0)"
      ]
     },
     "execution_count": 18,
     "metadata": {},
     "output_type": "execute_result"
    }
   ],
   "source": [
    "promote(Int8(1), Float16(4.5), Float32(4.1))"
   ]
  },
  {
   "cell_type": "code",
   "execution_count": 20,
   "id": "ea0f6415-d3b3-4e44-ba1e-40fae70000c7",
   "metadata": {
    "tags": []
   },
   "outputs": [
    {
     "data": {
      "text/plain": [
       "f (generic function with 1 method)"
      ]
     },
     "execution_count": 20,
     "metadata": {},
     "output_type": "execute_result"
    }
   ],
   "source": [
    "function f(x)\n",
    "x^2\n",
    "end"
   ]
  },
  {
   "cell_type": "code",
   "execution_count": 22,
   "id": "57ecfc79-2f0d-44e7-bb6d-6eae31f2aaa5",
   "metadata": {
    "tags": []
   },
   "outputs": [
    {
     "data": {
      "text/plain": [
       "16"
      ]
     },
     "execution_count": 22,
     "metadata": {},
     "output_type": "execute_result"
    }
   ],
   "source": [
    "f(4)"
   ]
  },
  {
   "cell_type": "code",
   "execution_count": 24,
   "id": "6459492a-9e40-4098-afeb-ecf4ddf11c0d",
   "metadata": {
    "tags": []
   },
   "outputs": [
    {
     "data": {
      "text/plain": [
       "g (generic function with 1 method)"
      ]
     },
     "execution_count": 24,
     "metadata": {},
     "output_type": "execute_result"
    }
   ],
   "source": [
    "g(x)=x^2"
   ]
  },
  {
   "cell_type": "code",
   "execution_count": 26,
   "id": "059fa224-3c0e-44fa-bb4f-7e3e3f60b4f7",
   "metadata": {
    "tags": []
   },
   "outputs": [
    {
     "data": {
      "text/plain": [
       "64"
      ]
     },
     "execution_count": 26,
     "metadata": {},
     "output_type": "execute_result"
    }
   ],
   "source": [
    "g(8)"
   ]
  },
  {
   "cell_type": "code",
   "execution_count": 28,
   "id": "ac1b1138-5050-411c-aeca-fe3675141669",
   "metadata": {
    "tags": []
   },
   "outputs": [
    {
     "data": {
      "text/plain": [
       "(7, 2)"
      ]
     },
     "execution_count": 28,
     "metadata": {},
     "output_type": "execute_result"
    }
   ],
   "source": [
    "a = [4 7 6] # вектор-строка\n",
    "b = [1, 2, 3] # вектор-столбец\n",
    "a[2], b[2] # вторые элементы векторов a и b"
   ]
  },
  {
   "cell_type": "code",
   "execution_count": 32,
   "id": "0d1f30a7-a736-49e0-9f18-44709b9896eb",
   "metadata": {
    "tags": []
   },
   "outputs": [
    {
     "data": {
      "text/plain": [
       "(1, 2, 3, 4)"
      ]
     },
     "execution_count": 32,
     "metadata": {},
     "output_type": "execute_result"
    }
   ],
   "source": [
    "a = 1; b = 2; c = 3; d = 4 # присвоение значений\n",
    "Am = [a b; c d] # матрица 2 х 2\n",
    "Am[1,1], Am[1,2], Am[2,1], Am[2,2] # элементы матрицы"
   ]
  },
  {
   "cell_type": "code",
   "execution_count": 34,
   "id": "c396974d-cabc-465c-b4ba-3217bd1f4e73",
   "metadata": {
    "tags": []
   },
   "outputs": [
    {
     "data": {
      "text/plain": [
       "1×1 Matrix{Int64}:\n",
       " 27"
      ]
     },
     "execution_count": 34,
     "metadata": {},
     "output_type": "execute_result"
    }
   ],
   "source": [
    "aa = [1 2]\n",
    "AA = [1 2; 3 4]\n",
    "aa*AA*aa'"
   ]
  },
  {
   "cell_type": "code",
   "execution_count": 38,
   "id": "73d9fcb6-392c-4e52-9641-0c5e82f49018",
   "metadata": {
    "scrolled": true,
    "tags": []
   },
   "outputs": [
    {
     "data": {
      "text/latex": [
       "\\begin{verbatim}\n",
       "read(io::IO, T)\n",
       "\\end{verbatim}\n",
       "Read a single value of type \\texttt{T} from \\texttt{io}, in canonical binary representation.\n",
       "\n",
       "Note that Julia does not convert the endianness for you. Use \\href{@ref}{\\texttt{ntoh}} or \\href{@ref}{\\texttt{ltoh}} for this purpose.\n",
       "\n",
       "\\begin{verbatim}\n",
       "read(io::IO, String)\n",
       "\\end{verbatim}\n",
       "Read the entirety of \\texttt{io}, as a \\texttt{String} (see also \\href{@ref}{\\texttt{readchomp}}).\n",
       "\n",
       "\\section{Examples}\n",
       "\\begin{verbatim}\n",
       "julia> io = IOBuffer(\"JuliaLang is a GitHub organization\");\n",
       "\n",
       "julia> read(io, Char)\n",
       "'J': ASCII/Unicode U+004A (category Lu: Letter, uppercase)\n",
       "\n",
       "julia> io = IOBuffer(\"JuliaLang is a GitHub organization\");\n",
       "\n",
       "julia> read(io, String)\n",
       "\"JuliaLang is a GitHub organization\"\n",
       "\\end{verbatim}\n",
       "\\rule{\\textwidth}{1pt}\n",
       "\\begin{verbatim}\n",
       "read(filename::AbstractString)\n",
       "\\end{verbatim}\n",
       "Read the entire contents of a file as a \\texttt{Vector\\{UInt8\\}}.\n",
       "\n",
       "\\begin{verbatim}\n",
       "read(filename::AbstractString, String)\n",
       "\\end{verbatim}\n",
       "Read the entire contents of a file as a string.\n",
       "\n",
       "\\begin{verbatim}\n",
       "read(filename::AbstractString, args...)\n",
       "\\end{verbatim}\n",
       "Open a file and read its contents. \\texttt{args} is passed to \\texttt{read}: this is equivalent to \\texttt{open(io->read(io, args...), filename)}.\n",
       "\n",
       "\\rule{\\textwidth}{1pt}\n",
       "\\begin{verbatim}\n",
       "read(s::IO, nb=typemax(Int))\n",
       "\\end{verbatim}\n",
       "Read at most \\texttt{nb} bytes from \\texttt{s}, returning a \\texttt{Vector\\{UInt8\\}} of the bytes read.\n",
       "\n",
       "\\rule{\\textwidth}{1pt}\n",
       "\\begin{verbatim}\n",
       "read(s::IOStream, nb::Integer; all=true)\n",
       "\\end{verbatim}\n",
       "Read at most \\texttt{nb} bytes from \\texttt{s}, returning a \\texttt{Vector\\{UInt8\\}} of the bytes read.\n",
       "\n",
       "If \\texttt{all} is \\texttt{true} (the default), this function will block repeatedly trying to read all requested bytes, until an error or end-of-file occurs. If \\texttt{all} is \\texttt{false}, at most one \\texttt{read} call is performed, and the amount of data returned is device-dependent. Note that not all stream types support the \\texttt{all} option.\n",
       "\n",
       "\\rule{\\textwidth}{1pt}\n",
       "\\begin{verbatim}\n",
       "read(command::Cmd)\n",
       "\\end{verbatim}\n",
       "Run \\texttt{command} and return the resulting output as an array of bytes.\n",
       "\n",
       "\\rule{\\textwidth}{1pt}\n",
       "\\begin{verbatim}\n",
       "read(command::Cmd, String)\n",
       "\\end{verbatim}\n",
       "Run \\texttt{command} and return the resulting output as a \\texttt{String}.\n",
       "\n"
      ],
      "text/markdown": [
       "```\n",
       "read(io::IO, T)\n",
       "```\n",
       "\n",
       "Read a single value of type `T` from `io`, in canonical binary representation.\n",
       "\n",
       "Note that Julia does not convert the endianness for you. Use [`ntoh`](@ref) or [`ltoh`](@ref) for this purpose.\n",
       "\n",
       "```\n",
       "read(io::IO, String)\n",
       "```\n",
       "\n",
       "Read the entirety of `io`, as a `String` (see also [`readchomp`](@ref)).\n",
       "\n",
       "# Examples\n",
       "\n",
       "```jldoctest\n",
       "julia> io = IOBuffer(\"JuliaLang is a GitHub organization\");\n",
       "\n",
       "julia> read(io, Char)\n",
       "'J': ASCII/Unicode U+004A (category Lu: Letter, uppercase)\n",
       "\n",
       "julia> io = IOBuffer(\"JuliaLang is a GitHub organization\");\n",
       "\n",
       "julia> read(io, String)\n",
       "\"JuliaLang is a GitHub organization\"\n",
       "```\n",
       "\n",
       "---\n",
       "\n",
       "```\n",
       "read(filename::AbstractString)\n",
       "```\n",
       "\n",
       "Read the entire contents of a file as a `Vector{UInt8}`.\n",
       "\n",
       "```\n",
       "read(filename::AbstractString, String)\n",
       "```\n",
       "\n",
       "Read the entire contents of a file as a string.\n",
       "\n",
       "```\n",
       "read(filename::AbstractString, args...)\n",
       "```\n",
       "\n",
       "Open a file and read its contents. `args` is passed to `read`: this is equivalent to `open(io->read(io, args...), filename)`.\n",
       "\n",
       "---\n",
       "\n",
       "```\n",
       "read(s::IO, nb=typemax(Int))\n",
       "```\n",
       "\n",
       "Read at most `nb` bytes from `s`, returning a `Vector{UInt8}` of the bytes read.\n",
       "\n",
       "---\n",
       "\n",
       "```\n",
       "read(s::IOStream, nb::Integer; all=true)\n",
       "```\n",
       "\n",
       "Read at most `nb` bytes from `s`, returning a `Vector{UInt8}` of the bytes read.\n",
       "\n",
       "If `all` is `true` (the default), this function will block repeatedly trying to read all requested bytes, until an error or end-of-file occurs. If `all` is `false`, at most one `read` call is performed, and the amount of data returned is device-dependent. Note that not all stream types support the `all` option.\n",
       "\n",
       "---\n",
       "\n",
       "```\n",
       "read(command::Cmd)\n",
       "```\n",
       "\n",
       "Run `command` and return the resulting output as an array of bytes.\n",
       "\n",
       "---\n",
       "\n",
       "```\n",
       "read(command::Cmd, String)\n",
       "```\n",
       "\n",
       "Run `command` and return the resulting output as a `String`.\n"
      ],
      "text/plain": [
       "\u001b[36m  read(io::IO, T)\u001b[39m\n",
       "\n",
       "  Read a single value of type \u001b[36mT\u001b[39m from \u001b[36mio\u001b[39m, in canonical binary representation.\n",
       "\n",
       "  Note that Julia does not convert the endianness for you. Use \u001b[36mntoh\u001b[39m or \u001b[36mltoh\u001b[39m\n",
       "  for this purpose.\n",
       "\n",
       "\u001b[36m  read(io::IO, String)\u001b[39m\n",
       "\n",
       "  Read the entirety of \u001b[36mio\u001b[39m, as a \u001b[36mString\u001b[39m (see also \u001b[36mreadchomp\u001b[39m).\n",
       "\n",
       "\u001b[1m  Examples\u001b[22m\n",
       "\u001b[1m  ≡≡≡≡≡≡≡≡\u001b[22m\n",
       "\n",
       "\u001b[36m  julia> io = IOBuffer(\"JuliaLang is a GitHub organization\");\u001b[39m\n",
       "\u001b[36m  \u001b[39m\n",
       "\u001b[36m  julia> read(io, Char)\u001b[39m\n",
       "\u001b[36m  'J': ASCII/Unicode U+004A (category Lu: Letter, uppercase)\u001b[39m\n",
       "\u001b[36m  \u001b[39m\n",
       "\u001b[36m  julia> io = IOBuffer(\"JuliaLang is a GitHub organization\");\u001b[39m\n",
       "\u001b[36m  \u001b[39m\n",
       "\u001b[36m  julia> read(io, String)\u001b[39m\n",
       "\u001b[36m  \"JuliaLang is a GitHub organization\"\u001b[39m\n",
       "\n",
       "  ────────────────────────────────────────────────────────────────────────────\n",
       "\n",
       "\u001b[36m  read(filename::AbstractString)\u001b[39m\n",
       "\n",
       "  Read the entire contents of a file as a \u001b[36mVector{UInt8}\u001b[39m.\n",
       "\n",
       "\u001b[36m  read(filename::AbstractString, String)\u001b[39m\n",
       "\n",
       "  Read the entire contents of a file as a string.\n",
       "\n",
       "\u001b[36m  read(filename::AbstractString, args...)\u001b[39m\n",
       "\n",
       "  Open a file and read its contents. \u001b[36margs\u001b[39m is passed to \u001b[36mread\u001b[39m: this is\n",
       "  equivalent to \u001b[36mopen(io->read(io, args...), filename)\u001b[39m.\n",
       "\n",
       "  ────────────────────────────────────────────────────────────────────────────\n",
       "\n",
       "\u001b[36m  read(s::IO, nb=typemax(Int))\u001b[39m\n",
       "\n",
       "  Read at most \u001b[36mnb\u001b[39m bytes from \u001b[36ms\u001b[39m, returning a \u001b[36mVector{UInt8}\u001b[39m of the bytes read.\n",
       "\n",
       "  ────────────────────────────────────────────────────────────────────────────\n",
       "\n",
       "\u001b[36m  read(s::IOStream, nb::Integer; all=true)\u001b[39m\n",
       "\n",
       "  Read at most \u001b[36mnb\u001b[39m bytes from \u001b[36ms\u001b[39m, returning a \u001b[36mVector{UInt8}\u001b[39m of the bytes read.\n",
       "\n",
       "  If \u001b[36mall\u001b[39m is \u001b[36mtrue\u001b[39m (the default), this function will block repeatedly trying to\n",
       "  read all requested bytes, until an error or end-of-file occurs. If \u001b[36mall\u001b[39m is\n",
       "  \u001b[36mfalse\u001b[39m, at most one \u001b[36mread\u001b[39m call is performed, and the amount of data returned\n",
       "  is device-dependent. Note that not all stream types support the \u001b[36mall\u001b[39m option.\n",
       "\n",
       "  ────────────────────────────────────────────────────────────────────────────\n",
       "\n",
       "\u001b[36m  read(command::Cmd)\u001b[39m\n",
       "\n",
       "  Run \u001b[36mcommand\u001b[39m and return the resulting output as an array of bytes.\n",
       "\n",
       "  ────────────────────────────────────────────────────────────────────────────\n",
       "\n",
       "\u001b[36m  read(command::Cmd, String)\u001b[39m\n",
       "\n",
       "  Run \u001b[36mcommand\u001b[39m and return the resulting output as a \u001b[36mString\u001b[39m."
      ]
     },
     "execution_count": 38,
     "metadata": {},
     "output_type": "execute_result"
    }
   ],
   "source": [
    "?read()"
   ]
  },
  {
   "cell_type": "code",
   "execution_count": 40,
   "id": "27ee4f6c-7df7-4186-956e-1dc708b95ed9",
   "metadata": {
    "tags": []
   },
   "outputs": [
    {
     "data": {
      "text/plain": [
       "IOBuffer(data=UInt8[...], readable=true, writable=false, seekable=true, append=false, size=7, maxsize=Inf, ptr=1, mark=-1)"
      ]
     },
     "execution_count": 40,
     "metadata": {},
     "output_type": "execute_result"
    }
   ],
   "source": [
    "io = IOBuffer(\"Hi,bro!\")"
   ]
  },
  {
   "cell_type": "code",
   "execution_count": 42,
   "id": "90eeed90-18bf-4d05-98e1-96f2bbbe2315",
   "metadata": {
    "tags": []
   },
   "outputs": [
    {
     "data": {
      "text/plain": [
       "\"Hi,bro!\""
      ]
     },
     "execution_count": 42,
     "metadata": {},
     "output_type": "execute_result"
    }
   ],
   "source": [
    "io = IOBuffer(\"Hi,bro!\");\n",
    "read(io, String)"
   ]
  },
  {
   "cell_type": "code",
   "execution_count": 44,
   "id": "b8727256-a3d2-4c24-85f1-e8a02c1c9609",
   "metadata": {
    "scrolled": true,
    "tags": []
   },
   "outputs": [
    {
     "data": {
      "text/latex": [
       "\\begin{verbatim}\n",
       "readline(io::IO=stdin; keep::Bool=false)\n",
       "readline(filename::AbstractString; keep::Bool=false)\n",
       "\\end{verbatim}\n",
       "Read a single line of text from the given I/O stream or file (defaults to \\texttt{stdin}). When reading from a file, the text is assumed to be encoded in UTF-8. Lines in the input end with \\texttt{'{\\textbackslash}n'} or \\texttt{\"{\\textbackslash}r{\\textbackslash}n\"} or the end of an input stream. When \\texttt{keep} is false (as it is by default), these trailing newline characters are removed from the line before it is returned. When \\texttt{keep} is true, they are returned as part of the line.\n",
       "\n",
       "Return a \\texttt{String}.   See also \\href{@ref}{\\texttt{copyline}} to instead write in-place to another stream (which can be a preallocated \\href{@ref}{\\texttt{IOBuffer}}).\n",
       "\n",
       "See also \\href{@ref}{\\texttt{readuntil}} for reading until more general delimiters.\n",
       "\n",
       "\\section{Examples}\n",
       "\\begin{verbatim}\n",
       "julia> write(\"my_file.txt\", \"JuliaLang is a GitHub organization.\\nIt has many members.\\n\");\n",
       "\n",
       "julia> readline(\"my_file.txt\")\n",
       "\"JuliaLang is a GitHub organization.\"\n",
       "\n",
       "julia> readline(\"my_file.txt\", keep=true)\n",
       "\"JuliaLang is a GitHub organization.\\n\"\n",
       "\n",
       "julia> rm(\"my_file.txt\")\n",
       "\\end{verbatim}\n",
       "\\begin{verbatim}\n",
       "julia> print(\"Enter your name: \")\n",
       "Enter your name:\n",
       "\n",
       "julia> your_name = readline()\n",
       "Logan\n",
       "\"Logan\"\n",
       "\\end{verbatim}\n"
      ],
      "text/markdown": [
       "```\n",
       "readline(io::IO=stdin; keep::Bool=false)\n",
       "readline(filename::AbstractString; keep::Bool=false)\n",
       "```\n",
       "\n",
       "Read a single line of text from the given I/O stream or file (defaults to `stdin`). When reading from a file, the text is assumed to be encoded in UTF-8. Lines in the input end with `'\\n'` or `\"\\r\\n\"` or the end of an input stream. When `keep` is false (as it is by default), these trailing newline characters are removed from the line before it is returned. When `keep` is true, they are returned as part of the line.\n",
       "\n",
       "Return a `String`.   See also [`copyline`](@ref) to instead write in-place to another stream (which can be a preallocated [`IOBuffer`](@ref)).\n",
       "\n",
       "See also [`readuntil`](@ref) for reading until more general delimiters.\n",
       "\n",
       "# Examples\n",
       "\n",
       "```jldoctest\n",
       "julia> write(\"my_file.txt\", \"JuliaLang is a GitHub organization.\\nIt has many members.\\n\");\n",
       "\n",
       "julia> readline(\"my_file.txt\")\n",
       "\"JuliaLang is a GitHub organization.\"\n",
       "\n",
       "julia> readline(\"my_file.txt\", keep=true)\n",
       "\"JuliaLang is a GitHub organization.\\n\"\n",
       "\n",
       "julia> rm(\"my_file.txt\")\n",
       "```\n",
       "\n",
       "```julia-repl\n",
       "julia> print(\"Enter your name: \")\n",
       "Enter your name:\n",
       "\n",
       "julia> your_name = readline()\n",
       "Logan\n",
       "\"Logan\"\n",
       "```\n"
      ],
      "text/plain": [
       "\u001b[36m  readline(io::IO=stdin; keep::Bool=false)\u001b[39m\n",
       "\u001b[36m  readline(filename::AbstractString; keep::Bool=false)\u001b[39m\n",
       "\n",
       "  Read a single line of text from the given I/O stream or file (defaults to\n",
       "  \u001b[36mstdin\u001b[39m). When reading from a file, the text is assumed to be encoded in\n",
       "  UTF-8. Lines in the input end with \u001b[36m'\\n'\u001b[39m or \u001b[36m\"\\r\\n\"\u001b[39m or the end of an input\n",
       "  stream. When \u001b[36mkeep\u001b[39m is false (as it is by default), these trailing newline\n",
       "  characters are removed from the line before it is returned. When \u001b[36mkeep\u001b[39m is\n",
       "  true, they are returned as part of the line.\n",
       "\n",
       "  Return a \u001b[36mString\u001b[39m. See also \u001b[36mcopyline\u001b[39m to instead write in-place to another\n",
       "  stream (which can be a preallocated \u001b[36mIOBuffer\u001b[39m).\n",
       "\n",
       "  See also \u001b[36mreaduntil\u001b[39m for reading until more general delimiters.\n",
       "\n",
       "\u001b[1m  Examples\u001b[22m\n",
       "\u001b[1m  ≡≡≡≡≡≡≡≡\u001b[22m\n",
       "\n",
       "\u001b[36m  julia> write(\"my_file.txt\", \"JuliaLang is a GitHub organization.\\nIt has many members.\\n\");\u001b[39m\n",
       "\u001b[36m  \u001b[39m\n",
       "\u001b[36m  julia> readline(\"my_file.txt\")\u001b[39m\n",
       "\u001b[36m  \"JuliaLang is a GitHub organization.\"\u001b[39m\n",
       "\u001b[36m  \u001b[39m\n",
       "\u001b[36m  julia> readline(\"my_file.txt\", keep=true)\u001b[39m\n",
       "\u001b[36m  \"JuliaLang is a GitHub organization.\\n\"\u001b[39m\n",
       "\u001b[36m  \u001b[39m\n",
       "\u001b[36m  julia> rm(\"my_file.txt\")\u001b[39m\n",
       "\n",
       "\u001b[36m  julia> print(\"Enter your name: \")\u001b[39m\n",
       "\u001b[36m  Enter your name:\u001b[39m\n",
       "\u001b[36m  \u001b[39m\n",
       "\u001b[36m  julia> your_name = readline()\u001b[39m\n",
       "\u001b[36m  Logan\u001b[39m\n",
       "\u001b[36m  \"Logan\"\u001b[39m"
      ]
     },
     "execution_count": 44,
     "metadata": {},
     "output_type": "execute_result"
    }
   ],
   "source": [
    "?readline()"
   ]
  },
  {
   "cell_type": "code",
   "execution_count": 46,
   "id": "dcbf202b-d80a-4f44-89c5-b09e818d0946",
   "metadata": {
    "tags": []
   },
   "outputs": [
    {
     "data": {
      "text/plain": [
       "\"你好.\""
      ]
     },
     "execution_count": 46,
     "metadata": {},
     "output_type": "execute_result"
    }
   ],
   "source": [
    "write(\"GZL_lab1.txt\", \"你好.\\n我是甘兆隆.\\n\");\n",
    "readline(\"GZL_lab1.txt\")"
   ]
  },
  {
   "cell_type": "code",
   "execution_count": 52,
   "id": "86e19157-9bea-43f6-8507-2bd3ec0a6c64",
   "metadata": {
    "tags": []
   },
   "outputs": [
    {
     "data": {
      "text/plain": [
       "\"你好.\\n\""
      ]
     },
     "execution_count": 52,
     "metadata": {},
     "output_type": "execute_result"
    }
   ],
   "source": [
    "write(\"GZL_lab1.txt\", \"你好.\\n我是甘兆隆.\\n\");\n",
    "readline(\"GZL_lab1.txt\",keep=true)"
   ]
  },
  {
   "cell_type": "code",
   "execution_count": 54,
   "id": "8ccef124-21ae-404e-b2f7-47eaa680b1ff",
   "metadata": {
    "scrolled": true,
    "tags": []
   },
   "outputs": [
    {
     "data": {
      "text/latex": [
       "\\begin{verbatim}\n",
       "readlines(io::IO=stdin; keep::Bool=false)\n",
       "readlines(filename::AbstractString; keep::Bool=false)\n",
       "\\end{verbatim}\n",
       "Read all lines of an I/O stream or a file as a vector of strings. Behavior is equivalent to saving the result of reading \\href{@ref}{\\texttt{readline}} repeatedly with the same arguments and saving the resulting lines as a vector of strings.  See also \\href{@ref}{\\texttt{eachline}} to iterate over the lines without reading them all at once.\n",
       "\n",
       "\\section{Examples}\n",
       "\\begin{verbatim}\n",
       "julia> write(\"my_file.txt\", \"JuliaLang is a GitHub organization.\\nIt has many members.\\n\");\n",
       "\n",
       "julia> readlines(\"my_file.txt\")\n",
       "2-element Vector{String}:\n",
       " \"JuliaLang is a GitHub organization.\"\n",
       " \"It has many members.\"\n",
       "\n",
       "julia> readlines(\"my_file.txt\", keep=true)\n",
       "2-element Vector{String}:\n",
       " \"JuliaLang is a GitHub organization.\\n\"\n",
       " \"It has many members.\\n\"\n",
       "\n",
       "julia> rm(\"my_file.txt\")\n",
       "\\end{verbatim}\n"
      ],
      "text/markdown": [
       "```\n",
       "readlines(io::IO=stdin; keep::Bool=false)\n",
       "readlines(filename::AbstractString; keep::Bool=false)\n",
       "```\n",
       "\n",
       "Read all lines of an I/O stream or a file as a vector of strings. Behavior is equivalent to saving the result of reading [`readline`](@ref) repeatedly with the same arguments and saving the resulting lines as a vector of strings.  See also [`eachline`](@ref) to iterate over the lines without reading them all at once.\n",
       "\n",
       "# Examples\n",
       "\n",
       "```jldoctest\n",
       "julia> write(\"my_file.txt\", \"JuliaLang is a GitHub organization.\\nIt has many members.\\n\");\n",
       "\n",
       "julia> readlines(\"my_file.txt\")\n",
       "2-element Vector{String}:\n",
       " \"JuliaLang is a GitHub organization.\"\n",
       " \"It has many members.\"\n",
       "\n",
       "julia> readlines(\"my_file.txt\", keep=true)\n",
       "2-element Vector{String}:\n",
       " \"JuliaLang is a GitHub organization.\\n\"\n",
       " \"It has many members.\\n\"\n",
       "\n",
       "julia> rm(\"my_file.txt\")\n",
       "```\n"
      ],
      "text/plain": [
       "\u001b[36m  readlines(io::IO=stdin; keep::Bool=false)\u001b[39m\n",
       "\u001b[36m  readlines(filename::AbstractString; keep::Bool=false)\u001b[39m\n",
       "\n",
       "  Read all lines of an I/O stream or a file as a vector of strings. Behavior\n",
       "  is equivalent to saving the result of reading \u001b[36mreadline\u001b[39m repeatedly with the\n",
       "  same arguments and saving the resulting lines as a vector of strings. See\n",
       "  also \u001b[36meachline\u001b[39m to iterate over the lines without reading them all at once.\n",
       "\n",
       "\u001b[1m  Examples\u001b[22m\n",
       "\u001b[1m  ≡≡≡≡≡≡≡≡\u001b[22m\n",
       "\n",
       "\u001b[36m  julia> write(\"my_file.txt\", \"JuliaLang is a GitHub organization.\\nIt has many members.\\n\");\u001b[39m\n",
       "\u001b[36m  \u001b[39m\n",
       "\u001b[36m  julia> readlines(\"my_file.txt\")\u001b[39m\n",
       "\u001b[36m  2-element Vector{String}:\u001b[39m\n",
       "\u001b[36m   \"JuliaLang is a GitHub organization.\"\u001b[39m\n",
       "\u001b[36m   \"It has many members.\"\u001b[39m\n",
       "\u001b[36m  \u001b[39m\n",
       "\u001b[36m  julia> readlines(\"my_file.txt\", keep=true)\u001b[39m\n",
       "\u001b[36m  2-element Vector{String}:\u001b[39m\n",
       "\u001b[36m   \"JuliaLang is a GitHub organization.\\n\"\u001b[39m\n",
       "\u001b[36m   \"It has many members.\\n\"\u001b[39m\n",
       "\u001b[36m  \u001b[39m\n",
       "\u001b[36m  julia> rm(\"my_file.txt\")\u001b[39m"
      ]
     },
     "execution_count": 54,
     "metadata": {},
     "output_type": "execute_result"
    }
   ],
   "source": [
    "?readlines()"
   ]
  },
  {
   "cell_type": "code",
   "execution_count": 56,
   "id": "fd5177a1-82a0-4e0e-aa82-ef848c87bc03",
   "metadata": {
    "tags": []
   },
   "outputs": [
    {
     "data": {
      "text/plain": [
       "2-element Vector{String}:\n",
       " \"你好.\"\n",
       " \"我是甘兆隆.\""
      ]
     },
     "execution_count": 56,
     "metadata": {},
     "output_type": "execute_result"
    }
   ],
   "source": [
    "readlines(\"GZL_lab1.txt\")"
   ]
  },
  {
   "cell_type": "code",
   "execution_count": 62,
   "id": "833a2210-6557-49f9-9958-409c07ddb303",
   "metadata": {
    "tags": []
   },
   "outputs": [],
   "source": [
    "using DelimitedFiles\n"
   ]
  },
  {
   "cell_type": "code",
   "execution_count": 64,
   "id": "1e08ee05-5b07-4178-ba84-51f122af7521",
   "metadata": {
    "scrolled": true,
    "tags": []
   },
   "outputs": [
    {
     "data": {
      "text/latex": [
       "\\begin{verbatim}\n",
       "readdlm(source, T::Type; options...)\n",
       "\\end{verbatim}\n",
       "The columns are assumed to be separated by one or more whitespaces. The end of line delimiter is taken as \\texttt{{\\textbackslash}n}.\n",
       "\n",
       "\\section{Examples}\n",
       "\\begin{verbatim}\n",
       "julia> using DelimitedFiles\n",
       "\n",
       "julia> x = [1; 2; 3; 4];\n",
       "\n",
       "julia> y = [5; 6; 7; 8];\n",
       "\n",
       "julia> open(\"delim_file.txt\", \"w\") do io\n",
       "           writedlm(io, [x y])\n",
       "       end;\n",
       "\n",
       "julia> readdlm(\"delim_file.txt\", Int64)\n",
       "4×2 Matrix{Int64}:\n",
       " 1  5\n",
       " 2  6\n",
       " 3  7\n",
       " 4  8\n",
       "\n",
       "julia> readdlm(\"delim_file.txt\", Float64)\n",
       "4×2 Matrix{Float64}:\n",
       " 1.0  5.0\n",
       " 2.0  6.0\n",
       " 3.0  7.0\n",
       " 4.0  8.0\n",
       "\n",
       "julia> rm(\"delim_file.txt\")\n",
       "\\end{verbatim}\n",
       "\\rule{\\textwidth}{1pt}\n",
       "\\begin{verbatim}\n",
       "readdlm(source, delim::AbstractChar, T::Type; options...)\n",
       "\\end{verbatim}\n",
       "The end of line delimiter is taken as \\texttt{{\\textbackslash}n}.\n",
       "\n",
       "\\section{Examples}\n",
       "\\begin{verbatim}\n",
       "julia> using DelimitedFiles\n",
       "\n",
       "julia> x = [1; 2; 3; 4];\n",
       "\n",
       "julia> y = [1.1; 2.2; 3.3; 4.4];\n",
       "\n",
       "julia> open(\"delim_file.txt\", \"w\") do io\n",
       "           writedlm(io, [x y], ',')\n",
       "       end;\n",
       "\n",
       "julia> readdlm(\"delim_file.txt\", ',', Float64)\n",
       "4×2 Matrix{Float64}:\n",
       " 1.0  1.1\n",
       " 2.0  2.2\n",
       " 3.0  3.3\n",
       " 4.0  4.4\n",
       "\n",
       "julia> rm(\"delim_file.txt\")\n",
       "\\end{verbatim}\n",
       "\\rule{\\textwidth}{1pt}\n",
       "\\begin{verbatim}\n",
       "readdlm(source; options...)\n",
       "\\end{verbatim}\n",
       "The columns are assumed to be separated by one or more whitespaces. The end of line delimiter is taken as \\texttt{{\\textbackslash}n}. If all data is numeric, the result will be a numeric array. If some elements cannot be parsed as numbers, a heterogeneous array of numbers and strings is returned.\n",
       "\n",
       "\\section{Examples}\n",
       "\\begin{verbatim}\n",
       "julia> using DelimitedFiles\n",
       "\n",
       "julia> x = [1; 2; 3; 4];\n",
       "\n",
       "julia> y = [\"a\"; \"b\"; \"c\"; \"d\"];\n",
       "\n",
       "julia> open(\"delim_file.txt\", \"w\") do io\n",
       "           writedlm(io, [x y])\n",
       "       end;\n",
       "\n",
       "julia> readdlm(\"delim_file.txt\")\n",
       "4×2 Matrix{Any}:\n",
       " 1  \"a\"\n",
       " 2  \"b\"\n",
       " 3  \"c\"\n",
       " 4  \"d\"\n",
       "\n",
       "julia> rm(\"delim_file.txt\")\n",
       "\\end{verbatim}\n",
       "\\rule{\\textwidth}{1pt}\n",
       "\\begin{verbatim}\n",
       "readdlm(source, delim::AbstractChar; options...)\n",
       "\\end{verbatim}\n",
       "The end of line delimiter is taken as \\texttt{{\\textbackslash}n}. If all data is numeric, the result will be a numeric array. If some elements cannot be parsed as numbers, a heterogeneous array of numbers and strings is returned.\n",
       "\n",
       "\\section{Examples}\n",
       "\\begin{verbatim}\n",
       "julia> using DelimitedFiles\n",
       "\n",
       "julia> x = [1; 2; 3; 4];\n",
       "\n",
       "julia> y = [1.1; 2.2; 3.3; 4.4];\n",
       "\n",
       "julia> open(\"delim_file.txt\", \"w\") do io\n",
       "           writedlm(io, [x y], ',')\n",
       "       end;\n",
       "\n",
       "julia> readdlm(\"delim_file.txt\", ',')\n",
       "4×2 Matrix{Float64}:\n",
       " 1.0  1.1\n",
       " 2.0  2.2\n",
       " 3.0  3.3\n",
       " 4.0  4.4\n",
       "\n",
       "julia> z = [\"a\"; \"b\"; \"c\"; \"d\"];\n",
       "\n",
       "julia> open(\"delim_file.txt\", \"w\") do io\n",
       "           writedlm(io, [x z], ',')\n",
       "       end;\n",
       "\n",
       "julia> readdlm(\"delim_file.txt\", ',')\n",
       "4×2 Matrix{Any}:\n",
       " 1  \"a\"\n",
       " 2  \"b\"\n",
       " 3  \"c\"\n",
       " 4  \"d\"\n",
       "\n",
       "julia> rm(\"delim_file.txt\")\n",
       "\\end{verbatim}\n",
       "\\rule{\\textwidth}{1pt}\n",
       "\\begin{verbatim}\n",
       "readdlm(source, delim::AbstractChar, eol::AbstractChar; options...)\n",
       "\\end{verbatim}\n",
       "If all data is numeric, the result will be a numeric array. If some elements cannot be parsed as numbers, a heterogeneous array of numbers and strings is returned.\n",
       "\n",
       "\\rule{\\textwidth}{1pt}\n",
       "\\begin{verbatim}\n",
       "readdlm(source, delim::AbstractChar, T::Type, eol::AbstractChar; header=false, skipstart=0, skipblanks=true, use_mmap, quotes=true, dims, comments=false, comment_char='#')\n",
       "\\end{verbatim}\n",
       "Read a matrix from the source where each line (separated by \\texttt{eol}) gives one row, with elements separated by the given delimiter. The source can be a text file, stream or byte array. Memory mapped files can be used by passing the byte array representation of the mapped segment as source.\n",
       "\n",
       "If \\texttt{T} is a numeric type, the result is an array of that type, with any non-numeric elements as \\texttt{NaN} for floating-point types, or zero. Other useful values of \\texttt{T} include \\texttt{String}, \\texttt{AbstractString}, and \\texttt{Any}.\n",
       "\n",
       "If \\texttt{header} is \\texttt{true}, the first row of data will be read as header and the tuple \\texttt{(data\\_cells, header\\_cells)} is returned instead of only \\texttt{data\\_cells}.\n",
       "\n",
       "Specifying \\texttt{skipstart} will ignore the corresponding number of initial lines from the input.\n",
       "\n",
       "If \\texttt{skipblanks} is \\texttt{true}, blank lines in the input will be ignored.\n",
       "\n",
       "If \\texttt{use\\_mmap} is \\texttt{true}, the file specified by \\texttt{source} is memory mapped for potential speedups if the file is large. Default is \\texttt{false}. On a Windows filesystem, \\texttt{use\\_mmap} should not be set to \\texttt{true} unless the file is only read once and is also not written to. Some edge cases exist where an OS is Unix-like but the filesystem is Windows-like.\n",
       "\n",
       "If \\texttt{quotes} is \\texttt{true}, columns enclosed within double-quote (\") characters are allowed to contain new lines and column delimiters. Double-quote characters within a quoted field must be escaped with another double-quote.  Specifying \\texttt{dims} as a tuple of the expected rows and columns (including header, if any) may speed up reading of large files.  If \\texttt{comments} is \\texttt{true}, lines beginning with \\texttt{comment\\_char} and text following \\texttt{comment\\_char} in any line are ignored.\n",
       "\n",
       "\\section{Examples}\n",
       "\\begin{verbatim}\n",
       "julia> using DelimitedFiles\n",
       "\n",
       "julia> x = [1; 2; 3; 4];\n",
       "\n",
       "julia> y = [5; 6; 7; 8];\n",
       "\n",
       "julia> open(\"delim_file.txt\", \"w\") do io\n",
       "           writedlm(io, [x y])\n",
       "       end\n",
       "\n",
       "julia> readdlm(\"delim_file.txt\", '\\t', Int, '\\n')\n",
       "4×2 Matrix{Int64}:\n",
       " 1  5\n",
       " 2  6\n",
       " 3  7\n",
       " 4  8\n",
       "\n",
       "julia> rm(\"delim_file.txt\")\n",
       "\\end{verbatim}\n"
      ],
      "text/markdown": [
       "```\n",
       "readdlm(source, T::Type; options...)\n",
       "```\n",
       "\n",
       "The columns are assumed to be separated by one or more whitespaces. The end of line delimiter is taken as `\\n`.\n",
       "\n",
       "# Examples\n",
       "\n",
       "```jldoctest\n",
       "julia> using DelimitedFiles\n",
       "\n",
       "julia> x = [1; 2; 3; 4];\n",
       "\n",
       "julia> y = [5; 6; 7; 8];\n",
       "\n",
       "julia> open(\"delim_file.txt\", \"w\") do io\n",
       "           writedlm(io, [x y])\n",
       "       end;\n",
       "\n",
       "julia> readdlm(\"delim_file.txt\", Int64)\n",
       "4×2 Matrix{Int64}:\n",
       " 1  5\n",
       " 2  6\n",
       " 3  7\n",
       " 4  8\n",
       "\n",
       "julia> readdlm(\"delim_file.txt\", Float64)\n",
       "4×2 Matrix{Float64}:\n",
       " 1.0  5.0\n",
       " 2.0  6.0\n",
       " 3.0  7.0\n",
       " 4.0  8.0\n",
       "\n",
       "julia> rm(\"delim_file.txt\")\n",
       "```\n",
       "\n",
       "---\n",
       "\n",
       "```\n",
       "readdlm(source, delim::AbstractChar, T::Type; options...)\n",
       "```\n",
       "\n",
       "The end of line delimiter is taken as `\\n`.\n",
       "\n",
       "# Examples\n",
       "\n",
       "```jldoctest\n",
       "julia> using DelimitedFiles\n",
       "\n",
       "julia> x = [1; 2; 3; 4];\n",
       "\n",
       "julia> y = [1.1; 2.2; 3.3; 4.4];\n",
       "\n",
       "julia> open(\"delim_file.txt\", \"w\") do io\n",
       "           writedlm(io, [x y], ',')\n",
       "       end;\n",
       "\n",
       "julia> readdlm(\"delim_file.txt\", ',', Float64)\n",
       "4×2 Matrix{Float64}:\n",
       " 1.0  1.1\n",
       " 2.0  2.2\n",
       " 3.0  3.3\n",
       " 4.0  4.4\n",
       "\n",
       "julia> rm(\"delim_file.txt\")\n",
       "```\n",
       "\n",
       "---\n",
       "\n",
       "```\n",
       "readdlm(source; options...)\n",
       "```\n",
       "\n",
       "The columns are assumed to be separated by one or more whitespaces. The end of line delimiter is taken as `\\n`. If all data is numeric, the result will be a numeric array. If some elements cannot be parsed as numbers, a heterogeneous array of numbers and strings is returned.\n",
       "\n",
       "# Examples\n",
       "\n",
       "```jldoctest\n",
       "julia> using DelimitedFiles\n",
       "\n",
       "julia> x = [1; 2; 3; 4];\n",
       "\n",
       "julia> y = [\"a\"; \"b\"; \"c\"; \"d\"];\n",
       "\n",
       "julia> open(\"delim_file.txt\", \"w\") do io\n",
       "           writedlm(io, [x y])\n",
       "       end;\n",
       "\n",
       "julia> readdlm(\"delim_file.txt\")\n",
       "4×2 Matrix{Any}:\n",
       " 1  \"a\"\n",
       " 2  \"b\"\n",
       " 3  \"c\"\n",
       " 4  \"d\"\n",
       "\n",
       "julia> rm(\"delim_file.txt\")\n",
       "```\n",
       "\n",
       "---\n",
       "\n",
       "```\n",
       "readdlm(source, delim::AbstractChar; options...)\n",
       "```\n",
       "\n",
       "The end of line delimiter is taken as `\\n`. If all data is numeric, the result will be a numeric array. If some elements cannot be parsed as numbers, a heterogeneous array of numbers and strings is returned.\n",
       "\n",
       "# Examples\n",
       "\n",
       "```jldoctest\n",
       "julia> using DelimitedFiles\n",
       "\n",
       "julia> x = [1; 2; 3; 4];\n",
       "\n",
       "julia> y = [1.1; 2.2; 3.3; 4.4];\n",
       "\n",
       "julia> open(\"delim_file.txt\", \"w\") do io\n",
       "           writedlm(io, [x y], ',')\n",
       "       end;\n",
       "\n",
       "julia> readdlm(\"delim_file.txt\", ',')\n",
       "4×2 Matrix{Float64}:\n",
       " 1.0  1.1\n",
       " 2.0  2.2\n",
       " 3.0  3.3\n",
       " 4.0  4.4\n",
       "\n",
       "julia> z = [\"a\"; \"b\"; \"c\"; \"d\"];\n",
       "\n",
       "julia> open(\"delim_file.txt\", \"w\") do io\n",
       "           writedlm(io, [x z], ',')\n",
       "       end;\n",
       "\n",
       "julia> readdlm(\"delim_file.txt\", ',')\n",
       "4×2 Matrix{Any}:\n",
       " 1  \"a\"\n",
       " 2  \"b\"\n",
       " 3  \"c\"\n",
       " 4  \"d\"\n",
       "\n",
       "julia> rm(\"delim_file.txt\")\n",
       "```\n",
       "\n",
       "---\n",
       "\n",
       "```\n",
       "readdlm(source, delim::AbstractChar, eol::AbstractChar; options...)\n",
       "```\n",
       "\n",
       "If all data is numeric, the result will be a numeric array. If some elements cannot be parsed as numbers, a heterogeneous array of numbers and strings is returned.\n",
       "\n",
       "---\n",
       "\n",
       "```\n",
       "readdlm(source, delim::AbstractChar, T::Type, eol::AbstractChar; header=false, skipstart=0, skipblanks=true, use_mmap, quotes=true, dims, comments=false, comment_char='#')\n",
       "```\n",
       "\n",
       "Read a matrix from the source where each line (separated by `eol`) gives one row, with elements separated by the given delimiter. The source can be a text file, stream or byte array. Memory mapped files can be used by passing the byte array representation of the mapped segment as source.\n",
       "\n",
       "If `T` is a numeric type, the result is an array of that type, with any non-numeric elements as `NaN` for floating-point types, or zero. Other useful values of `T` include `String`, `AbstractString`, and `Any`.\n",
       "\n",
       "If `header` is `true`, the first row of data will be read as header and the tuple `(data_cells, header_cells)` is returned instead of only `data_cells`.\n",
       "\n",
       "Specifying `skipstart` will ignore the corresponding number of initial lines from the input.\n",
       "\n",
       "If `skipblanks` is `true`, blank lines in the input will be ignored.\n",
       "\n",
       "If `use_mmap` is `true`, the file specified by `source` is memory mapped for potential speedups if the file is large. Default is `false`. On a Windows filesystem, `use_mmap` should not be set to `true` unless the file is only read once and is also not written to. Some edge cases exist where an OS is Unix-like but the filesystem is Windows-like.\n",
       "\n",
       "If `quotes` is `true`, columns enclosed within double-quote (\") characters are allowed to contain new lines and column delimiters. Double-quote characters within a quoted field must be escaped with another double-quote.  Specifying `dims` as a tuple of the expected rows and columns (including header, if any) may speed up reading of large files.  If `comments` is `true`, lines beginning with `comment_char` and text following `comment_char` in any line are ignored.\n",
       "\n",
       "# Examples\n",
       "\n",
       "```jldoctest\n",
       "julia> using DelimitedFiles\n",
       "\n",
       "julia> x = [1; 2; 3; 4];\n",
       "\n",
       "julia> y = [5; 6; 7; 8];\n",
       "\n",
       "julia> open(\"delim_file.txt\", \"w\") do io\n",
       "           writedlm(io, [x y])\n",
       "       end\n",
       "\n",
       "julia> readdlm(\"delim_file.txt\", '\\t', Int, '\\n')\n",
       "4×2 Matrix{Int64}:\n",
       " 1  5\n",
       " 2  6\n",
       " 3  7\n",
       " 4  8\n",
       "\n",
       "julia> rm(\"delim_file.txt\")\n",
       "```\n"
      ],
      "text/plain": [
       "\u001b[36m  readdlm(source, T::Type; options...)\u001b[39m\n",
       "\n",
       "  The columns are assumed to be separated by one or more whitespaces. The end\n",
       "  of line delimiter is taken as \u001b[36m\\n\u001b[39m.\n",
       "\n",
       "\u001b[1m  Examples\u001b[22m\n",
       "\u001b[1m  ≡≡≡≡≡≡≡≡\u001b[22m\n",
       "\n",
       "\u001b[36m  julia> using DelimitedFiles\u001b[39m\n",
       "\u001b[36m  \u001b[39m\n",
       "\u001b[36m  julia> x = [1; 2; 3; 4];\u001b[39m\n",
       "\u001b[36m  \u001b[39m\n",
       "\u001b[36m  julia> y = [5; 6; 7; 8];\u001b[39m\n",
       "\u001b[36m  \u001b[39m\n",
       "\u001b[36m  julia> open(\"delim_file.txt\", \"w\") do io\u001b[39m\n",
       "\u001b[36m             writedlm(io, [x y])\u001b[39m\n",
       "\u001b[36m         end;\u001b[39m\n",
       "\u001b[36m  \u001b[39m\n",
       "\u001b[36m  julia> readdlm(\"delim_file.txt\", Int64)\u001b[39m\n",
       "\u001b[36m  4×2 Matrix{Int64}:\u001b[39m\n",
       "\u001b[36m   1  5\u001b[39m\n",
       "\u001b[36m   2  6\u001b[39m\n",
       "\u001b[36m   3  7\u001b[39m\n",
       "\u001b[36m   4  8\u001b[39m\n",
       "\u001b[36m  \u001b[39m\n",
       "\u001b[36m  julia> readdlm(\"delim_file.txt\", Float64)\u001b[39m\n",
       "\u001b[36m  4×2 Matrix{Float64}:\u001b[39m\n",
       "\u001b[36m   1.0  5.0\u001b[39m\n",
       "\u001b[36m   2.0  6.0\u001b[39m\n",
       "\u001b[36m   3.0  7.0\u001b[39m\n",
       "\u001b[36m   4.0  8.0\u001b[39m\n",
       "\u001b[36m  \u001b[39m\n",
       "\u001b[36m  julia> rm(\"delim_file.txt\")\u001b[39m\n",
       "\n",
       "  ────────────────────────────────────────────────────────────────────────────\n",
       "\n",
       "\u001b[36m  readdlm(source, delim::AbstractChar, T::Type; options...)\u001b[39m\n",
       "\n",
       "  The end of line delimiter is taken as \u001b[36m\\n\u001b[39m.\n",
       "\n",
       "\u001b[1m  Examples\u001b[22m\n",
       "\u001b[1m  ≡≡≡≡≡≡≡≡\u001b[22m\n",
       "\n",
       "\u001b[36m  julia> using DelimitedFiles\u001b[39m\n",
       "\u001b[36m  \u001b[39m\n",
       "\u001b[36m  julia> x = [1; 2; 3; 4];\u001b[39m\n",
       "\u001b[36m  \u001b[39m\n",
       "\u001b[36m  julia> y = [1.1; 2.2; 3.3; 4.4];\u001b[39m\n",
       "\u001b[36m  \u001b[39m\n",
       "\u001b[36m  julia> open(\"delim_file.txt\", \"w\") do io\u001b[39m\n",
       "\u001b[36m             writedlm(io, [x y], ',')\u001b[39m\n",
       "\u001b[36m         end;\u001b[39m\n",
       "\u001b[36m  \u001b[39m\n",
       "\u001b[36m  julia> readdlm(\"delim_file.txt\", ',', Float64)\u001b[39m\n",
       "\u001b[36m  4×2 Matrix{Float64}:\u001b[39m\n",
       "\u001b[36m   1.0  1.1\u001b[39m\n",
       "\u001b[36m   2.0  2.2\u001b[39m\n",
       "\u001b[36m   3.0  3.3\u001b[39m\n",
       "\u001b[36m   4.0  4.4\u001b[39m\n",
       "\u001b[36m  \u001b[39m\n",
       "\u001b[36m  julia> rm(\"delim_file.txt\")\u001b[39m\n",
       "\n",
       "  ────────────────────────────────────────────────────────────────────────────\n",
       "\n",
       "\u001b[36m  readdlm(source; options...)\u001b[39m\n",
       "\n",
       "  The columns are assumed to be separated by one or more whitespaces. The end\n",
       "  of line delimiter is taken as \u001b[36m\\n\u001b[39m. If all data is numeric, the result will be\n",
       "  a numeric array. If some elements cannot be parsed as numbers, a\n",
       "  heterogeneous array of numbers and strings is returned.\n",
       "\n",
       "\u001b[1m  Examples\u001b[22m\n",
       "\u001b[1m  ≡≡≡≡≡≡≡≡\u001b[22m\n",
       "\n",
       "\u001b[36m  julia> using DelimitedFiles\u001b[39m\n",
       "\u001b[36m  \u001b[39m\n",
       "\u001b[36m  julia> x = [1; 2; 3; 4];\u001b[39m\n",
       "\u001b[36m  \u001b[39m\n",
       "\u001b[36m  julia> y = [\"a\"; \"b\"; \"c\"; \"d\"];\u001b[39m\n",
       "\u001b[36m  \u001b[39m\n",
       "\u001b[36m  julia> open(\"delim_file.txt\", \"w\") do io\u001b[39m\n",
       "\u001b[36m             writedlm(io, [x y])\u001b[39m\n",
       "\u001b[36m         end;\u001b[39m\n",
       "\u001b[36m  \u001b[39m\n",
       "\u001b[36m  julia> readdlm(\"delim_file.txt\")\u001b[39m\n",
       "\u001b[36m  4×2 Matrix{Any}:\u001b[39m\n",
       "\u001b[36m   1  \"a\"\u001b[39m\n",
       "\u001b[36m   2  \"b\"\u001b[39m\n",
       "\u001b[36m   3  \"c\"\u001b[39m\n",
       "\u001b[36m   4  \"d\"\u001b[39m\n",
       "\u001b[36m  \u001b[39m\n",
       "\u001b[36m  julia> rm(\"delim_file.txt\")\u001b[39m\n",
       "\n",
       "  ────────────────────────────────────────────────────────────────────────────\n",
       "\n",
       "\u001b[36m  readdlm(source, delim::AbstractChar; options...)\u001b[39m\n",
       "\n",
       "  The end of line delimiter is taken as \u001b[36m\\n\u001b[39m. If all data is numeric, the result\n",
       "  will be a numeric array. If some elements cannot be parsed as numbers, a\n",
       "  heterogeneous array of numbers and strings is returned.\n",
       "\n",
       "\u001b[1m  Examples\u001b[22m\n",
       "\u001b[1m  ≡≡≡≡≡≡≡≡\u001b[22m\n",
       "\n",
       "\u001b[36m  julia> using DelimitedFiles\u001b[39m\n",
       "\u001b[36m  \u001b[39m\n",
       "\u001b[36m  julia> x = [1; 2; 3; 4];\u001b[39m\n",
       "\u001b[36m  \u001b[39m\n",
       "\u001b[36m  julia> y = [1.1; 2.2; 3.3; 4.4];\u001b[39m\n",
       "\u001b[36m  \u001b[39m\n",
       "\u001b[36m  julia> open(\"delim_file.txt\", \"w\") do io\u001b[39m\n",
       "\u001b[36m             writedlm(io, [x y], ',')\u001b[39m\n",
       "\u001b[36m         end;\u001b[39m\n",
       "\u001b[36m  \u001b[39m\n",
       "\u001b[36m  julia> readdlm(\"delim_file.txt\", ',')\u001b[39m\n",
       "\u001b[36m  4×2 Matrix{Float64}:\u001b[39m\n",
       "\u001b[36m   1.0  1.1\u001b[39m\n",
       "\u001b[36m   2.0  2.2\u001b[39m\n",
       "\u001b[36m   3.0  3.3\u001b[39m\n",
       "\u001b[36m   4.0  4.4\u001b[39m\n",
       "\u001b[36m  \u001b[39m\n",
       "\u001b[36m  julia> z = [\"a\"; \"b\"; \"c\"; \"d\"];\u001b[39m\n",
       "\u001b[36m  \u001b[39m\n",
       "\u001b[36m  julia> open(\"delim_file.txt\", \"w\") do io\u001b[39m\n",
       "\u001b[36m             writedlm(io, [x z], ',')\u001b[39m\n",
       "\u001b[36m         end;\u001b[39m\n",
       "\u001b[36m  \u001b[39m\n",
       "\u001b[36m  julia> readdlm(\"delim_file.txt\", ',')\u001b[39m\n",
       "\u001b[36m  4×2 Matrix{Any}:\u001b[39m\n",
       "\u001b[36m   1  \"a\"\u001b[39m\n",
       "\u001b[36m   2  \"b\"\u001b[39m\n",
       "\u001b[36m   3  \"c\"\u001b[39m\n",
       "\u001b[36m   4  \"d\"\u001b[39m\n",
       "\u001b[36m  \u001b[39m\n",
       "\u001b[36m  julia> rm(\"delim_file.txt\")\u001b[39m\n",
       "\n",
       "  ────────────────────────────────────────────────────────────────────────────\n",
       "\n",
       "\u001b[36m  readdlm(source, delim::AbstractChar, eol::AbstractChar; options...)\u001b[39m\n",
       "\n",
       "  If all data is numeric, the result will be a numeric array. If some elements\n",
       "  cannot be parsed as numbers, a heterogeneous array of numbers and strings is\n",
       "  returned.\n",
       "\n",
       "  ────────────────────────────────────────────────────────────────────────────\n",
       "\n",
       "\u001b[36m  readdlm(source, delim::AbstractChar, T::Type, eol::AbstractChar; header=false, skipstart=0, skipblanks=true, use_mmap, quotes=true, dims, comments=false, comment_char='#')\u001b[39m\n",
       "\n",
       "  Read a matrix from the source where each line (separated by \u001b[36meol\u001b[39m) gives one\n",
       "  row, with elements separated by the given delimiter. The source can be a\n",
       "  text file, stream or byte array. Memory mapped files can be used by passing\n",
       "  the byte array representation of the mapped segment as source.\n",
       "\n",
       "  If \u001b[36mT\u001b[39m is a numeric type, the result is an array of that type, with any\n",
       "  non-numeric elements as \u001b[36mNaN\u001b[39m for floating-point types, or zero. Other useful\n",
       "  values of \u001b[36mT\u001b[39m include \u001b[36mString\u001b[39m, \u001b[36mAbstractString\u001b[39m, and \u001b[36mAny\u001b[39m.\n",
       "\n",
       "  If \u001b[36mheader\u001b[39m is \u001b[36mtrue\u001b[39m, the first row of data will be read as header and the\n",
       "  tuple \u001b[36m(data_cells, header_cells)\u001b[39m is returned instead of only \u001b[36mdata_cells\u001b[39m.\n",
       "\n",
       "  Specifying \u001b[36mskipstart\u001b[39m will ignore the corresponding number of initial lines\n",
       "  from the input.\n",
       "\n",
       "  If \u001b[36mskipblanks\u001b[39m is \u001b[36mtrue\u001b[39m, blank lines in the input will be ignored.\n",
       "\n",
       "  If \u001b[36muse_mmap\u001b[39m is \u001b[36mtrue\u001b[39m, the file specified by \u001b[36msource\u001b[39m is memory mapped for\n",
       "  potential speedups if the file is large. Default is \u001b[36mfalse\u001b[39m. On a Windows\n",
       "  filesystem, \u001b[36muse_mmap\u001b[39m should not be set to \u001b[36mtrue\u001b[39m unless the file is only read\n",
       "  once and is also not written to. Some edge cases exist where an OS is\n",
       "  Unix-like but the filesystem is Windows-like.\n",
       "\n",
       "  If \u001b[36mquotes\u001b[39m is \u001b[36mtrue\u001b[39m, columns enclosed within double-quote (\") characters are\n",
       "  allowed to contain new lines and column delimiters. Double-quote characters\n",
       "  within a quoted field must be escaped with another double-quote. Specifying\n",
       "  \u001b[36mdims\u001b[39m as a tuple of the expected rows and columns (including header, if any)\n",
       "  may speed up reading of large files. If \u001b[36mcomments\u001b[39m is \u001b[36mtrue\u001b[39m, lines beginning\n",
       "  with \u001b[36mcomment_char\u001b[39m and text following \u001b[36mcomment_char\u001b[39m in any line are ignored.\n",
       "\n",
       "\u001b[1m  Examples\u001b[22m\n",
       "\u001b[1m  ≡≡≡≡≡≡≡≡\u001b[22m\n",
       "\n",
       "\u001b[36m  julia> using DelimitedFiles\u001b[39m\n",
       "\u001b[36m  \u001b[39m\n",
       "\u001b[36m  julia> x = [1; 2; 3; 4];\u001b[39m\n",
       "\u001b[36m  \u001b[39m\n",
       "\u001b[36m  julia> y = [5; 6; 7; 8];\u001b[39m\n",
       "\u001b[36m  \u001b[39m\n",
       "\u001b[36m  julia> open(\"delim_file.txt\", \"w\") do io\u001b[39m\n",
       "\u001b[36m             writedlm(io, [x y])\u001b[39m\n",
       "\u001b[36m         end\u001b[39m\n",
       "\u001b[36m  \u001b[39m\n",
       "\u001b[36m  julia> readdlm(\"delim_file.txt\", '\\t', Int, '\\n')\u001b[39m\n",
       "\u001b[36m  4×2 Matrix{Int64}:\u001b[39m\n",
       "\u001b[36m   1  5\u001b[39m\n",
       "\u001b[36m   2  6\u001b[39m\n",
       "\u001b[36m   3  7\u001b[39m\n",
       "\u001b[36m   4  8\u001b[39m\n",
       "\u001b[36m  \u001b[39m\n",
       "\u001b[36m  julia> rm(\"delim_file.txt\")\u001b[39m"
      ]
     },
     "execution_count": 64,
     "metadata": {},
     "output_type": "execute_result"
    }
   ],
   "source": [
    "?readdlm()"
   ]
  },
  {
   "cell_type": "code",
   "execution_count": 11,
   "id": "8940a6f2-3d57-4c13-97e4-3fbb2f100975",
   "metadata": {
    "tags": []
   },
   "outputs": [
    {
     "data": {
      "text/plain": [
       "5×2 Matrix{Int32}:\n",
       " 1   6\n",
       " 2   7\n",
       " 3   8\n",
       " 4   9\n",
       " 5  10"
      ]
     },
     "execution_count": 11,
     "metadata": {},
     "output_type": "execute_result"
    }
   ],
   "source": [
    "using DelimitedFiles\n",
    "x = [1; 2; 3; 4; 5];\n",
    "y = [6; 7; 8; 9; 10];\n",
    "open(\"delim_file.txt\", \"w\") do io\n",
    "    writedlm(io, [x y])\n",
    "end;\n",
    "readdlm(\"delim_file.txt\", Int32)"
   ]
  },
  {
   "cell_type": "code",
   "execution_count": 14,
   "id": "dd958158-1651-4f0d-aa5e-886622bf68c5",
   "metadata": {
    "tags": []
   },
   "outputs": [
    {
     "data": {
      "text/plain": [
       "5×2 Matrix{Float32}:\n",
       " 1.0   6.0\n",
       " 2.0   7.0\n",
       " 3.0   8.0\n",
       " 4.0   9.0\n",
       " 5.0  10.0"
      ]
     },
     "execution_count": 14,
     "metadata": {},
     "output_type": "execute_result"
    }
   ],
   "source": [
    "readdlm(\"delim_file.txt\", Float32)"
   ]
  },
  {
   "cell_type": "code",
   "execution_count": 72,
   "id": "8eb5bc7e-6535-41ac-bd7d-003b78f05bbc",
   "metadata": {
    "scrolled": true,
    "tags": []
   },
   "outputs": [
    {
     "data": {
      "text/latex": [
       "\\begin{verbatim}\n",
       "print([io::IO], xs...)\n",
       "\\end{verbatim}\n",
       "Write to \\texttt{io} (or to the default output stream \\href{@ref}{\\texttt{stdout}} if \\texttt{io} is not given) a canonical (un-decorated) text representation. The representation used by \\texttt{print} includes minimal formatting and tries to avoid Julia-specific details.\n",
       "\n",
       "\\texttt{print} falls back to calling \\texttt{show}, so most types should just define \\texttt{show}. Define \\texttt{print} if your type has a separate \"plain\" representation. For example, \\texttt{show} displays strings with quotes, and \\texttt{print} displays strings without quotes.\n",
       "\n",
       "See also \\href{@ref}{\\texttt{println}}, \\href{@ref}{\\texttt{string}}, \\href{@ref}{\\texttt{printstyled}}.\n",
       "\n",
       "\\section{Examples}\n",
       "\\begin{verbatim}\n",
       "julia> print(\"Hello World!\")\n",
       "Hello World!\n",
       "julia> io = IOBuffer();\n",
       "\n",
       "julia> print(io, \"Hello\", ' ', :World!)\n",
       "\n",
       "julia> String(take!(io))\n",
       "\"Hello World!\"\n",
       "\\end{verbatim}\n"
      ],
      "text/markdown": [
       "```\n",
       "print([io::IO], xs...)\n",
       "```\n",
       "\n",
       "Write to `io` (or to the default output stream [`stdout`](@ref) if `io` is not given) a canonical (un-decorated) text representation. The representation used by `print` includes minimal formatting and tries to avoid Julia-specific details.\n",
       "\n",
       "`print` falls back to calling `show`, so most types should just define `show`. Define `print` if your type has a separate \"plain\" representation. For example, `show` displays strings with quotes, and `print` displays strings without quotes.\n",
       "\n",
       "See also [`println`](@ref), [`string`](@ref), [`printstyled`](@ref).\n",
       "\n",
       "# Examples\n",
       "\n",
       "```jldoctest\n",
       "julia> print(\"Hello World!\")\n",
       "Hello World!\n",
       "julia> io = IOBuffer();\n",
       "\n",
       "julia> print(io, \"Hello\", ' ', :World!)\n",
       "\n",
       "julia> String(take!(io))\n",
       "\"Hello World!\"\n",
       "```\n"
      ],
      "text/plain": [
       "\u001b[36m  print([io::IO], xs...)\u001b[39m\n",
       "\n",
       "  Write to \u001b[36mio\u001b[39m (or to the default output stream \u001b[36mstdout\u001b[39m if \u001b[36mio\u001b[39m is not given) a\n",
       "  canonical (un-decorated) text representation. The representation used by\n",
       "  \u001b[36mprint\u001b[39m includes minimal formatting and tries to avoid Julia-specific details.\n",
       "\n",
       "  \u001b[36mprint\u001b[39m falls back to calling \u001b[36mshow\u001b[39m, so most types should just define \u001b[36mshow\u001b[39m.\n",
       "  Define \u001b[36mprint\u001b[39m if your type has a separate \"plain\" representation. For\n",
       "  example, \u001b[36mshow\u001b[39m displays strings with quotes, and \u001b[36mprint\u001b[39m displays strings\n",
       "  without quotes.\n",
       "\n",
       "  See also \u001b[36mprintln\u001b[39m, \u001b[36mstring\u001b[39m, \u001b[36mprintstyled\u001b[39m.\n",
       "\n",
       "\u001b[1m  Examples\u001b[22m\n",
       "\u001b[1m  ≡≡≡≡≡≡≡≡\u001b[22m\n",
       "\n",
       "\u001b[36m  julia> print(\"Hello World!\")\u001b[39m\n",
       "\u001b[36m  Hello World!\u001b[39m\n",
       "\u001b[36m  julia> io = IOBuffer();\u001b[39m\n",
       "\u001b[36m  \u001b[39m\n",
       "\u001b[36m  julia> print(io, \"Hello\", ' ', :World!)\u001b[39m\n",
       "\u001b[36m  \u001b[39m\n",
       "\u001b[36m  julia> String(take!(io))\u001b[39m\n",
       "\u001b[36m  \"Hello World!\"\u001b[39m"
      ]
     },
     "execution_count": 72,
     "metadata": {},
     "output_type": "execute_result"
    }
   ],
   "source": [
    "?print()"
   ]
  },
  {
   "cell_type": "code",
   "execution_count": 76,
   "id": "b69571f0-b8d0-42e9-84c9-bfce61c56a52",
   "metadata": {
    "tags": []
   },
   "outputs": [
    {
     "data": {
      "text/plain": [
       "\"Hi bro!\""
      ]
     },
     "execution_count": 76,
     "metadata": {},
     "output_type": "execute_result"
    }
   ],
   "source": [
    "io = IOBuffer();\n",
    "print(io, \"Hi\", ' ', :bro!)\n",
    "String(take!(io))"
   ]
  },
  {
   "cell_type": "code",
   "execution_count": 78,
   "id": "d1c4a65e-d328-49d8-898d-f7e6b137e048",
   "metadata": {
    "tags": []
   },
   "outputs": [
    {
     "name": "stdout",
     "output_type": "stream",
     "text": [
      "Hi, bro!"
     ]
    }
   ],
   "source": [
    "print(\"Hi, bro!\")"
   ]
  },
  {
   "cell_type": "code",
   "execution_count": 80,
   "id": "2ef432d7-41b3-4618-8a76-bf415d751e09",
   "metadata": {
    "scrolled": true,
    "tags": []
   },
   "outputs": [
    {
     "data": {
      "text/latex": [
       "\\begin{verbatim}\n",
       "println([io::IO], xs...)\n",
       "\\end{verbatim}\n",
       "Print (using \\href{@ref}{\\texttt{print}}) \\texttt{xs} to \\texttt{io} followed by a newline. If \\texttt{io} is not supplied, prints to the default output stream \\href{@ref}{\\texttt{stdout}}.\n",
       "\n",
       "See also \\href{@ref}{\\texttt{printstyled}} to add colors etc.\n",
       "\n",
       "\\section{Examples}\n",
       "\\begin{verbatim}\n",
       "julia> println(\"Hello, world\")\n",
       "Hello, world\n",
       "\n",
       "julia> io = IOBuffer();\n",
       "\n",
       "julia> println(io, \"Hello\", ',', \" world.\")\n",
       "\n",
       "julia> String(take!(io))\n",
       "\"Hello, world.\\n\"\n",
       "\\end{verbatim}\n"
      ],
      "text/markdown": [
       "```\n",
       "println([io::IO], xs...)\n",
       "```\n",
       "\n",
       "Print (using [`print`](@ref)) `xs` to `io` followed by a newline. If `io` is not supplied, prints to the default output stream [`stdout`](@ref).\n",
       "\n",
       "See also [`printstyled`](@ref) to add colors etc.\n",
       "\n",
       "# Examples\n",
       "\n",
       "```jldoctest\n",
       "julia> println(\"Hello, world\")\n",
       "Hello, world\n",
       "\n",
       "julia> io = IOBuffer();\n",
       "\n",
       "julia> println(io, \"Hello\", ',', \" world.\")\n",
       "\n",
       "julia> String(take!(io))\n",
       "\"Hello, world.\\n\"\n",
       "```\n"
      ],
      "text/plain": [
       "\u001b[36m  println([io::IO], xs...)\u001b[39m\n",
       "\n",
       "  Print (using \u001b[36mprint\u001b[39m) \u001b[36mxs\u001b[39m to \u001b[36mio\u001b[39m followed by a newline. If \u001b[36mio\u001b[39m is not supplied,\n",
       "  prints to the default output stream \u001b[36mstdout\u001b[39m.\n",
       "\n",
       "  See also \u001b[36mprintstyled\u001b[39m to add colors etc.\n",
       "\n",
       "\u001b[1m  Examples\u001b[22m\n",
       "\u001b[1m  ≡≡≡≡≡≡≡≡\u001b[22m\n",
       "\n",
       "\u001b[36m  julia> println(\"Hello, world\")\u001b[39m\n",
       "\u001b[36m  Hello, world\u001b[39m\n",
       "\u001b[36m  \u001b[39m\n",
       "\u001b[36m  julia> io = IOBuffer();\u001b[39m\n",
       "\u001b[36m  \u001b[39m\n",
       "\u001b[36m  julia> println(io, \"Hello\", ',', \" world.\")\u001b[39m\n",
       "\u001b[36m  \u001b[39m\n",
       "\u001b[36m  julia> String(take!(io))\u001b[39m\n",
       "\u001b[36m  \"Hello, world.\\n\"\u001b[39m"
      ]
     },
     "execution_count": 80,
     "metadata": {},
     "output_type": "execute_result"
    }
   ],
   "source": [
    "?println()"
   ]
  },
  {
   "cell_type": "code",
   "execution_count": 82,
   "id": "b034b9cb-7a75-44c6-8c5b-a82b5be1cba2",
   "metadata": {
    "tags": []
   },
   "outputs": [
    {
     "name": "stdout",
     "output_type": "stream",
     "text": [
      "Hi, bro\n"
     ]
    }
   ],
   "source": [
    "println(\"Hi, bro\")"
   ]
  },
  {
   "cell_type": "code",
   "execution_count": 84,
   "id": "d996f833-66b5-41f3-9874-29192549f11f",
   "metadata": {
    "tags": []
   },
   "outputs": [
    {
     "data": {
      "text/plain": [
       "\"Hi, bro.\\n\""
      ]
     },
     "execution_count": 84,
     "metadata": {},
     "output_type": "execute_result"
    }
   ],
   "source": [
    "io = IOBuffer();\n",
    "println(io, \"Hi\", ',', \" bro.\")\n",
    "String(take!(io))"
   ]
  },
  {
   "cell_type": "code",
   "execution_count": 86,
   "id": "5c08b716-8439-403a-8ea5-2afa2adf2b6c",
   "metadata": {
    "scrolled": true,
    "tags": []
   },
   "outputs": [
    {
     "data": {
      "text/latex": [
       "\\begin{verbatim}\n",
       "show([io::IO = stdout], x)\n",
       "\\end{verbatim}\n",
       "Write a text representation of a value \\texttt{x} to the output stream \\texttt{io}. New types \\texttt{T} should overload \\texttt{show(io::IO, x::T)}. The representation used by \\texttt{show} generally includes Julia-specific formatting and type information, and should be parseable Julia code when possible.\n",
       "\n",
       "\\href{@ref}{\\texttt{repr}} returns the output of \\texttt{show} as a string.\n",
       "\n",
       "For a more verbose human-readable text output for objects of type \\texttt{T}, define \\texttt{show(io::IO, ::MIME\"text/plain\", ::T)} in addition. Checking the \\texttt{:compact} \\href{@ref}{\\texttt{IOContext}} key (often checked as \\texttt{get(io, :compact, false)::Bool}) of \\texttt{io} in such methods is recommended, since some containers show their elements by calling this method with \\texttt{:compact => true}.\n",
       "\n",
       "See also \\href{@ref}{\\texttt{print}}, which writes un-decorated representations.\n",
       "\n",
       "\\section{Examples}\n",
       "\\begin{verbatim}\n",
       "julia> show(\"Hello World!\")\n",
       "\"Hello World!\"\n",
       "julia> print(\"Hello World!\")\n",
       "Hello World!\n",
       "\\end{verbatim}\n",
       "\\rule{\\textwidth}{1pt}\n",
       "\\begin{verbatim}\n",
       "show(io::IO, mime, x)\n",
       "\\end{verbatim}\n",
       "The \\href{@ref}{\\texttt{display}} functions ultimately call \\texttt{show} in order to write an object \\texttt{x} as a given \\texttt{mime} type to a given I/O stream \\texttt{io} (usually a memory buffer), if possible. In order to provide a rich multimedia representation of a user-defined type \\texttt{T}, it is only necessary to define a new \\texttt{show} method for \\texttt{T}, via: \\texttt{show(io, ::MIME\"mime\", x::T) = ...}, where \\texttt{mime} is a MIME-type string and the function body calls \\href{@ref}{\\texttt{write}} (or similar) to write that representation of \\texttt{x} to \\texttt{io}. (Note that the \\texttt{MIME\"\"} notation only supports literal strings; to construct \\texttt{MIME} types in a more flexible manner use \\texttt{MIME\\{Symbol(\"\")\\}}.)\n",
       "\n",
       "For example, if you define a \\texttt{MyImage} type and know how to write it to a PNG file, you could define a function \\texttt{show(io, ::MIME\"image/png\", x::MyImage) = ...} to allow your images to be displayed on any PNG-capable \\texttt{AbstractDisplay} (such as IJulia). As usual, be sure to \\texttt{import Base.show} in order to add new methods to the built-in Julia function \\texttt{show}.\n",
       "\n",
       "Technically, the \\texttt{MIME\"mime\"} macro defines a singleton type for the given \\texttt{mime} string, which allows us to exploit Julia's dispatch mechanisms in determining how to display objects of any given type.\n",
       "\n",
       "The default MIME type is \\texttt{MIME\"text/plain\"}. There is a fallback definition for \\texttt{text/plain} output that calls \\texttt{show} with 2 arguments, so it is not always necessary to add a method for that case. If a type benefits from custom human-readable output though, \\texttt{show(::IO, ::MIME\"text/plain\", ::T)} should be defined. For example, the \\texttt{Day} type uses \\texttt{1 day} as the output for the \\texttt{text/plain} MIME type, and \\texttt{Day(1)} as the output of 2-argument \\texttt{show}.\n",
       "\n",
       "\\section{Examples}\n",
       "\\begin{verbatim}\n",
       "julia> struct Day\n",
       "           n::Int\n",
       "       end\n",
       "\n",
       "julia> Base.show(io::IO, ::MIME\"text/plain\", d::Day) = print(io, d.n, \" day\")\n",
       "\n",
       "julia> Day(1)\n",
       "1 day\n",
       "\\end{verbatim}\n",
       "Container types generally implement 3-argument \\texttt{show} by calling \\texttt{show(io, MIME\"text/plain\"(), x)} for elements \\texttt{x}, with \\texttt{:compact => true} set in an \\href{@ref}{\\texttt{IOContext}} passed as the first argument.\n",
       "\n"
      ],
      "text/markdown": [
       "```\n",
       "show([io::IO = stdout], x)\n",
       "```\n",
       "\n",
       "Write a text representation of a value `x` to the output stream `io`. New types `T` should overload `show(io::IO, x::T)`. The representation used by `show` generally includes Julia-specific formatting and type information, and should be parseable Julia code when possible.\n",
       "\n",
       "[`repr`](@ref) returns the output of `show` as a string.\n",
       "\n",
       "For a more verbose human-readable text output for objects of type `T`, define `show(io::IO, ::MIME\"text/plain\", ::T)` in addition. Checking the `:compact` [`IOContext`](@ref) key (often checked as `get(io, :compact, false)::Bool`) of `io` in such methods is recommended, since some containers show their elements by calling this method with `:compact => true`.\n",
       "\n",
       "See also [`print`](@ref), which writes un-decorated representations.\n",
       "\n",
       "# Examples\n",
       "\n",
       "```jldoctest\n",
       "julia> show(\"Hello World!\")\n",
       "\"Hello World!\"\n",
       "julia> print(\"Hello World!\")\n",
       "Hello World!\n",
       "```\n",
       "\n",
       "---\n",
       "\n",
       "```\n",
       "show(io::IO, mime, x)\n",
       "```\n",
       "\n",
       "The [`display`](@ref) functions ultimately call `show` in order to write an object `x` as a given `mime` type to a given I/O stream `io` (usually a memory buffer), if possible. In order to provide a rich multimedia representation of a user-defined type `T`, it is only necessary to define a new `show` method for `T`, via: `show(io, ::MIME\"mime\", x::T) = ...`, where `mime` is a MIME-type string and the function body calls [`write`](@ref) (or similar) to write that representation of `x` to `io`. (Note that the `MIME\"\"` notation only supports literal strings; to construct `MIME` types in a more flexible manner use `MIME{Symbol(\"\")}`.)\n",
       "\n",
       "For example, if you define a `MyImage` type and know how to write it to a PNG file, you could define a function `show(io, ::MIME\"image/png\", x::MyImage) = ...` to allow your images to be displayed on any PNG-capable `AbstractDisplay` (such as IJulia). As usual, be sure to `import Base.show` in order to add new methods to the built-in Julia function `show`.\n",
       "\n",
       "Technically, the `MIME\"mime\"` macro defines a singleton type for the given `mime` string, which allows us to exploit Julia's dispatch mechanisms in determining how to display objects of any given type.\n",
       "\n",
       "The default MIME type is `MIME\"text/plain\"`. There is a fallback definition for `text/plain` output that calls `show` with 2 arguments, so it is not always necessary to add a method for that case. If a type benefits from custom human-readable output though, `show(::IO, ::MIME\"text/plain\", ::T)` should be defined. For example, the `Day` type uses `1 day` as the output for the `text/plain` MIME type, and `Day(1)` as the output of 2-argument `show`.\n",
       "\n",
       "# Examples\n",
       "\n",
       "```jldoctest\n",
       "julia> struct Day\n",
       "           n::Int\n",
       "       end\n",
       "\n",
       "julia> Base.show(io::IO, ::MIME\"text/plain\", d::Day) = print(io, d.n, \" day\")\n",
       "\n",
       "julia> Day(1)\n",
       "1 day\n",
       "```\n",
       "\n",
       "Container types generally implement 3-argument `show` by calling `show(io, MIME\"text/plain\"(), x)` for elements `x`, with `:compact => true` set in an [`IOContext`](@ref) passed as the first argument.\n"
      ],
      "text/plain": [
       "\u001b[36m  show([io::IO = stdout], x)\u001b[39m\n",
       "\n",
       "  Write a text representation of a value \u001b[36mx\u001b[39m to the output stream \u001b[36mio\u001b[39m. New types\n",
       "  \u001b[36mT\u001b[39m should overload \u001b[36mshow(io::IO, x::T)\u001b[39m. The representation used by \u001b[36mshow\u001b[39m\n",
       "  generally includes Julia-specific formatting and type information, and\n",
       "  should be parseable Julia code when possible.\n",
       "\n",
       "  \u001b[36mrepr\u001b[39m returns the output of \u001b[36mshow\u001b[39m as a string.\n",
       "\n",
       "  For a more verbose human-readable text output for objects of type \u001b[36mT\u001b[39m, define\n",
       "  \u001b[36mshow(io::IO, ::MIME\"text/plain\", ::T)\u001b[39m in addition. Checking the \u001b[36m:compact\u001b[39m\n",
       "  \u001b[36mIOContext\u001b[39m key (often checked as \u001b[36mget(io, :compact, false)::Bool\u001b[39m) of \u001b[36mio\u001b[39m in\n",
       "  such methods is recommended, since some containers show their elements by\n",
       "  calling this method with \u001b[36m:compact => true\u001b[39m.\n",
       "\n",
       "  See also \u001b[36mprint\u001b[39m, which writes un-decorated representations.\n",
       "\n",
       "\u001b[1m  Examples\u001b[22m\n",
       "\u001b[1m  ≡≡≡≡≡≡≡≡\u001b[22m\n",
       "\n",
       "\u001b[36m  julia> show(\"Hello World!\")\u001b[39m\n",
       "\u001b[36m  \"Hello World!\"\u001b[39m\n",
       "\u001b[36m  julia> print(\"Hello World!\")\u001b[39m\n",
       "\u001b[36m  Hello World!\u001b[39m\n",
       "\n",
       "  ────────────────────────────────────────────────────────────────────────────\n",
       "\n",
       "\u001b[36m  show(io::IO, mime, x)\u001b[39m\n",
       "\n",
       "  The \u001b[36mdisplay\u001b[39m functions ultimately call \u001b[36mshow\u001b[39m in order to write an object \u001b[36mx\u001b[39m as\n",
       "  a given \u001b[36mmime\u001b[39m type to a given I/O stream \u001b[36mio\u001b[39m (usually a memory buffer), if\n",
       "  possible. In order to provide a rich multimedia representation of a\n",
       "  user-defined type \u001b[36mT\u001b[39m, it is only necessary to define a new \u001b[36mshow\u001b[39m method for \u001b[36mT\u001b[39m,\n",
       "  via: \u001b[36mshow(io, ::MIME\"mime\", x::T) = ...\u001b[39m, where \u001b[36mmime\u001b[39m is a MIME-type string\n",
       "  and the function body calls \u001b[36mwrite\u001b[39m (or similar) to write that representation\n",
       "  of \u001b[36mx\u001b[39m to \u001b[36mio\u001b[39m. (Note that the \u001b[36mMIME\"\"\u001b[39m notation only supports literal strings; to\n",
       "  construct \u001b[36mMIME\u001b[39m types in a more flexible manner use \u001b[36mMIME{Symbol(\"\")}\u001b[39m.)\n",
       "\n",
       "  For example, if you define a \u001b[36mMyImage\u001b[39m type and know how to write it to a PNG\n",
       "  file, you could define a function \u001b[36mshow(io, ::MIME\"image/png\", x::MyImage) =\n",
       "  ...\u001b[39m to allow your images to be displayed on any PNG-capable \u001b[36mAbstractDisplay\u001b[39m\n",
       "  (such as IJulia). As usual, be sure to \u001b[36mimport Base.show\u001b[39m in order to add new\n",
       "  methods to the built-in Julia function \u001b[36mshow\u001b[39m.\n",
       "\n",
       "  Technically, the \u001b[36mMIME\"mime\"\u001b[39m macro defines a singleton type for the given\n",
       "  \u001b[36mmime\u001b[39m string, which allows us to exploit Julia's dispatch mechanisms in\n",
       "  determining how to display objects of any given type.\n",
       "\n",
       "  The default MIME type is \u001b[36mMIME\"text/plain\"\u001b[39m. There is a fallback definition\n",
       "  for \u001b[36mtext/plain\u001b[39m output that calls \u001b[36mshow\u001b[39m with 2 arguments, so it is not always\n",
       "  necessary to add a method for that case. If a type benefits from custom\n",
       "  human-readable output though, \u001b[36mshow(::IO, ::MIME\"text/plain\", ::T)\u001b[39m should be\n",
       "  defined. For example, the \u001b[36mDay\u001b[39m type uses \u001b[36m1 day\u001b[39m as the output for the\n",
       "  \u001b[36mtext/plain\u001b[39m MIME type, and \u001b[36mDay(1)\u001b[39m as the output of 2-argument \u001b[36mshow\u001b[39m.\n",
       "\n",
       "\u001b[1m  Examples\u001b[22m\n",
       "\u001b[1m  ≡≡≡≡≡≡≡≡\u001b[22m\n",
       "\n",
       "\u001b[36m  julia> struct Day\u001b[39m\n",
       "\u001b[36m             n::Int\u001b[39m\n",
       "\u001b[36m         end\u001b[39m\n",
       "\u001b[36m  \u001b[39m\n",
       "\u001b[36m  julia> Base.show(io::IO, ::MIME\"text/plain\", d::Day) = print(io, d.n, \" day\")\u001b[39m\n",
       "\u001b[36m  \u001b[39m\n",
       "\u001b[36m  julia> Day(1)\u001b[39m\n",
       "\u001b[36m  1 day\u001b[39m\n",
       "\n",
       "  Container types generally implement 3-argument \u001b[36mshow\u001b[39m by calling \u001b[36mshow(io,\n",
       "  MIME\"text/plain\"(), x)\u001b[39m for elements \u001b[36mx\u001b[39m, with \u001b[36m:compact => true\u001b[39m set in an\n",
       "  \u001b[36mIOContext\u001b[39m passed as the first argument."
      ]
     },
     "execution_count": 86,
     "metadata": {},
     "output_type": "execute_result"
    }
   ],
   "source": [
    "?show()"
   ]
  },
  {
   "cell_type": "code",
   "execution_count": 88,
   "id": "9537788f-6af0-4405-94bb-2003e5fc4a3b",
   "metadata": {
    "tags": []
   },
   "outputs": [
    {
     "name": "stdout",
     "output_type": "stream",
     "text": [
      "\"Hi, bro!\""
     ]
    }
   ],
   "source": [
    "show(\"Hi, bro!\")"
   ]
  },
  {
   "cell_type": "code",
   "execution_count": 93,
   "id": "ced8cfa9-aa6e-4dc8-8462-5a4aa9d672c8",
   "metadata": {
    "tags": []
   },
   "outputs": [
    {
     "data": {
      "text/plain": [
       "4月"
      ]
     },
     "execution_count": 93,
     "metadata": {},
     "output_type": "execute_result"
    }
   ],
   "source": [
    "struct 月\n",
    "           n::Int\n",
    "       end\n",
    "Base.show(io::IO, ::MIME\"text/plain\", d::月) = print(io, d.n, \"月\")\n",
    "月(4)"
   ]
  },
  {
   "cell_type": "code",
   "execution_count": 95,
   "id": "e0f11d56-5791-42e7-93d0-b2b9d9bf6867",
   "metadata": {
    "scrolled": true,
    "tags": []
   },
   "outputs": [
    {
     "data": {
      "text/latex": [
       "\\begin{verbatim}\n",
       "write(io::IO, x)\n",
       "\\end{verbatim}\n",
       "Write the canonical binary representation of a value to the given I/O stream or file. Return the number of bytes written into the stream. See also \\href{@ref}{\\texttt{print}} to write a text representation (with an encoding that may depend upon \\texttt{io}).\n",
       "\n",
       "The endianness of the written value depends on the endianness of the host system. Convert to/from a fixed endianness when writing/reading (e.g. using  \\href{@ref}{\\texttt{htol}} and \\href{@ref}{\\texttt{ltoh}}) to get results that are consistent across platforms.\n",
       "\n",
       "You can write multiple values with the same \\texttt{write} call. i.e. the following are equivalent:\n",
       "\n",
       "\\begin{verbatim}\n",
       "write(io, x, y...)\n",
       "write(io, x) + write(io, y...)\n",
       "\\end{verbatim}\n",
       "\\section{Examples}\n",
       "Consistent serialization:\n",
       "\n",
       "\\begin{verbatim}\n",
       "julia> fname = tempname(); # random temporary filename\n",
       "\n",
       "julia> open(fname,\"w\") do f\n",
       "           # Make sure we write 64bit integer in little-endian byte order\n",
       "           write(f,htol(Int64(42)))\n",
       "       end\n",
       "8\n",
       "\n",
       "julia> open(fname,\"r\") do f\n",
       "           # Convert back to host byte order and host integer type\n",
       "           Int(ltoh(read(f,Int64)))\n",
       "       end\n",
       "42\n",
       "\\end{verbatim}\n",
       "Merging write calls:\n",
       "\n",
       "\\begin{verbatim}\n",
       "julia> io = IOBuffer();\n",
       "\n",
       "julia> write(io, \"JuliaLang is a GitHub organization.\", \" It has many members.\")\n",
       "56\n",
       "\n",
       "julia> String(take!(io))\n",
       "\"JuliaLang is a GitHub organization. It has many members.\"\n",
       "\n",
       "julia> write(io, \"Sometimes those members\") + write(io, \" write documentation.\")\n",
       "44\n",
       "\n",
       "julia> String(take!(io))\n",
       "\"Sometimes those members write documentation.\"\n",
       "\\end{verbatim}\n",
       "User-defined plain-data types without \\texttt{write} methods can be written when wrapped in a \\texttt{Ref}:\n",
       "\n",
       "\\begin{verbatim}\n",
       "julia> struct MyStruct; x::Float64; end\n",
       "\n",
       "julia> io = IOBuffer()\n",
       "IOBuffer(data=UInt8[...], readable=true, writable=true, seekable=true, append=false, size=0, maxsize=Inf, ptr=1, mark=-1)\n",
       "\n",
       "julia> write(io, Ref(MyStruct(42.0)))\n",
       "8\n",
       "\n",
       "julia> seekstart(io); read!(io, Ref(MyStruct(NaN)))\n",
       "Base.RefValue{MyStruct}(MyStruct(42.0))\n",
       "\\end{verbatim}\n",
       "\\rule{\\textwidth}{1pt}\n",
       "\\begin{verbatim}\n",
       "write(filename::AbstractString, content)\n",
       "\\end{verbatim}\n",
       "Write the canonical binary representation of \\texttt{content} to a file, which will be created if it does not exist yet or overwritten if it does exist.\n",
       "\n",
       "Return the number of bytes written into the file.\n",
       "\n"
      ],
      "text/markdown": [
       "```\n",
       "write(io::IO, x)\n",
       "```\n",
       "\n",
       "Write the canonical binary representation of a value to the given I/O stream or file. Return the number of bytes written into the stream. See also [`print`](@ref) to write a text representation (with an encoding that may depend upon `io`).\n",
       "\n",
       "The endianness of the written value depends on the endianness of the host system. Convert to/from a fixed endianness when writing/reading (e.g. using  [`htol`](@ref) and [`ltoh`](@ref)) to get results that are consistent across platforms.\n",
       "\n",
       "You can write multiple values with the same `write` call. i.e. the following are equivalent:\n",
       "\n",
       "```\n",
       "write(io, x, y...)\n",
       "write(io, x) + write(io, y...)\n",
       "```\n",
       "\n",
       "# Examples\n",
       "\n",
       "Consistent serialization:\n",
       "\n",
       "```jldoctest\n",
       "julia> fname = tempname(); # random temporary filename\n",
       "\n",
       "julia> open(fname,\"w\") do f\n",
       "           # Make sure we write 64bit integer in little-endian byte order\n",
       "           write(f,htol(Int64(42)))\n",
       "       end\n",
       "8\n",
       "\n",
       "julia> open(fname,\"r\") do f\n",
       "           # Convert back to host byte order and host integer type\n",
       "           Int(ltoh(read(f,Int64)))\n",
       "       end\n",
       "42\n",
       "```\n",
       "\n",
       "Merging write calls:\n",
       "\n",
       "```jldoctest\n",
       "julia> io = IOBuffer();\n",
       "\n",
       "julia> write(io, \"JuliaLang is a GitHub organization.\", \" It has many members.\")\n",
       "56\n",
       "\n",
       "julia> String(take!(io))\n",
       "\"JuliaLang is a GitHub organization. It has many members.\"\n",
       "\n",
       "julia> write(io, \"Sometimes those members\") + write(io, \" write documentation.\")\n",
       "44\n",
       "\n",
       "julia> String(take!(io))\n",
       "\"Sometimes those members write documentation.\"\n",
       "```\n",
       "\n",
       "User-defined plain-data types without `write` methods can be written when wrapped in a `Ref`:\n",
       "\n",
       "```jldoctest\n",
       "julia> struct MyStruct; x::Float64; end\n",
       "\n",
       "julia> io = IOBuffer()\n",
       "IOBuffer(data=UInt8[...], readable=true, writable=true, seekable=true, append=false, size=0, maxsize=Inf, ptr=1, mark=-1)\n",
       "\n",
       "julia> write(io, Ref(MyStruct(42.0)))\n",
       "8\n",
       "\n",
       "julia> seekstart(io); read!(io, Ref(MyStruct(NaN)))\n",
       "Base.RefValue{MyStruct}(MyStruct(42.0))\n",
       "```\n",
       "\n",
       "---\n",
       "\n",
       "```\n",
       "write(filename::AbstractString, content)\n",
       "```\n",
       "\n",
       "Write the canonical binary representation of `content` to a file, which will be created if it does not exist yet or overwritten if it does exist.\n",
       "\n",
       "Return the number of bytes written into the file.\n"
      ],
      "text/plain": [
       "\u001b[36m  write(io::IO, x)\u001b[39m\n",
       "\n",
       "  Write the canonical binary representation of a value to the given I/O stream\n",
       "  or file. Return the number of bytes written into the stream. See also \u001b[36mprint\u001b[39m\n",
       "  to write a text representation (with an encoding that may depend upon \u001b[36mio\u001b[39m).\n",
       "\n",
       "  The endianness of the written value depends on the endianness of the host\n",
       "  system. Convert to/from a fixed endianness when writing/reading (e.g. using\n",
       "  \u001b[36mhtol\u001b[39m and \u001b[36mltoh\u001b[39m) to get results that are consistent across platforms.\n",
       "\n",
       "  You can write multiple values with the same \u001b[36mwrite\u001b[39m call. i.e. the following\n",
       "  are equivalent:\n",
       "\n",
       "\u001b[36m  write(io, x, y...)\u001b[39m\n",
       "\u001b[36m  write(io, x) + write(io, y...)\u001b[39m\n",
       "\n",
       "\u001b[1m  Examples\u001b[22m\n",
       "\u001b[1m  ≡≡≡≡≡≡≡≡\u001b[22m\n",
       "\n",
       "  Consistent serialization:\n",
       "\n",
       "\u001b[36m  julia> fname = tempname(); # random temporary filename\u001b[39m\n",
       "\u001b[36m  \u001b[39m\n",
       "\u001b[36m  julia> open(fname,\"w\") do f\u001b[39m\n",
       "\u001b[36m             # Make sure we write 64bit integer in little-endian byte order\u001b[39m\n",
       "\u001b[36m             write(f,htol(Int64(42)))\u001b[39m\n",
       "\u001b[36m         end\u001b[39m\n",
       "\u001b[36m  8\u001b[39m\n",
       "\u001b[36m  \u001b[39m\n",
       "\u001b[36m  julia> open(fname,\"r\") do f\u001b[39m\n",
       "\u001b[36m             # Convert back to host byte order and host integer type\u001b[39m\n",
       "\u001b[36m             Int(ltoh(read(f,Int64)))\u001b[39m\n",
       "\u001b[36m         end\u001b[39m\n",
       "\u001b[36m  42\u001b[39m\n",
       "\n",
       "  Merging write calls:\n",
       "\n",
       "\u001b[36m  julia> io = IOBuffer();\u001b[39m\n",
       "\u001b[36m  \u001b[39m\n",
       "\u001b[36m  julia> write(io, \"JuliaLang is a GitHub organization.\", \" It has many members.\")\u001b[39m\n",
       "\u001b[36m  56\u001b[39m\n",
       "\u001b[36m  \u001b[39m\n",
       "\u001b[36m  julia> String(take!(io))\u001b[39m\n",
       "\u001b[36m  \"JuliaLang is a GitHub organization. It has many members.\"\u001b[39m\n",
       "\u001b[36m  \u001b[39m\n",
       "\u001b[36m  julia> write(io, \"Sometimes those members\") + write(io, \" write documentation.\")\u001b[39m\n",
       "\u001b[36m  44\u001b[39m\n",
       "\u001b[36m  \u001b[39m\n",
       "\u001b[36m  julia> String(take!(io))\u001b[39m\n",
       "\u001b[36m  \"Sometimes those members write documentation.\"\u001b[39m\n",
       "\n",
       "  User-defined plain-data types without \u001b[36mwrite\u001b[39m methods can be written when\n",
       "  wrapped in a \u001b[36mRef\u001b[39m:\n",
       "\n",
       "\u001b[36m  julia> struct MyStruct; x::Float64; end\u001b[39m\n",
       "\u001b[36m  \u001b[39m\n",
       "\u001b[36m  julia> io = IOBuffer()\u001b[39m\n",
       "\u001b[36m  IOBuffer(data=UInt8[...], readable=true, writable=true, seekable=true, append=false, size=0, maxsize=Inf, ptr=1, mark=-1)\u001b[39m\n",
       "\u001b[36m  \u001b[39m\n",
       "\u001b[36m  julia> write(io, Ref(MyStruct(42.0)))\u001b[39m\n",
       "\u001b[36m  8\u001b[39m\n",
       "\u001b[36m  \u001b[39m\n",
       "\u001b[36m  julia> seekstart(io); read!(io, Ref(MyStruct(NaN)))\u001b[39m\n",
       "\u001b[36m  Base.RefValue{MyStruct}(MyStruct(42.0))\u001b[39m\n",
       "\n",
       "  ────────────────────────────────────────────────────────────────────────────\n",
       "\n",
       "\u001b[36m  write(filename::AbstractString, content)\u001b[39m\n",
       "\n",
       "  Write the canonical binary representation of \u001b[36mcontent\u001b[39m to a file, which will\n",
       "  be created if it does not exist yet or overwritten if it does exist.\n",
       "\n",
       "  Return the number of bytes written into the file."
      ]
     },
     "execution_count": 95,
     "metadata": {},
     "output_type": "execute_result"
    }
   ],
   "source": [
    "?write()"
   ]
  },
  {
   "cell_type": "code",
   "execution_count": 97,
   "id": "c6569761-4c9a-4356-948a-d4f815b7f168",
   "metadata": {
    "tags": []
   },
   "outputs": [
    {
     "data": {
      "text/plain": [
       "\"Hi. bor.\""
      ]
     },
     "execution_count": 97,
     "metadata": {},
     "output_type": "execute_result"
    }
   ],
   "source": [
    "io = IOBuffer();\n",
    "write(io, \"Hi.\", \" bor.\")\n",
    "String(take!(io))"
   ]
  },
  {
   "cell_type": "code",
   "execution_count": 99,
   "id": "690ab924-b437-4fd5-bdf1-14e3f6b79859",
   "metadata": {
    "tags": []
   },
   "outputs": [
    {
     "data": {
      "text/plain": [
       "\"Hi. bor.\""
      ]
     },
     "execution_count": 99,
     "metadata": {},
     "output_type": "execute_result"
    }
   ],
   "source": [
    "write(io, \"Hi.\")+write(io, \" bor.\")\n",
    "String(take!(io))"
   ]
  },
  {
   "cell_type": "code",
   "execution_count": 101,
   "id": "22f076ba-a9d0-4158-b532-323cb5d91ef0",
   "metadata": {
    "scrolled": true,
    "tags": []
   },
   "outputs": [
    {
     "data": {
      "text/latex": [
       "\\begin{verbatim}\n",
       "parse(type, str; base)\n",
       "\\end{verbatim}\n",
       "Parse a string as a number. For \\texttt{Integer} types, a base can be specified (the default is 10). For floating-point types, the string is parsed as a decimal floating-point number.  \\texttt{Complex} types are parsed from decimal strings of the form \\texttt{\"R±Iim\"} as a \\texttt{Complex(R,I)} of the requested type; \\texttt{\"i\"} or \\texttt{\"j\"} can also be used instead of \\texttt{\"im\"}, and \\texttt{\"R\"} or \\texttt{\"Iim\"} are also permitted. If the string does not contain a valid number, an error is raised.\n",
       "\n",
       "\\begin{quote}\n",
       "\\textbf{compat}\n",
       "\n",
       "Julia 1.1\n",
       "\n",
       "\\texttt{parse(Bool, str)} requires at least Julia 1.1.\n",
       "\n",
       "\\end{quote}\n",
       "\\section{Examples}\n",
       "\\begin{verbatim}\n",
       "julia> parse(Int, \"1234\")\n",
       "1234\n",
       "\n",
       "julia> parse(Int, \"1234\", base = 5)\n",
       "194\n",
       "\n",
       "julia> parse(Int, \"afc\", base = 16)\n",
       "2812\n",
       "\n",
       "julia> parse(Float64, \"1.2e-3\")\n",
       "0.0012\n",
       "\n",
       "julia> parse(Complex{Float64}, \"3.2e-1 + 4.5im\")\n",
       "0.32 + 4.5im\n",
       "\\end{verbatim}\n",
       "\\rule{\\textwidth}{1pt}\n",
       "\\begin{verbatim}\n",
       "parse(::Type{Platform}, triplet::AbstractString)\n",
       "\\end{verbatim}\n",
       "Parses a string platform triplet back into a \\texttt{Platform} object.\n",
       "\n",
       "\\rule{\\textwidth}{1pt}\n",
       "\\begin{verbatim}\n",
       "parse(::Type{SimpleColor}, rgb::String)\n",
       "\\end{verbatim}\n",
       "An analogue of \\texttt{tryparse(SimpleColor, rgb::String)} (which see), that raises an error instead of returning \\texttt{nothing}.\n",
       "\n"
      ],
      "text/markdown": [
       "```\n",
       "parse(type, str; base)\n",
       "```\n",
       "\n",
       "Parse a string as a number. For `Integer` types, a base can be specified (the default is 10). For floating-point types, the string is parsed as a decimal floating-point number.  `Complex` types are parsed from decimal strings of the form `\"R±Iim\"` as a `Complex(R,I)` of the requested type; `\"i\"` or `\"j\"` can also be used instead of `\"im\"`, and `\"R\"` or `\"Iim\"` are also permitted. If the string does not contain a valid number, an error is raised.\n",
       "\n",
       "!!! compat \"Julia 1.1\"\n",
       "    `parse(Bool, str)` requires at least Julia 1.1.\n",
       "\n",
       "\n",
       "# Examples\n",
       "\n",
       "```jldoctest\n",
       "julia> parse(Int, \"1234\")\n",
       "1234\n",
       "\n",
       "julia> parse(Int, \"1234\", base = 5)\n",
       "194\n",
       "\n",
       "julia> parse(Int, \"afc\", base = 16)\n",
       "2812\n",
       "\n",
       "julia> parse(Float64, \"1.2e-3\")\n",
       "0.0012\n",
       "\n",
       "julia> parse(Complex{Float64}, \"3.2e-1 + 4.5im\")\n",
       "0.32 + 4.5im\n",
       "```\n",
       "\n",
       "---\n",
       "\n",
       "```\n",
       "parse(::Type{Platform}, triplet::AbstractString)\n",
       "```\n",
       "\n",
       "Parses a string platform triplet back into a `Platform` object.\n",
       "\n",
       "---\n",
       "\n",
       "```\n",
       "parse(::Type{SimpleColor}, rgb::String)\n",
       "```\n",
       "\n",
       "An analogue of `tryparse(SimpleColor, rgb::String)` (which see), that raises an error instead of returning `nothing`.\n"
      ],
      "text/plain": [
       "\u001b[36m  parse(type, str; base)\u001b[39m\n",
       "\n",
       "  Parse a string as a number. For \u001b[36mInteger\u001b[39m types, a base can be specified (the\n",
       "  default is 10). For floating-point types, the string is parsed as a decimal\n",
       "  floating-point number. \u001b[36mComplex\u001b[39m types are parsed from decimal strings of the\n",
       "  form \u001b[36m\"R±Iim\"\u001b[39m as a \u001b[36mComplex(R,I)\u001b[39m of the requested type; \u001b[36m\"i\"\u001b[39m or \u001b[36m\"j\"\u001b[39m can also be\n",
       "  used instead of \u001b[36m\"im\"\u001b[39m, and \u001b[36m\"R\"\u001b[39m or \u001b[36m\"Iim\"\u001b[39m are also permitted. If the string\n",
       "  does not contain a valid number, an error is raised.\n",
       "\n",
       "\u001b[39m\u001b[1m  │ \u001b[22m\u001b[39m\u001b[1mJulia 1.1\u001b[22m\n",
       "\u001b[39m\u001b[1m  │\u001b[22m\n",
       "\u001b[39m\u001b[1m  │\u001b[22m  \u001b[36mparse(Bool, str)\u001b[39m requires at least Julia 1.1.\n",
       "\n",
       "\u001b[1m  Examples\u001b[22m\n",
       "\u001b[1m  ≡≡≡≡≡≡≡≡\u001b[22m\n",
       "\n",
       "\u001b[36m  julia> parse(Int, \"1234\")\u001b[39m\n",
       "\u001b[36m  1234\u001b[39m\n",
       "\u001b[36m  \u001b[39m\n",
       "\u001b[36m  julia> parse(Int, \"1234\", base = 5)\u001b[39m\n",
       "\u001b[36m  194\u001b[39m\n",
       "\u001b[36m  \u001b[39m\n",
       "\u001b[36m  julia> parse(Int, \"afc\", base = 16)\u001b[39m\n",
       "\u001b[36m  2812\u001b[39m\n",
       "\u001b[36m  \u001b[39m\n",
       "\u001b[36m  julia> parse(Float64, \"1.2e-3\")\u001b[39m\n",
       "\u001b[36m  0.0012\u001b[39m\n",
       "\u001b[36m  \u001b[39m\n",
       "\u001b[36m  julia> parse(Complex{Float64}, \"3.2e-1 + 4.5im\")\u001b[39m\n",
       "\u001b[36m  0.32 + 4.5im\u001b[39m\n",
       "\n",
       "  ────────────────────────────────────────────────────────────────────────────\n",
       "\n",
       "\u001b[36m  parse(::Type{Platform}, triplet::AbstractString)\u001b[39m\n",
       "\n",
       "  Parses a string platform triplet back into a \u001b[36mPlatform\u001b[39m object.\n",
       "\n",
       "  ────────────────────────────────────────────────────────────────────────────\n",
       "\n",
       "\u001b[36m  parse(::Type{SimpleColor}, rgb::String)\u001b[39m\n",
       "\n",
       "  An analogue of \u001b[36mtryparse(SimpleColor, rgb::String)\u001b[39m (which see), that raises\n",
       "  an error instead of returning \u001b[36mnothing\u001b[39m."
      ]
     },
     "execution_count": 101,
     "metadata": {},
     "output_type": "execute_result"
    }
   ],
   "source": [
    "?parse()"
   ]
  },
  {
   "cell_type": "code",
   "execution_count": 103,
   "id": "b6a015f4-5ab4-4b2a-bc31-4ab82d109959",
   "metadata": {
    "tags": []
   },
   "outputs": [
    {
     "data": {
      "text/plain": [
       "4568"
      ]
     },
     "execution_count": 103,
     "metadata": {},
     "output_type": "execute_result"
    }
   ],
   "source": [
    "parse(Int, \"4568\")"
   ]
  },
  {
   "cell_type": "code",
   "execution_count": 105,
   "id": "5c553bd3-1bd9-41dc-adae-5bf350049041",
   "metadata": {
    "tags": []
   },
   "outputs": [
    {
     "data": {
      "text/plain": [
       "17768"
      ]
     },
     "execution_count": 105,
     "metadata": {},
     "output_type": "execute_result"
    }
   ],
   "source": [
    "parse(Int, \"4568\", base=16)"
   ]
  },
  {
   "cell_type": "code",
   "execution_count": 107,
   "id": "07b7d206-0ac8-42df-ba62-452eaba28ace",
   "metadata": {
    "tags": []
   },
   "outputs": [
    {
     "data": {
      "text/plain": [
       "3133625"
      ]
     },
     "execution_count": 107,
     "metadata": {},
     "output_type": "execute_result"
    }
   ],
   "source": [
    "parse(Int, \"1011111101000010111001\", base=2)"
   ]
  },
  {
   "cell_type": "code",
   "execution_count": null,
   "id": "aa18566d-1bfd-481c-986d-069b14a36685",
   "metadata": {},
   "outputs": [],
   "source": [
    "##############################"
   ]
  },
  {
   "cell_type": "code",
   "execution_count": 110,
   "id": "2b35d3cc-3d49-4cc9-a4f6-8a533e40e496",
   "metadata": {
    "tags": []
   },
   "outputs": [
    {
     "name": "stdout",
     "output_type": "stream",
     "text": [
      "8\n",
      "2\n",
      "15\n",
      "1.6666666666666667\n",
      "1\n"
     ]
    }
   ],
   "source": [
    "a=5\n",
    "b=3\n",
    "\n",
    "# сложение\n",
    "println(a+b)\n",
    "\n",
    "# вычитание\n",
    "println(a-b)\n",
    "\n",
    "# умножение\n",
    "println(a*b)\n",
    "\n",
    "# деление\n",
    "println(a/b)\n",
    "\n",
    "# деление с округлением до целого числа\n",
    "println(div(a,b))"
   ]
  },
  {
   "cell_type": "code",
   "execution_count": 112,
   "id": "92b800a4-d6ab-4576-abb2-b7a44efc5ecd",
   "metadata": {
    "tags": []
   },
   "outputs": [
    {
     "name": "stdout",
     "output_type": "stream",
     "text": [
      "125\n",
      "5.0\n"
     ]
    }
   ],
   "source": [
    "# возведение в степень\n",
    "println(a^b)\n",
    "\n",
    "# извлечение корня\n",
    "println(sqrt(25))"
   ]
  },
  {
   "cell_type": "code",
   "execution_count": 114,
   "id": "1b7a6400-e9cb-4b19-83ee-74b382faead7",
   "metadata": {
    "tags": []
   },
   "outputs": [
    {
     "name": "stdout",
     "output_type": "stream",
     "text": [
      "false\n",
      "true\n",
      "true\n",
      "false\n",
      "true\n",
      "false\n"
     ]
    }
   ],
   "source": [
    "# сравнение\n",
    "\n",
    "x=10\n",
    "y=20\n",
    "\n",
    "# равенство\n",
    "println(x==y)\n",
    "\n",
    "# неравенство\n",
    "println(x!=y)\n",
    "\n",
    "# больше или меньше\n",
    "println(x<y)\n",
    "println(x>y)\n",
    "\n",
    "# больше или равно, меньше или равно\n",
    "println(x<=y)\n",
    "println(x>=y)"
   ]
  },
  {
   "cell_type": "code",
   "execution_count": 119,
   "id": "f2bb3bca-ed0e-48dc-8268-c91703e58990",
   "metadata": {
    "tags": []
   },
   "outputs": [
    {
     "name": "stdout",
     "output_type": "stream",
     "text": [
      "true\n",
      "true\n",
      "true\n"
     ]
    }
   ],
   "source": [
    "# логические операции\n",
    "\n",
    "# and\n",
    "println((x<y)&&(y>15))\n",
    "\n",
    "# or\n",
    "println((x>y)||(y==20))\n",
    "\n",
    "# no\n",
    "println(!(x==y))"
   ]
  },
  {
   "cell_type": "code",
   "execution_count": 121,
   "id": "c0878236-1e62-4650-af17-9314b91eb923",
   "metadata": {
    "tags": []
   },
   "outputs": [],
   "source": [
    "####################"
   ]
  },
  {
   "cell_type": "code",
   "execution_count": 123,
   "id": "838956d6-15dd-4f53-b13e-41ac843a8287",
   "metadata": {
    "tags": []
   },
   "outputs": [
    {
     "name": "stdout",
     "output_type": "stream",
     "text": [
      "[7, 11, 17]\n",
      "[-5, -3, -1]\n",
      "[2, 8, 16]\n",
      "106\n"
     ]
    }
   ],
   "source": [
    "v1=[1, 4, 8]\n",
    "v2=[6, 7, 9]\n",
    "\n",
    "# сложение векторов\n",
    "v_sum=v1+v2\n",
    "println(v_sum)\n",
    "\n",
    "# вычитание векторов\n",
    "v_diff=v1-v2\n",
    "println(v_diff)\n",
    "\n",
    "# умножение на скаляр вектора\n",
    "scalar=2\n",
    "v_sca=scalar*v1\n",
    "println(v_sca)\n",
    "\n",
    "# скалярное произведение вектора\n",
    "using LinearAlgebra\n",
    "\n",
    "dot_product=dot(v1, v2)\n",
    "println(dot_product)"
   ]
  },
  {
   "cell_type": "code",
   "execution_count": 125,
   "id": "04a3a728-6539-4790-ade8-8e290ab7b2b4",
   "metadata": {
    "tags": []
   },
   "outputs": [
    {
     "name": "stdout",
     "output_type": "stream",
     "text": [
      "[4 10; 12 17]\n",
      "[-2 -2; -2 -1]\n",
      "[3 12; 15 24]\n"
     ]
    }
   ],
   "source": [
    "A=[1 4; 5 8]\n",
    "B=[3 6; 7 9]\n",
    "\n",
    "# сложение матрица\n",
    "A_plus_B=A+B\n",
    "println(A_plus_B)\n",
    "\n",
    "# вычитание матрица\n",
    "A_minus_B=A-B\n",
    "println(A_minus_B)\n",
    "\n",
    "# умножение на матрицы скаляр\n",
    "scalar=3\n",
    "A_sca=scalar*A\n",
    "println(A_sca)"
   ]
  },
  {
   "cell_type": "code",
   "execution_count": 127,
   "id": "f46ddb03-dfce-48a6-85d2-d9cef916df64",
   "metadata": {
    "tags": []
   },
   "outputs": [
    {
     "name": "stdout",
     "output_type": "stream",
     "text": [
      "[39, 87]\n",
      "[6 12; 18 24]\n"
     ]
    }
   ],
   "source": [
    "v=[3, 9]\n",
    "A=[1 4; 5 8]\n",
    "B=[2 0; 1 3]\n",
    "\n",
    "# умножение матрицы на вектор\n",
    "A_v_product=A*v\n",
    "println(A_v_product)\n",
    "\n",
    "# умножение 2 матриц\n",
    "A_B_product=A*B\n",
    "println(A_B_product)"
   ]
  },
  {
   "cell_type": "code",
   "execution_count": 129,
   "id": "21503f1c-e814-499b-bffa-6b3de0e8485e",
   "metadata": {
    "tags": []
   },
   "outputs": [
    {
     "name": "stdout",
     "output_type": "stream",
     "text": [
      "[4 5 8]\n",
      "[1 5; 4 8]\n"
     ]
    }
   ],
   "source": [
    "# транспонирование\n",
    "v=[4, 5, 8]\n",
    "A=[1 4; 5 8]\n",
    "\n",
    "# транспонирование вектора\n",
    "v_transposed=v'\n",
    "println(v_transposed)\n",
    "\n",
    "# транспонирование матрицы\n",
    "A_transposed=A'\n",
    "println(A_transposed)"
   ]
  },
  {
   "cell_type": "code",
   "execution_count": null,
   "id": "d31153bc-a138-4b35-93e9-562905bc3b2b",
   "metadata": {},
   "outputs": [],
   "source": []
  }
 ],
 "metadata": {
  "kernelspec": {
   "display_name": "Julia 1.11.1",
   "language": "julia",
   "name": "julia-1.11"
  },
  "language_info": {
   "file_extension": ".jl",
   "mimetype": "application/julia",
   "name": "julia",
   "version": "1.11.1"
  }
 },
 "nbformat": 4,
 "nbformat_minor": 5
}
