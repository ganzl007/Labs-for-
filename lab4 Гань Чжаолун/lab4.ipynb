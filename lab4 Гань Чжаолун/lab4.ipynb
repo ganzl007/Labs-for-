{
 "cells": [
  {
   "cell_type": "markdown",
   "metadata": {},
   "source": [
    "## 4.2.1 Поэлементные операции над многомерными массивами"
   ]
  },
  {
   "cell_type": "code",
   "execution_count": 4,
   "metadata": {
    "tags": []
   },
   "outputs": [
    {
     "data": {
      "text/plain": [
       "4×3 Matrix{Int64}:\n",
       "  3  15  15\n",
       "  8  15   9\n",
       " 12  11  17\n",
       " 11  19  20"
      ]
     },
     "execution_count": 4,
     "metadata": {},
     "output_type": "execute_result"
    }
   ],
   "source": [
    "# Массив 4*3 со случайными целыми числами (от 1 до 20)\n",
    "a = rand(1:20, (4, 3))"
   ]
  },
  {
   "cell_type": "code",
   "execution_count": 6,
   "metadata": {
    "tags": []
   },
   "outputs": [
    {
     "name": "stdout",
     "output_type": "stream",
     "text": [
      "Поэлементная сумма = 155\n",
      "Поэлементная сумма по столбцам = [34 60 61]\n",
      "Поэлементная сумма по строкам = [33; 32; 40; 50;;]\n"
     ]
    }
   ],
   "source": [
    "println(\"Поэлементная сумма = \", sum(a))\n",
    "println(\"Поэлементная сумма по столбцам = \", sum(a, dims=1))\n",
    "println(\"Поэлементная сумма по строкам = \", sum(a, dims=2))"
   ]
  },
  {
   "cell_type": "code",
   "execution_count": 8,
   "metadata": {
    "tags": []
   },
   "outputs": [
    {
     "name": "stdout",
     "output_type": "stream",
     "text": [
      "Поэлементное произведение = 6837961680000\n",
      "Поэлементное произведение по столбцам = [3168 47025 45900]\n",
      "Поэлементное произведение по строкам = [675; 1080; 2244; 4180;;]\n"
     ]
    }
   ],
   "source": [
    "println(\"Поэлементное произведение = \", prod(a))\n",
    "println(\"Поэлементное произведение по столбцам = \", prod(a, dims=1))\n",
    "println(\"Поэлементное произведение по строкам = \", prod(a, dims=2))"
   ]
  },
  {
   "cell_type": "code",
   "execution_count": 10,
   "metadata": {
    "tags": []
   },
   "outputs": [
    {
     "name": "stderr",
     "output_type": "stream",
     "text": [
      "\u001b[32m\u001b[1m    Updating\u001b[22m\u001b[39m registry at `C:\\Users\\GanZL\\.julia\\registries\\General.toml`\n",
      "\u001b[32m\u001b[1m   Resolving\u001b[22m\u001b[39m package versions...\n",
      "\u001b[32m\u001b[1m    Updating\u001b[22m\u001b[39m `C:\\Users\\GanZL\\.julia\\environments\\v1.11\\Project.toml`\n",
      "  \u001b[90m[10745b16] \u001b[39m\u001b[92m+ Statistics v1.11.1\u001b[39m\n",
      "\u001b[32m\u001b[1m  No Changes\u001b[22m\u001b[39m to `C:\\Users\\GanZL\\.julia\\environments\\v1.11\\Manifest.toml`\n"
     ]
    }
   ],
   "source": [
    "import Pkg\n",
    "Pkg.add(\"Statistics\")\n",
    "using Statistics"
   ]
  },
  {
   "cell_type": "code",
   "execution_count": 12,
   "metadata": {
    "tags": []
   },
   "outputs": [
    {
     "name": "stdout",
     "output_type": "stream",
     "text": [
      "Вычисление среднего значения массива = 12.916666666666666\n",
      "Среднее по столбцам = [8.5 15.0 15.25]\n",
      "Среднее по строкам = [11.0; 10.666666666666666; 13.333333333333334; 16.666666666666668;;]\n"
     ]
    }
   ],
   "source": [
    "println(\"Вычисление среднего значения массива = \", mean(a))\n",
    "println(\"Среднее по столбцам = \", mean(a, dims=1))\n",
    "println(\"Среднее по строкам = \", mean(a, dims=2))"
   ]
  },
  {
   "cell_type": "markdown",
   "metadata": {},
   "source": [
    "## 4.2.2 Транспонирование, след, ранг, определитель и инверсия матрицы"
   ]
  },
  {
   "cell_type": "code",
   "execution_count": 14,
   "metadata": {
    "tags": []
   },
   "outputs": [
    {
     "name": "stderr",
     "output_type": "stream",
     "text": [
      "\u001b[32m\u001b[1m   Resolving\u001b[22m\u001b[39m package versions...\n",
      "\u001b[32m\u001b[1m    Updating\u001b[22m\u001b[39m `C:\\Users\\GanZL\\.julia\\environments\\v1.11\\Project.toml`\n",
      "  \u001b[90m[37e2e46d] \u001b[39m\u001b[92m+ LinearAlgebra v1.11.0\u001b[39m\n",
      "\u001b[32m\u001b[1m  No Changes\u001b[22m\u001b[39m to `C:\\Users\\GanZL\\.julia\\environments\\v1.11\\Manifest.toml`\n"
     ]
    }
   ],
   "source": [
    "# Подключение пакета LinearAlgebra:\n",
    "import Pkg\n",
    "Pkg.add(\"LinearAlgebra\")\n",
    "using LinearAlgebra"
   ]
  },
  {
   "cell_type": "code",
   "execution_count": 16,
   "metadata": {
    "tags": []
   },
   "outputs": [
    {
     "data": {
      "text/plain": [
       "4×4 Matrix{Int64}:\n",
       " 13  17  17  11\n",
       " 12  20  16  17\n",
       " 19   9  10  17\n",
       " 13  12  13   3"
      ]
     },
     "execution_count": 16,
     "metadata": {},
     "output_type": "execute_result"
    }
   ],
   "source": [
    "# Массив 4x4 со случайными целыми числами (от 1 до 20):\n",
    "b = rand(1:20,(4,4))"
   ]
  },
  {
   "cell_type": "code",
   "execution_count": 18,
   "metadata": {
    "tags": []
   },
   "outputs": [
    {
     "name": "stdout",
     "output_type": "stream",
     "text": [
      "Транспонированная матрица = [13 12 19 13; 17 20 9 12; 17 16 10 13; 11 17 17 3]\n",
      "След матрицы (сумма диагональных элементов) = 46\n",
      "Извлечение диагональных элементов как массив = [13, 20, 10, 3]\n"
     ]
    }
   ],
   "source": [
    "println(\"Транспонированная матрица = \", transpose(b))\n",
    "println(\"След матрицы (сумма диагональных элементов) = \", tr(b))\n",
    "println(\"Извлечение диагональных элементов как массив = \", diag(b))"
   ]
  },
  {
   "cell_type": "code",
   "execution_count": 20,
   "metadata": {
    "scrolled": true,
    "tags": []
   },
   "outputs": [
    {
     "name": "stdout",
     "output_type": "stream",
     "text": [
      "Ранг матрицы = 4\n"
     ]
    }
   ],
   "source": [
    "println(\"Ранг матрицы = \", rank(b))"
   ]
  },
  {
   "cell_type": "code",
   "execution_count": 24,
   "metadata": {
    "tags": []
   },
   "outputs": [
    {
     "name": "stdout",
     "output_type": "stream",
     "text": [
      "Инверсия матрицы = "
     ]
    },
    {
     "data": {
      "text/plain": [
       "4×4 Matrix{Float64}:\n",
       " -0.19359    0.0504938   0.0475126     0.154462\n",
       " -0.432458   0.296628   -0.0603689     0.246879\n",
       "  0.566983  -0.318241   -0.000558971  -0.272405\n",
       "  0.111794  -0.0262717   0.0380101    -0.143097"
      ]
     },
     "execution_count": 24,
     "metadata": {},
     "output_type": "execute_result"
    },
    {
     "name": "stdout",
     "output_type": "stream",
     "text": [
      "\n"
     ]
    }
   ],
   "source": [
    "println(\"Инверсия матрицы = \")\n",
    "inv(b)"
   ]
  },
  {
   "cell_type": "code",
   "execution_count": 26,
   "metadata": {
    "tags": []
   },
   "outputs": [
    {
     "name": "stdout",
     "output_type": "stream",
     "text": [
      "Определитель матрицы = 5366.999999999999\n"
     ]
    }
   ],
   "source": [
    "println(\"Определитель матрицы = \", det(b))"
   ]
  },
  {
   "cell_type": "code",
   "execution_count": 28,
   "metadata": {
    "tags": []
   },
   "outputs": [
    {
     "name": "stdout",
     "output_type": "stream",
     "text": [
      "Псевдобратная функция для прямоугольных матриц = \n"
     ]
    },
    {
     "data": {
      "text/plain": [
       "3×4 Matrix{Float64}:\n",
       " -0.118411    0.0665795   0.0661416  0.00262701\n",
       "  0.0184153   0.0948568  -0.0726917  0.00529096\n",
       "  0.0623009  -0.115529    0.0488468  0.0137428"
      ]
     },
     "execution_count": 28,
     "metadata": {},
     "output_type": "execute_result"
    }
   ],
   "source": [
    "println(\"Псевдобратная функция для прямоугольных матриц = \")\n",
    "pinv(a)"
   ]
  },
  {
   "cell_type": "markdown",
   "metadata": {},
   "source": [
    "## 4.2.3. Вычисление нормы векторов и матриц, повороты, вращения"
   ]
  },
  {
   "cell_type": "code",
   "execution_count": 30,
   "metadata": {
    "tags": []
   },
   "outputs": [
    {
     "data": {
      "text/plain": [
       "3-element Vector{Int64}:\n",
       "  2\n",
       "  4\n",
       " -5"
      ]
     },
     "execution_count": 30,
     "metadata": {},
     "output_type": "execute_result"
    }
   ],
   "source": [
    "# Создание вектора X\n",
    "X = [2, 4, -5]"
   ]
  },
  {
   "cell_type": "code",
   "execution_count": 32,
   "metadata": {
    "tags": []
   },
   "outputs": [
    {
     "name": "stdout",
     "output_type": "stream",
     "text": [
      "Евклидова норма вектора X = 6.708203932499369\n"
     ]
    }
   ],
   "source": [
    "println(\"Евклидова норма вектора X = \", norm(X))"
   ]
  },
  {
   "cell_type": "code",
   "execution_count": 34,
   "metadata": {
    "tags": []
   },
   "outputs": [
    {
     "name": "stdout",
     "output_type": "stream",
     "text": [
      "p-норма вектора X = 11.0\n"
     ]
    }
   ],
   "source": [
    "p = 1\n",
    "println(\"p-норма вектора X = \", norm(X, p))"
   ]
  },
  {
   "cell_type": "code",
   "execution_count": 36,
   "metadata": {
    "tags": []
   },
   "outputs": [
    {
     "name": "stdout",
     "output_type": "stream",
     "text": [
      "Расстояние между векторами X и Y = 9.486832980505138\n",
      "Расстояние по базовому определению(проверка) = 9.486832980505138\n"
     ]
    }
   ],
   "source": [
    "X = [2, 4, -5];\n",
    "Y = [1,-1,3];\n",
    "println(\"Расстояние между векторами X и Y = \", norm(X-Y))\n",
    "println(\"Расстояние по базовому определению(проверка) = \", sqrt(sum((X-Y).^2)))"
   ]
  },
  {
   "cell_type": "code",
   "execution_count": 38,
   "metadata": {
    "tags": []
   },
   "outputs": [
    {
     "name": "stdout",
     "output_type": "stream",
     "text": [
      "Угол между векторами X и Y = 2.4404307889469252\n"
     ]
    }
   ],
   "source": [
    "println(\"Угол между векторами X и Y = \", acos((transpose(X)*Y)/(norm(X)*norm(Y))))"
   ]
  },
  {
   "cell_type": "code",
   "execution_count": 40,
   "metadata": {
    "tags": []
   },
   "outputs": [
    {
     "data": {
      "text/plain": [
       "3×3 Matrix{Int64}:\n",
       "  5  -4  2\n",
       " -1   2  3\n",
       " -2   1  0"
      ]
     },
     "execution_count": 40,
     "metadata": {},
     "output_type": "execute_result"
    }
   ],
   "source": [
    "# Создание матрицы:\n",
    "d = [5 -4 2 ; -1 2 3; -2 1 0]"
   ]
  },
  {
   "cell_type": "code",
   "execution_count": 42,
   "metadata": {
    "tags": []
   },
   "outputs": [
    {
     "name": "stdout",
     "output_type": "stream",
     "text": [
      "Евклидовая норма матрицы d = 7.147682841795258\n",
      "p-норма матрицы d = 8.0\n"
     ]
    }
   ],
   "source": [
    "println(\"Евклидовая норма матрицы d = \", opnorm(d))\n",
    "p = 1\n",
    "println(\"p-норма матрицы d = \", opnorm(d, p))"
   ]
  },
  {
   "cell_type": "code",
   "execution_count": 44,
   "metadata": {
    "tags": []
   },
   "outputs": [
    {
     "name": "stdout",
     "output_type": "stream",
     "text": [
      "Поворот на 180 градусов матрицы d = [0 1 -2; 3 2 -1; 2 -4 5]\n",
      "Переворачивание строк матрицы d = [-2 1 0; -1 2 3; 5 -4 2]\n",
      "Переворачивание столбцов матрицы d = [2 -4 5; 3 2 -1; 0 1 -2]\n"
     ]
    }
   ],
   "source": [
    "println(\"Поворот на 180 градусов матрицы d = \", rot180(d))\n",
    "println(\"Переворачивание строк матрицы d = \", reverse(d,dims=1))\n",
    "println(\"Переворачивание столбцов матрицы d = \", reverse(d,dims=2))"
   ]
  },
  {
   "cell_type": "markdown",
   "metadata": {},
   "source": [
    "## 4.2.4. Матричное умножение, единичная матрица, скалярное произведение"
   ]
  },
  {
   "cell_type": "code",
   "execution_count": 46,
   "metadata": {
    "tags": []
   },
   "outputs": [
    {
     "data": {
      "text/plain": [
       "3×4 Matrix{Int64}:\n",
       " 7   6  10  1\n",
       " 3   5   2  4\n",
       " 7  10   3  7"
      ]
     },
     "execution_count": 46,
     "metadata": {},
     "output_type": "execute_result"
    }
   ],
   "source": [
    "# Матрица 2x3 со случайными целыми значениями от 1 до 10:\n",
    "A = rand(1:10,(2,3))\n",
    "# Матрица 3x4 со случайными целыми значениями от 1 до 10:\n",
    "B = rand(1:10,(3,4))"
   ]
  },
  {
   "cell_type": "code",
   "execution_count": 48,
   "metadata": {
    "tags": []
   },
   "outputs": [
    {
     "data": {
      "text/plain": [
       "2×4 Matrix{Int64}:\n",
       " 107  156  60  111\n",
       "  63   91  39   64"
      ]
     },
     "execution_count": 48,
     "metadata": {},
     "output_type": "execute_result"
    }
   ],
   "source": [
    "# Произведение матриц A и B:\n",
    "A*B"
   ]
  },
  {
   "cell_type": "code",
   "execution_count": 50,
   "metadata": {
    "tags": []
   },
   "outputs": [
    {
     "data": {
      "text/plain": [
       "3×3 Matrix{Int64}:\n",
       " 1  0  0\n",
       " 0  1  0\n",
       " 0  0  1"
      ]
     },
     "execution_count": 50,
     "metadata": {},
     "output_type": "execute_result"
    }
   ],
   "source": [
    "# Единичная матрица 3x3:\n",
    "Matrix{Int}(I, 3, 3)"
   ]
  },
  {
   "cell_type": "code",
   "execution_count": 52,
   "metadata": {
    "tags": []
   },
   "outputs": [
    {
     "data": {
      "text/plain": [
       "-17"
      ]
     },
     "execution_count": 52,
     "metadata": {},
     "output_type": "execute_result"
    }
   ],
   "source": [
    "# Скалярное произведение векторов X и Y:\n",
    "X = [2, 4, -5]\n",
    "Y = [1,-1,3]\n",
    "dot(X,Y)"
   ]
  },
  {
   "cell_type": "code",
   "execution_count": 54,
   "metadata": {
    "tags": []
   },
   "outputs": [
    {
     "data": {
      "text/plain": [
       "-17"
      ]
     },
     "execution_count": 54,
     "metadata": {},
     "output_type": "execute_result"
    }
   ],
   "source": [
    "# тоже скалярное произведение:\n",
    "X'Y"
   ]
  },
  {
   "cell_type": "markdown",
   "metadata": {},
   "source": [
    "## 4.2.5. Факторизация. Специальные матричные структуры"
   ]
  },
  {
   "cell_type": "code",
   "execution_count": 56,
   "metadata": {
    "tags": []
   },
   "outputs": [
    {
     "data": {
      "text/plain": [
       "3-element Vector{Float64}:\n",
       " 1.0\n",
       " 1.0000000000000004\n",
       " 0.9999999999999997"
      ]
     },
     "execution_count": 56,
     "metadata": {},
     "output_type": "execute_result"
    }
   ],
   "source": [
    "# Задаём квадратную матрицу 3x3 со случайными значениями:\n",
    "A = rand(3, 3)\n",
    "# Задаём единичный вектор:\n",
    "x = fill(1.0, 3)\n",
    "# Задаём вектор b:\n",
    "b = A*x\n",
    "# Решение исходного уравнения получаем с помощью функции \\\n",
    "# (убеждаемся, что x - единичный вектор):\n",
    "A\\b"
   ]
  },
  {
   "cell_type": "code",
   "execution_count": 58,
   "metadata": {
    "tags": []
   },
   "outputs": [
    {
     "data": {
      "text/plain": [
       "LU{Float64, Matrix{Float64}, Vector{Int64}}\n",
       "L factor:\n",
       "3×3 Matrix{Float64}:\n",
       " 1.0       0.0       0.0\n",
       " 0.33023   1.0       0.0\n",
       " 0.265203  0.622077  1.0\n",
       "U factor:\n",
       "3×3 Matrix{Float64}:\n",
       " 0.688738  0.356098  0.466056\n",
       " 0.0       0.663961  0.29521\n",
       " 0.0       0.0       0.310928"
      ]
     },
     "execution_count": 58,
     "metadata": {},
     "output_type": "execute_result"
    }
   ],
   "source": [
    "# LU-факторизация:\n",
    "Alu = lu(A)"
   ]
  },
  {
   "cell_type": "code",
   "execution_count": 60,
   "metadata": {
    "tags": []
   },
   "outputs": [
    {
     "name": "stdout",
     "output_type": "stream",
     "text": [
      "Матрица перестановок = [0.0 1.0 0.0; 0.0 0.0 1.0; 1.0 0.0 0.0]\n",
      "Вектор перестановок = [2, 3, 1]\n"
     ]
    }
   ],
   "source": [
    "println(\"Матрица перестановок = \", Alu.P)\n",
    "println(\"Вектор перестановок = \", Alu.p)"
   ]
  },
  {
   "cell_type": "code",
   "execution_count": 62,
   "metadata": {
    "tags": []
   },
   "outputs": [
    {
     "name": "stdout",
     "output_type": "stream",
     "text": [
      "Матрица L = \n"
     ]
    },
    {
     "data": {
      "text/plain": [
       "3×3 Matrix{Float64}:\n",
       " 1.0       0.0       0.0\n",
       " 0.33023   1.0       0.0\n",
       " 0.265203  0.622077  1.0"
      ]
     },
     "execution_count": 62,
     "metadata": {},
     "output_type": "execute_result"
    }
   ],
   "source": [
    "println(\"Матрица L = \")\n",
    "Alu.L"
   ]
  },
  {
   "cell_type": "code",
   "execution_count": 64,
   "metadata": {
    "tags": []
   },
   "outputs": [
    {
     "name": "stdout",
     "output_type": "stream",
     "text": [
      "Матрица U = \n"
     ]
    },
    {
     "data": {
      "text/plain": [
       "3×3 Matrix{Float64}:\n",
       " 0.688738  0.356098  0.466056\n",
       " 0.0       0.663961  0.29521\n",
       " 0.0       0.0       0.310928"
      ]
     },
     "execution_count": 64,
     "metadata": {},
     "output_type": "execute_result"
    }
   ],
   "source": [
    "println(\"Матрица U = \")\n",
    "Alu.U"
   ]
  },
  {
   "cell_type": "code",
   "execution_count": 66,
   "metadata": {
    "tags": []
   },
   "outputs": [
    {
     "data": {
      "text/plain": [
       "3-element Vector{Float64}:\n",
       " 1.0\n",
       " 1.0000000000000004\n",
       " 0.9999999999999997"
      ]
     },
     "execution_count": 66,
     "metadata": {},
     "output_type": "execute_result"
    }
   ],
   "source": [
    "# Решение СЛАУ через матрицу A:\n",
    "A\\b"
   ]
  },
  {
   "cell_type": "code",
   "execution_count": 68,
   "metadata": {
    "tags": []
   },
   "outputs": [
    {
     "data": {
      "text/plain": [
       "3-element Vector{Float64}:\n",
       " 1.0\n",
       " 1.0000000000000004\n",
       " 0.9999999999999997"
      ]
     },
     "execution_count": 68,
     "metadata": {},
     "output_type": "execute_result"
    }
   ],
   "source": [
    "# Решение СЛАУ через объект факторизации:\n",
    "Alu\\b"
   ]
  },
  {
   "cell_type": "code",
   "execution_count": 70,
   "metadata": {
    "tags": []
   },
   "outputs": [
    {
     "data": {
      "text/plain": [
       "0.1421861276752491"
      ]
     },
     "execution_count": 70,
     "metadata": {},
     "output_type": "execute_result"
    }
   ],
   "source": [
    "# Детерминант матрицы A:\n",
    "det(A)"
   ]
  },
  {
   "cell_type": "code",
   "execution_count": 72,
   "metadata": {
    "tags": []
   },
   "outputs": [
    {
     "data": {
      "text/plain": [
       "0.1421861276752491"
      ]
     },
     "execution_count": 72,
     "metadata": {},
     "output_type": "execute_result"
    }
   ],
   "source": [
    "# Детерминант матрицы A через объект факторизации:\n",
    "det(Alu)"
   ]
  },
  {
   "cell_type": "code",
   "execution_count": 74,
   "metadata": {
    "tags": []
   },
   "outputs": [
    {
     "data": {
      "text/plain": [
       "LinearAlgebra.QRCompactWY{Float64, Matrix{Float64}, Matrix{Float64}}\n",
       "Q factor: 3×3 LinearAlgebra.QRCompactWYQ{Float64, Matrix{Float64}, Matrix{Float64}}\n",
       "R factor:\n",
       "3×3 Matrix{Float64}:\n",
       " -0.747966  -0.689483  -0.716677\n",
       "  0.0        0.720956   0.466795\n",
       "  0.0        0.0       -0.263674"
      ]
     },
     "execution_count": 74,
     "metadata": {},
     "output_type": "execute_result"
    }
   ],
   "source": [
    "# QR-факторизация:\n",
    "Aqr = qr(A)"
   ]
  },
  {
   "cell_type": "code",
   "execution_count": 76,
   "metadata": {
    "tags": []
   },
   "outputs": [
    {
     "data": {
      "text/plain": [
       "3×3 Matrix{Float64}:\n",
       " -0.747966  -0.689483  -0.716677\n",
       "  0.0        0.720956   0.466795\n",
       "  0.0        0.0       -0.263674"
      ]
     },
     "execution_count": 76,
     "metadata": {},
     "output_type": "execute_result"
    }
   ],
   "source": [
    "# Матрица Q:\n",
    "Aqr.Q\n",
    "# Матрица R:\n",
    "Aqr.R"
   ]
  },
  {
   "cell_type": "code",
   "execution_count": 78,
   "metadata": {
    "tags": []
   },
   "outputs": [
    {
     "data": {
      "text/plain": [
       "3×3 Matrix{Float64}:\n",
       "  1.0          1.11022e-16  -3.33067e-16\n",
       "  1.11022e-16  1.0           1.11022e-16\n",
       " -1.66533e-16  0.0           1.0"
      ]
     },
     "execution_count": 78,
     "metadata": {},
     "output_type": "execute_result"
    }
   ],
   "source": [
    "# Проверка, что матрица Q - ортогональная:\n",
    "Aqr.Q'*Aqr.Q"
   ]
  },
  {
   "cell_type": "code",
   "execution_count": 80,
   "metadata": {
    "tags": []
   },
   "outputs": [
    {
     "data": {
      "text/plain": [
       "3×3 Matrix{Float64}:\n",
       " 0.36531   1.19621   0.845613\n",
       " 1.19621   0.712197  1.24761\n",
       " 0.845613  1.24761   0.89823"
      ]
     },
     "execution_count": 80,
     "metadata": {},
     "output_type": "execute_result"
    }
   ],
   "source": [
    "# Симметризация матрицы A:\n",
    "Asym = A + A'"
   ]
  },
  {
   "cell_type": "code",
   "execution_count": 82,
   "metadata": {
    "tags": []
   },
   "outputs": [
    {
     "data": {
      "text/plain": [
       "Eigen{Float64, Float64, Matrix{Float64}, Vector{Float64}}\n",
       "values:\n",
       "3-element Vector{Float64}:\n",
       " -0.7145637089949742\n",
       " -0.19157738289872284\n",
       "  2.881878721965793\n",
       "vectors:\n",
       "3×3 Matrix{Float64}:\n",
       "  0.62916   -0.596328  -0.498548\n",
       " -0.73877   -0.259403  -0.622036\n",
       "  0.241613   0.759673  -0.603755"
      ]
     },
     "execution_count": 82,
     "metadata": {},
     "output_type": "execute_result"
    }
   ],
   "source": [
    "# Спектральное разложение симметризованной матрицы:\n",
    "AsymEig = eigen(Asym)"
   ]
  },
  {
   "cell_type": "code",
   "execution_count": 84,
   "metadata": {
    "tags": []
   },
   "outputs": [
    {
     "data": {
      "text/plain": [
       "3-element Vector{Float64}:\n",
       " -0.7145637089949742\n",
       " -0.19157738289872284\n",
       "  2.881878721965793"
      ]
     },
     "execution_count": 84,
     "metadata": {},
     "output_type": "execute_result"
    }
   ],
   "source": [
    "# Собственные значения:\n",
    "AsymEig.values"
   ]
  },
  {
   "cell_type": "code",
   "execution_count": 86,
   "metadata": {
    "tags": []
   },
   "outputs": [
    {
     "data": {
      "text/plain": [
       "3×3 Matrix{Float64}:\n",
       "  0.62916   -0.596328  -0.498548\n",
       " -0.73877   -0.259403  -0.622036\n",
       "  0.241613   0.759673  -0.603755"
      ]
     },
     "execution_count": 86,
     "metadata": {},
     "output_type": "execute_result"
    }
   ],
   "source": [
    "#Собственные векторы:\n",
    "AsymEig.vectors"
   ]
  },
  {
   "cell_type": "code",
   "execution_count": 88,
   "metadata": {
    "tags": []
   },
   "outputs": [
    {
     "data": {
      "text/plain": [
       "3×3 Matrix{Float64}:\n",
       "  1.0           2.66454e-15  3.10862e-15\n",
       "  1.11022e-15   1.0          1.55431e-15\n",
       " -3.10862e-15  -2.66454e-15  1.0"
      ]
     },
     "execution_count": 88,
     "metadata": {},
     "output_type": "execute_result"
    }
   ],
   "source": [
    "# Проверяем, что получится единичная матрица:\n",
    "inv(AsymEig)*Asym"
   ]
  },
  {
   "cell_type": "code",
   "execution_count": 90,
   "metadata": {
    "tags": []
   },
   "outputs": [
    {
     "data": {
      "text/plain": [
       "1000×1000 Matrix{Float64}:\n",
       "  0.145678   -2.09796     0.371242   …   1.0364      0.640123    0.605619\n",
       "  0.528729   -1.3466      0.18581       -0.458951   -0.160147    0.766213\n",
       " -1.77042    -1.67603    -1.15056       -0.0874261   0.0629916  -0.135821\n",
       " -0.279828    0.0370928  -1.54006       -0.375403    0.698306    0.621639\n",
       "  1.18356     0.370427    2.4111        -1.48507    -0.668565    0.712572\n",
       " -0.267973   -0.652426   -0.43766    …  -0.234668    1.20137    -0.637785\n",
       "  0.915547    0.539074    1.17664        1.89096    -0.248465   -0.23787\n",
       "  0.69756    -0.151839   -0.296609      -0.0284107  -0.170259   -0.516867\n",
       " -0.282964    2.89712    -0.210701       1.2273      0.438124    2.36076\n",
       " -0.538873    0.416527   -0.601241       0.586093    1.70513     0.952744\n",
       "  0.210923    0.0639703  -1.93127    …  -0.353719    1.09359    -0.623454\n",
       "  2.59561     1.1324      0.964851      -1.76586     0.111247    0.735038\n",
       " -0.496435    1.52672     0.599742       0.589988    1.30489     0.972948\n",
       "  ⋮                                  ⋱                          \n",
       "  0.562163   -0.956142   -3.5368         0.617387    0.205788   -1.71322\n",
       "  1.78537    -1.53803     0.231132      -0.681622    0.189001    0.914589\n",
       " -1.2565     -1.25046     0.908643   …  -0.411648    1.2333     -0.873703\n",
       " -1.38878    -0.934201    1.03458       -0.333723    0.0269304  -1.10727\n",
       " -1.07837    -0.372949    0.432681      -2.42585    -0.398173    0.772855\n",
       "  1.13652     0.585185   -1.06978        3.11415     0.036929   -0.726685\n",
       "  1.95734    -0.442784   -1.05317        0.274      -0.599454    1.06383\n",
       "  0.464526    0.288391    2.29629    …  -0.599927    0.398798   -1.10519\n",
       "  0.0566294   0.537454    0.123746      -0.380964    0.0279099   1.03905\n",
       "  0.820493   -0.296017    1.08016       -0.156861    0.997232    0.649939\n",
       " -0.452679    1.26647    -0.860126      -0.322121   -1.18713     0.6931\n",
       " -0.098936   -0.0852735  -0.0853568      0.510708    0.567533   -0.287865"
      ]
     },
     "execution_count": 90,
     "metadata": {},
     "output_type": "execute_result"
    }
   ],
   "source": [
    "# Матрица 1000 х 1000:\n",
    "n = 1000\n",
    "A = randn(n,n)"
   ]
  },
  {
   "cell_type": "code",
   "execution_count": 92,
   "metadata": {
    "tags": []
   },
   "outputs": [
    {
     "data": {
      "text/plain": [
       "1000×1000 Matrix{Float64}:\n",
       "  0.291357   -1.56923    -1.39918    …   1.85689     0.187444    0.506683\n",
       " -1.56923    -2.6932     -1.49022       -0.754968    1.10632     0.68094\n",
       " -1.39918    -1.49022    -2.30112        0.99273    -0.797134   -0.221178\n",
       " -0.347395    0.276533   -1.34956        1.11688    -0.0298017   0.167306\n",
       "  3.90814    -0.448152    3.11968       -3.17615    -0.886637    1.756\n",
       "  1.5434     -0.0254891  -0.466988   …  -0.0558649   1.12509     0.758792\n",
       "  1.74196     0.892849    0.176108       1.30557    -1.39873     0.449264\n",
       " -0.121089   -0.457916   -0.274718       1.71998    -1.0829     -0.285236\n",
       "  1.38659     3.01964     1.94639        1.76113    -0.480088    4.26256\n",
       "  0.128627    0.54673     0.0723914      0.528345    2.87871     3.6812\n",
       "  0.0956949  -0.992318   -1.04406    …  -0.927922    0.904211   -1.13191\n",
       "  2.96932     2.37411     0.940668      -2.5133      0.919277    1.1746\n",
       " -0.648856    2.04737     0.472488       0.63303     2.55265     0.00797444\n",
       "  ⋮                                  ⋱                          \n",
       "  1.44157    -1.63118    -5.64235        0.438064    1.71865    -1.59158\n",
       "  1.38065    -1.58671     0.580974       0.381833    0.296747    3.72581\n",
       " -2.03087    -0.394341    2.17406    …  -0.164631    0.610997   -1.74269\n",
       " -2.03675     0.81989     2.05559       -0.387363   -0.529037    0.16605\n",
       " -0.691508   -1.13514     1.64349       -1.03618    -0.186936    1.01965\n",
       "  1.96429     0.726367   -2.43164        3.76243    -0.444916    0.616191\n",
       "  1.64337     0.306503   -0.242901       1.08283    -0.541516    1.82458\n",
       "  0.801663   -0.966926    1.27133    …  -0.198313   -0.409904   -0.326065\n",
       " -0.970558    1.27757     0.527657      -1.59456     0.405109    2.25622\n",
       "  1.85689    -0.754968    0.99273       -0.313722    0.675111    1.16065\n",
       "  0.187444    1.10632    -0.797134       0.675111   -2.37427     1.26063\n",
       "  0.506683    0.68094    -0.221178       1.16065     1.26063    -0.57573"
      ]
     },
     "execution_count": 92,
     "metadata": {},
     "output_type": "execute_result"
    }
   ],
   "source": [
    "# Симметризация матрицы:\n",
    "Asym = A + A'"
   ]
  },
  {
   "cell_type": "code",
   "execution_count": 94,
   "metadata": {
    "tags": []
   },
   "outputs": [
    {
     "data": {
      "text/plain": [
       "true"
      ]
     },
     "execution_count": 94,
     "metadata": {},
     "output_type": "execute_result"
    }
   ],
   "source": [
    "# Проверка, является ли матрица симметричной:\n",
    "issymmetric(Asym)"
   ]
  },
  {
   "cell_type": "code",
   "execution_count": 96,
   "metadata": {
    "tags": []
   },
   "outputs": [
    {
     "data": {
      "text/plain": [
       "false"
      ]
     },
     "execution_count": 96,
     "metadata": {},
     "output_type": "execute_result"
    }
   ],
   "source": [
    "# Добавление шума:\n",
    "Asym_noisy = copy(Asym)\n",
    "Asym_noisy[1,2] += 5eps()\n",
    "# Проверка, является ли матрица симметричной:\n",
    "issymmetric(Asym_noisy)"
   ]
  },
  {
   "cell_type": "code",
   "execution_count": 98,
   "metadata": {
    "tags": []
   },
   "outputs": [
    {
     "data": {
      "text/plain": [
       "1000×1000 Symmetric{Float64, Matrix{Float64}}:\n",
       "  0.291357   -1.56923    -1.39918    …   1.85689     0.187444    0.506683\n",
       " -1.56923    -2.6932     -1.49022       -0.754968    1.10632     0.68094\n",
       " -1.39918    -1.49022    -2.30112        0.99273    -0.797134   -0.221178\n",
       " -0.347395    0.276533   -1.34956        1.11688    -0.0298017   0.167306\n",
       "  3.90814    -0.448152    3.11968       -3.17615    -0.886637    1.756\n",
       "  1.5434     -0.0254891  -0.466988   …  -0.0558649   1.12509     0.758792\n",
       "  1.74196     0.892849    0.176108       1.30557    -1.39873     0.449264\n",
       " -0.121089   -0.457916   -0.274718       1.71998    -1.0829     -0.285236\n",
       "  1.38659     3.01964     1.94639        1.76113    -0.480088    4.26256\n",
       "  0.128627    0.54673     0.0723914      0.528345    2.87871     3.6812\n",
       "  0.0956949  -0.992318   -1.04406    …  -0.927922    0.904211   -1.13191\n",
       "  2.96932     2.37411     0.940668      -2.5133      0.919277    1.1746\n",
       " -0.648856    2.04737     0.472488       0.63303     2.55265     0.00797444\n",
       "  ⋮                                  ⋱                          \n",
       "  1.44157    -1.63118    -5.64235        0.438064    1.71865    -1.59158\n",
       "  1.38065    -1.58671     0.580974       0.381833    0.296747    3.72581\n",
       " -2.03087    -0.394341    2.17406    …  -0.164631    0.610997   -1.74269\n",
       " -2.03675     0.81989     2.05559       -0.387363   -0.529037    0.16605\n",
       " -0.691508   -1.13514     1.64349       -1.03618    -0.186936    1.01965\n",
       "  1.96429     0.726367   -2.43164        3.76243    -0.444916    0.616191\n",
       "  1.64337     0.306503   -0.242901       1.08283    -0.541516    1.82458\n",
       "  0.801663   -0.966926    1.27133    …  -0.198313   -0.409904   -0.326065\n",
       " -0.970558    1.27757     0.527657      -1.59456     0.405109    2.25622\n",
       "  1.85689    -0.754968    0.99273       -0.313722    0.675111    1.16065\n",
       "  0.187444    1.10632    -0.797134       0.675111   -2.37427     1.26063\n",
       "  0.506683    0.68094    -0.221178       1.16065     1.26063    -0.57573"
      ]
     },
     "execution_count": 98,
     "metadata": {},
     "output_type": "execute_result"
    }
   ],
   "source": [
    "# Явно указываем, что матрица является симметричной:\n",
    "Asym_explicit = Symmetric(Asym_noisy)"
   ]
  },
  {
   "cell_type": "code",
   "execution_count": 100,
   "metadata": {
    "tags": []
   },
   "outputs": [
    {
     "name": "stderr",
     "output_type": "stream",
     "text": [
      "\u001b[32m\u001b[1m   Resolving\u001b[22m\u001b[39m package versions...\n",
      "\u001b[32m\u001b[1m   Installed\u001b[22m\u001b[39m BenchmarkTools ─ v1.5.0\n",
      "\u001b[32m\u001b[1m    Updating\u001b[22m\u001b[39m `C:\\Users\\GanZL\\.julia\\environments\\v1.11\\Project.toml`\n",
      "  \u001b[90m[6e4b80f9] \u001b[39m\u001b[92m+ BenchmarkTools v1.5.0\u001b[39m\n",
      "\u001b[32m\u001b[1m    Updating\u001b[22m\u001b[39m `C:\\Users\\GanZL\\.julia\\environments\\v1.11\\Manifest.toml`\n",
      "  \u001b[90m[6e4b80f9] \u001b[39m\u001b[92m+ BenchmarkTools v1.5.0\u001b[39m\n",
      "  \u001b[90m[9abbd945] \u001b[39m\u001b[92m+ Profile v1.11.0\u001b[39m\n",
      "\u001b[92m\u001b[1mPrecompiling\u001b[22m\u001b[39m project...\n",
      "   2125.6 ms\u001b[32m  ✓ \u001b[39mBenchmarkTools\n",
      "  1 dependency successfully precompiled in 2 seconds. 54 already precompiled.\n"
     ]
    }
   ],
   "source": [
    "import Pkg\n",
    "Pkg.add(\"BenchmarkTools\")\n",
    "using BenchmarkTools"
   ]
  },
  {
   "cell_type": "code",
   "execution_count": 102,
   "metadata": {
    "tags": []
   },
   "outputs": [
    {
     "name": "stdout",
     "output_type": "stream",
     "text": [
      "  34.939 ms (21 allocations: 7.99 MiB)\n"
     ]
    }
   ],
   "source": [
    "# Оценка эффективности выполнения операции по нахождению\n",
    "# собственных значений симметризованной матрицы:\n",
    "@btime eigvals(Asym);"
   ]
  },
  {
   "cell_type": "code",
   "execution_count": 104,
   "metadata": {
    "tags": []
   },
   "outputs": [
    {
     "name": "stdout",
     "output_type": "stream",
     "text": [
      "  259.575 ms (27 allocations: 7.93 MiB)\n"
     ]
    }
   ],
   "source": [
    "# Оценка эффективности выполнения операции по нахождению\n",
    "# собственных значений зашумлённой матрицы:\n",
    "@btime eigvals(Asym_noisy);"
   ]
  },
  {
   "cell_type": "code",
   "execution_count": 106,
   "metadata": {
    "tags": []
   },
   "outputs": [
    {
     "name": "stdout",
     "output_type": "stream",
     "text": [
      "  34.553 ms (21 allocations: 7.99 MiB)\n"
     ]
    }
   ],
   "source": [
    "# Оценка эффективности выполнения операции по нахождению\n",
    "# собственных значений зашумлённой матрицы,\n",
    "# для которой явно указано, что она симметричная:\n",
    "@btime eigvals(Asym_explicit);"
   ]
  },
  {
   "cell_type": "code",
   "execution_count": 108,
   "metadata": {
    "scrolled": true,
    "tags": []
   },
   "outputs": [
    {
     "data": {
      "text/plain": [
       "1000000×1000000 SymTridiagonal{Float64, Vector{Float64}}:\n",
       " 0.245908  0.546101    ⋅         ⋅         …    ⋅          ⋅          ⋅ \n",
       " 0.546101  0.0125396  0.71222    ⋅              ⋅          ⋅          ⋅ \n",
       "  ⋅        0.71222    1.55519   1.33239         ⋅          ⋅          ⋅ \n",
       "  ⋅         ⋅         1.33239   0.0314337       ⋅          ⋅          ⋅ \n",
       "  ⋅         ⋅          ⋅       -0.84155         ⋅          ⋅          ⋅ \n",
       "  ⋅         ⋅          ⋅         ⋅         …    ⋅          ⋅          ⋅ \n",
       "  ⋅         ⋅          ⋅         ⋅              ⋅          ⋅          ⋅ \n",
       "  ⋅         ⋅          ⋅         ⋅              ⋅          ⋅          ⋅ \n",
       "  ⋅         ⋅          ⋅         ⋅              ⋅          ⋅          ⋅ \n",
       "  ⋅         ⋅          ⋅         ⋅              ⋅          ⋅          ⋅ \n",
       "  ⋅         ⋅          ⋅         ⋅         …    ⋅          ⋅          ⋅ \n",
       "  ⋅         ⋅          ⋅         ⋅              ⋅          ⋅          ⋅ \n",
       "  ⋅         ⋅          ⋅         ⋅              ⋅          ⋅          ⋅ \n",
       " ⋮                                         ⋱                        \n",
       "  ⋅         ⋅          ⋅         ⋅              ⋅          ⋅          ⋅ \n",
       "  ⋅         ⋅          ⋅         ⋅              ⋅          ⋅          ⋅ \n",
       "  ⋅         ⋅          ⋅         ⋅         …    ⋅          ⋅          ⋅ \n",
       "  ⋅         ⋅          ⋅         ⋅              ⋅          ⋅          ⋅ \n",
       "  ⋅         ⋅          ⋅         ⋅              ⋅          ⋅          ⋅ \n",
       "  ⋅         ⋅          ⋅         ⋅              ⋅          ⋅          ⋅ \n",
       "  ⋅         ⋅          ⋅         ⋅              ⋅          ⋅          ⋅ \n",
       "  ⋅         ⋅          ⋅         ⋅         …    ⋅          ⋅          ⋅ \n",
       "  ⋅         ⋅          ⋅         ⋅             0.943751    ⋅          ⋅ \n",
       "  ⋅         ⋅          ⋅         ⋅            -0.870814   0.580886    ⋅ \n",
       "  ⋅         ⋅          ⋅         ⋅             0.580886  -0.8319    -0.100553\n",
       "  ⋅         ⋅          ⋅         ⋅              ⋅        -0.100553  -0.174722"
      ]
     },
     "execution_count": 108,
     "metadata": {},
     "output_type": "execute_result"
    }
   ],
   "source": [
    "# Трёхдиагональная матрица 1000000 х 1000000:\n",
    "n = 1000000;\n",
    "A = SymTridiagonal(randn(n), randn(n-1))"
   ]
  },
  {
   "cell_type": "code",
   "execution_count": 110,
   "metadata": {
    "tags": []
   },
   "outputs": [
    {
     "name": "stdout",
     "output_type": "stream",
     "text": [
      "  319.483 ms (44 allocations: 183.11 MiB)\n"
     ]
    },
    {
     "data": {
      "text/plain": [
       "6.919811236474235"
      ]
     },
     "execution_count": 110,
     "metadata": {},
     "output_type": "execute_result"
    }
   ],
   "source": [
    "# Оценка эффективности выполнения операции по нахождению\n",
    "# собственных значений:\n",
    "@btime eigmax(A)"
   ]
  },
  {
   "cell_type": "markdown",
   "metadata": {},
   "source": [
    "## Общая линейная алгебра"
   ]
  },
  {
   "cell_type": "code",
   "execution_count": 112,
   "metadata": {
    "tags": []
   },
   "outputs": [
    {
     "data": {
      "text/plain": [
       "3×3 Matrix{Rational{BigInt}}:\n",
       " 3//10  4//5   1//5\n",
       "  1     1//10   1\n",
       " 3//10  3//10  2//5"
      ]
     },
     "execution_count": 112,
     "metadata": {},
     "output_type": "execute_result"
    }
   ],
   "source": [
    "# Матрица с рациональными элементами:\n",
    "Arational = Matrix{Rational{BigInt}}(rand(1:10, 3, 3))/10"
   ]
  },
  {
   "cell_type": "code",
   "execution_count": 114,
   "metadata": {
    "tags": []
   },
   "outputs": [
    {
     "data": {
      "text/plain": [
       "3-element Vector{Rational{BigInt}}:\n",
       " 13//10\n",
       " 21//10\n",
       "   1"
      ]
     },
     "execution_count": 114,
     "metadata": {},
     "output_type": "execute_result"
    }
   ],
   "source": [
    "# Единичный вектор:\n",
    "x = fill(1, 3)\n",
    "# Задаём вектор b\n",
    "b = Arational*x"
   ]
  },
  {
   "cell_type": "code",
   "execution_count": 116,
   "metadata": {
    "tags": []
   },
   "outputs": [
    {
     "data": {
      "text/plain": [
       "3-element Vector{Rational{BigInt}}:\n",
       " 1\n",
       " 1\n",
       " 1"
      ]
     },
     "execution_count": 116,
     "metadata": {},
     "output_type": "execute_result"
    }
   ],
   "source": [
    "# Решение исходного уравнения получаем с помощью функции \\\n",
    "# (убеждаемся, что x - единичный вектор):\n",
    "Arational\\b"
   ]
  },
  {
   "cell_type": "code",
   "execution_count": 118,
   "metadata": {
    "tags": []
   },
   "outputs": [
    {
     "data": {
      "text/plain": [
       "LU{Rational{BigInt}, Matrix{Rational{BigInt}}, Vector{Int64}}\n",
       "L factor:\n",
       "3×3 Matrix{Rational{BigInt}}:\n",
       "  1       0     0\n",
       " 3//10    1     0\n",
       " 3//10  27//77  1\n",
       "U factor:\n",
       "3×3 Matrix{Rational{BigInt}}:\n",
       " 1   1//10     1\n",
       " 0  77//100  -1//10\n",
       " 0    0      52//385"
      ]
     },
     "execution_count": 118,
     "metadata": {},
     "output_type": "execute_result"
    }
   ],
   "source": [
    "# LU-разложение:\n",
    "lu(Arational)"
   ]
  },
  {
   "cell_type": "markdown",
   "metadata": {},
   "source": [
    "## Задания для самостоятельного выполнения"
   ]
  },
  {
   "cell_type": "markdown",
   "metadata": {},
   "source": [
    "### 4.4.1. Произведение векторов\n",
    "1. Задайте вектор v. Умножьте вектор v скалярно сам на себя и сохраните результат в dot_v.\n",
    "2. Умножьте v матрично на себя (внешнее произведение), присвоив результат переменной outer_v."
   ]
  },
  {
   "cell_type": "code",
   "execution_count": 120,
   "metadata": {
    "tags": []
   },
   "outputs": [
    {
     "data": {
      "text/plain": [
       "114"
      ]
     },
     "execution_count": 120,
     "metadata": {},
     "output_type": "execute_result"
    }
   ],
   "source": [
    "v = [3, 5, 8, 4]\n",
    "dot_v = dot(v, v)"
   ]
  },
  {
   "cell_type": "code",
   "execution_count": 122,
   "metadata": {
    "tags": []
   },
   "outputs": [
    {
     "data": {
      "text/plain": [
       "4×4 Matrix{Int64}:\n",
       "  9  15  24  12\n",
       " 15  25  40  20\n",
       " 24  40  64  32\n",
       " 12  20  32  16"
      ]
     },
     "execution_count": 122,
     "metadata": {},
     "output_type": "execute_result"
    }
   ],
   "source": [
    "outer_v = v * v'"
   ]
  },
  {
   "cell_type": "markdown",
   "metadata": {
    "tags": []
   },
   "source": [
    "1. Скалярное произведение (dot_v): Результатом является скаляр, который вычисляется как сумма произведений соответствующих элементов вектора на самих себя. В данном случае результат равен 114.\n",
    "2. Внешнее произведение (outer_v): Результатом является матрица 4x4, каждый элемент которой представляет собой произведение соответствующих элементов вектора. Полученная матрица является симметричной."
   ]
  },
  {
   "cell_type": "markdown",
   "metadata": {},
   "source": [
    " ###   4.4.2. Системы линейных уравнений\n",
    " A - коэффициенты при неизвестных\\\n",
    " b - ответы"
   ]
  },
  {
   "cell_type": "code",
   "execution_count": 125,
   "metadata": {
    "tags": []
   },
   "outputs": [
    {
     "data": {
      "text/plain": [
       "2-element Vector{Int64}:\n",
       " 2\n",
       " 3"
      ]
     },
     "execution_count": 125,
     "metadata": {},
     "output_type": "execute_result"
    }
   ],
   "source": [
    "# first task\n",
    "A_1 = [1 1; 1 -1]\n",
    "b_1 = [2; 3]"
   ]
  },
  {
   "cell_type": "code",
   "execution_count": 127,
   "metadata": {
    "tags": []
   },
   "outputs": [
    {
     "data": {
      "text/plain": [
       "2-element Vector{Float64}:\n",
       "  2.5\n",
       " -0.5"
      ]
     },
     "execution_count": 127,
     "metadata": {},
     "output_type": "execute_result"
    }
   ],
   "source": [
    "# Решение уравнения получаем с помощью функции \\\n",
    "A_1\\b_1"
   ]
  },
  {
   "cell_type": "code",
   "execution_count": 129,
   "metadata": {
    "tags": []
   },
   "outputs": [
    {
     "data": {
      "text/plain": [
       "2-element Vector{Int64}:\n",
       " 2\n",
       " 4"
      ]
     },
     "execution_count": 129,
     "metadata": {},
     "output_type": "execute_result"
    }
   ],
   "source": [
    "# second task\n",
    "A_2 = [1 1; 2 2]\n",
    "b_2 = [2; 4]"
   ]
  },
  {
   "cell_type": "code",
   "execution_count": 131,
   "metadata": {
    "scrolled": true,
    "tags": []
   },
   "outputs": [
    {
     "ename": "LoadError",
     "evalue": "SingularException(2)",
     "output_type": "error",
     "traceback": [
      "SingularException(2)",
      "",
      "Stacktrace:",
      "  [1] checknonsingular",
      "    @ C:\\Users\\GanZL\\.julia\\juliaup\\julia-1.11.1+0.x64.w64.mingw32\\share\\julia\\stdlib\\v1.11\\LinearAlgebra\\src\\factorization.jl:69 [inlined]",
      "  [2] _check_lu_success",
      "    @ C:\\Users\\GanZL\\.julia\\juliaup\\julia-1.11.1+0.x64.w64.mingw32\\share\\julia\\stdlib\\v1.11\\LinearAlgebra\\src\\lu.jl:84 [inlined]",
      "  [3] #lu!#182",
      "    @ C:\\Users\\GanZL\\.julia\\juliaup\\julia-1.11.1+0.x64.w64.mingw32\\share\\julia\\stdlib\\v1.11\\LinearAlgebra\\src\\lu.jl:92 [inlined]",
      "  [4] lu!",
      "    @ C:\\Users\\GanZL\\.julia\\juliaup\\julia-1.11.1+0.x64.w64.mingw32\\share\\julia\\stdlib\\v1.11\\LinearAlgebra\\src\\lu.jl:90 [inlined]",
      "  [5] lu!",
      "    @ C:\\Users\\GanZL\\.julia\\juliaup\\julia-1.11.1+0.x64.w64.mingw32\\share\\julia\\stdlib\\v1.11\\LinearAlgebra\\src\\lu.jl:89 [inlined]",
      "  [6] _lu",
      "    @ C:\\Users\\GanZL\\.julia\\juliaup\\julia-1.11.1+0.x64.w64.mingw32\\share\\julia\\stdlib\\v1.11\\LinearAlgebra\\src\\lu.jl:347 [inlined]",
      "  [7] lu(::Matrix{Int64}; kwargs::@Kwargs{})",
      "    @ LinearAlgebra C:\\Users\\GanZL\\.julia\\juliaup\\julia-1.11.1+0.x64.w64.mingw32\\share\\julia\\stdlib\\v1.11\\LinearAlgebra\\src\\lu.jl:341",
      "  [8] lu",
      "    @ C:\\Users\\GanZL\\.julia\\juliaup\\julia-1.11.1+0.x64.w64.mingw32\\share\\julia\\stdlib\\v1.11\\LinearAlgebra\\src\\lu.jl:341 [inlined]",
      "  [9] \\(A::Matrix{Int64}, B::Vector{Int64})",
      "    @ LinearAlgebra C:\\Users\\GanZL\\.julia\\juliaup\\julia-1.11.1+0.x64.w64.mingw32\\share\\julia\\stdlib\\v1.11\\LinearAlgebra\\src\\generic.jl:1132",
      " [10] top-level scope",
      "    @ In[131]:1"
     ]
    }
   ],
   "source": [
    "A_2\\b_2"
   ]
  },
  {
   "cell_type": "code",
   "execution_count": 134,
   "metadata": {
    "tags": []
   },
   "outputs": [
    {
     "data": {
      "text/plain": [
       "2-element Vector{Int64}:\n",
       " 2\n",
       " 5"
      ]
     },
     "execution_count": 134,
     "metadata": {},
     "output_type": "execute_result"
    }
   ],
   "source": [
    "# third task\n",
    "A_3 = [1 1; 2 2]\n",
    "b_3 = [2; 5]"
   ]
  },
  {
   "cell_type": "code",
   "execution_count": 136,
   "metadata": {
    "scrolled": true,
    "tags": []
   },
   "outputs": [
    {
     "ename": "LoadError",
     "evalue": "SingularException(2)",
     "output_type": "error",
     "traceback": [
      "SingularException(2)",
      "",
      "Stacktrace:",
      "  [1] checknonsingular",
      "    @ C:\\Users\\GanZL\\.julia\\juliaup\\julia-1.11.1+0.x64.w64.mingw32\\share\\julia\\stdlib\\v1.11\\LinearAlgebra\\src\\factorization.jl:69 [inlined]",
      "  [2] _check_lu_success",
      "    @ C:\\Users\\GanZL\\.julia\\juliaup\\julia-1.11.1+0.x64.w64.mingw32\\share\\julia\\stdlib\\v1.11\\LinearAlgebra\\src\\lu.jl:84 [inlined]",
      "  [3] #lu!#182",
      "    @ C:\\Users\\GanZL\\.julia\\juliaup\\julia-1.11.1+0.x64.w64.mingw32\\share\\julia\\stdlib\\v1.11\\LinearAlgebra\\src\\lu.jl:92 [inlined]",
      "  [4] lu!",
      "    @ C:\\Users\\GanZL\\.julia\\juliaup\\julia-1.11.1+0.x64.w64.mingw32\\share\\julia\\stdlib\\v1.11\\LinearAlgebra\\src\\lu.jl:90 [inlined]",
      "  [5] lu!",
      "    @ C:\\Users\\GanZL\\.julia\\juliaup\\julia-1.11.1+0.x64.w64.mingw32\\share\\julia\\stdlib\\v1.11\\LinearAlgebra\\src\\lu.jl:89 [inlined]",
      "  [6] _lu",
      "    @ C:\\Users\\GanZL\\.julia\\juliaup\\julia-1.11.1+0.x64.w64.mingw32\\share\\julia\\stdlib\\v1.11\\LinearAlgebra\\src\\lu.jl:347 [inlined]",
      "  [7] lu(::Matrix{Int64}; kwargs::@Kwargs{})",
      "    @ LinearAlgebra C:\\Users\\GanZL\\.julia\\juliaup\\julia-1.11.1+0.x64.w64.mingw32\\share\\julia\\stdlib\\v1.11\\LinearAlgebra\\src\\lu.jl:341",
      "  [8] lu",
      "    @ C:\\Users\\GanZL\\.julia\\juliaup\\julia-1.11.1+0.x64.w64.mingw32\\share\\julia\\stdlib\\v1.11\\LinearAlgebra\\src\\lu.jl:341 [inlined]",
      "  [9] \\(A::Matrix{Int64}, B::Vector{Int64})",
      "    @ LinearAlgebra C:\\Users\\GanZL\\.julia\\juliaup\\julia-1.11.1+0.x64.w64.mingw32\\share\\julia\\stdlib\\v1.11\\LinearAlgebra\\src\\generic.jl:1132",
      " [10] top-level scope",
      "    @ In[136]:1"
     ]
    }
   ],
   "source": [
    "A_3\\b_3"
   ]
  },
  {
   "cell_type": "code",
   "execution_count": 138,
   "metadata": {
    "tags": []
   },
   "outputs": [
    {
     "data": {
      "text/plain": [
       "2-element Vector{Float64}:\n",
       " 0.4999999999999999\n",
       " 0.5"
      ]
     },
     "execution_count": 138,
     "metadata": {},
     "output_type": "execute_result"
    }
   ],
   "source": [
    "# fourth task\n",
    "A_4 = [1 1; 2 2; 3 3]\n",
    "b_4 = [1; 2; 3]\n",
    "A_4\\b_4"
   ]
  },
  {
   "cell_type": "code",
   "execution_count": 140,
   "metadata": {
    "tags": []
   },
   "outputs": [
    {
     "data": {
      "text/plain": [
       "2-element Vector{Float64}:\n",
       "  1.5000000000000004\n",
       " -0.9999999999999997"
      ]
     },
     "execution_count": 140,
     "metadata": {},
     "output_type": "execute_result"
    }
   ],
   "source": [
    "# fifth task\n",
    "A_5 = [1 1; 2 1; 1 -1]\n",
    "b_5 = [2; 1; 3]\n",
    "A_5\\b_5"
   ]
  },
  {
   "cell_type": "code",
   "execution_count": 142,
   "metadata": {
    "scrolled": true,
    "tags": []
   },
   "outputs": [
    {
     "data": {
      "text/plain": [
       "2-element Vector{Float64}:\n",
       " -0.9999999999999989\n",
       "  2.9999999999999982"
      ]
     },
     "execution_count": 142,
     "metadata": {},
     "output_type": "execute_result"
    }
   ],
   "source": [
    "# sixth task\n",
    "A_6 = [1 1; 2 1; 3 2]\n",
    "b_6 = [2; 1; 3]\n",
    "A_6\\b_6"
   ]
  },
  {
   "cell_type": "code",
   "execution_count": 144,
   "metadata": {
    "tags": []
   },
   "outputs": [
    {
     "data": {
      "text/plain": [
       "3-element Vector{Float64}:\n",
       "  2.2142857142857144\n",
       "  0.35714285714285704\n",
       " -0.5714285714285712"
      ]
     },
     "execution_count": 144,
     "metadata": {},
     "output_type": "execute_result"
    }
   ],
   "source": [
    "# seventh task\n",
    "A_7 = [1 1 1; 1 -1 -2]\n",
    "b_7 = [2; 3]\n",
    "A_7\\b_7"
   ]
  },
  {
   "cell_type": "code",
   "execution_count": 146,
   "metadata": {
    "tags": []
   },
   "outputs": [
    {
     "data": {
      "text/plain": [
       "3-element Vector{Float64}:\n",
       " -0.5\n",
       "  2.5\n",
       "  0.0"
      ]
     },
     "execution_count": 146,
     "metadata": {},
     "output_type": "execute_result"
    }
   ],
   "source": [
    "# eighth task\n",
    "A_8 = [1 1 1; 2 2 -3; 3 1 1]\n",
    "b_8 = [2; 4; 1]\n",
    "A_8\\b_8"
   ]
  },
  {
   "cell_type": "code",
   "execution_count": 148,
   "metadata": {
    "scrolled": true,
    "tags": []
   },
   "outputs": [
    {
     "ename": "LoadError",
     "evalue": "SingularException(2)",
     "output_type": "error",
     "traceback": [
      "SingularException(2)",
      "",
      "Stacktrace:",
      "  [1] checknonsingular",
      "    @ C:\\Users\\GanZL\\.julia\\juliaup\\julia-1.11.1+0.x64.w64.mingw32\\share\\julia\\stdlib\\v1.11\\LinearAlgebra\\src\\factorization.jl:69 [inlined]",
      "  [2] _check_lu_success",
      "    @ C:\\Users\\GanZL\\.julia\\juliaup\\julia-1.11.1+0.x64.w64.mingw32\\share\\julia\\stdlib\\v1.11\\LinearAlgebra\\src\\lu.jl:84 [inlined]",
      "  [3] #lu!#182",
      "    @ C:\\Users\\GanZL\\.julia\\juliaup\\julia-1.11.1+0.x64.w64.mingw32\\share\\julia\\stdlib\\v1.11\\LinearAlgebra\\src\\lu.jl:92 [inlined]",
      "  [4] lu!",
      "    @ C:\\Users\\GanZL\\.julia\\juliaup\\julia-1.11.1+0.x64.w64.mingw32\\share\\julia\\stdlib\\v1.11\\LinearAlgebra\\src\\lu.jl:90 [inlined]",
      "  [5] lu!",
      "    @ C:\\Users\\GanZL\\.julia\\juliaup\\julia-1.11.1+0.x64.w64.mingw32\\share\\julia\\stdlib\\v1.11\\LinearAlgebra\\src\\lu.jl:89 [inlined]",
      "  [6] _lu",
      "    @ C:\\Users\\GanZL\\.julia\\juliaup\\julia-1.11.1+0.x64.w64.mingw32\\share\\julia\\stdlib\\v1.11\\LinearAlgebra\\src\\lu.jl:347 [inlined]",
      "  [7] lu(::Matrix{Int64}; kwargs::@Kwargs{})",
      "    @ LinearAlgebra C:\\Users\\GanZL\\.julia\\juliaup\\julia-1.11.1+0.x64.w64.mingw32\\share\\julia\\stdlib\\v1.11\\LinearAlgebra\\src\\lu.jl:341",
      "  [8] lu",
      "    @ C:\\Users\\GanZL\\.julia\\juliaup\\julia-1.11.1+0.x64.w64.mingw32\\share\\julia\\stdlib\\v1.11\\LinearAlgebra\\src\\lu.jl:341 [inlined]",
      "  [9] \\(A::Matrix{Int64}, B::Vector{Int64})",
      "    @ LinearAlgebra C:\\Users\\GanZL\\.julia\\juliaup\\julia-1.11.1+0.x64.w64.mingw32\\share\\julia\\stdlib\\v1.11\\LinearAlgebra\\src\\generic.jl:1132",
      " [10] top-level scope",
      "    @ In[148]:4"
     ]
    }
   ],
   "source": [
    "# ninth task\n",
    "A_9 = [1 1 1; 1 1 2; 2 2 3]\n",
    "b_9 = [1; 0; 1]\n",
    "A_9\\b_9"
   ]
  },
  {
   "cell_type": "code",
   "execution_count": 150,
   "metadata": {
    "scrolled": true,
    "tags": []
   },
   "outputs": [
    {
     "ename": "LoadError",
     "evalue": "SingularException(2)",
     "output_type": "error",
     "traceback": [
      "SingularException(2)",
      "",
      "Stacktrace:",
      "  [1] checknonsingular",
      "    @ C:\\Users\\GanZL\\.julia\\juliaup\\julia-1.11.1+0.x64.w64.mingw32\\share\\julia\\stdlib\\v1.11\\LinearAlgebra\\src\\factorization.jl:69 [inlined]",
      "  [2] _check_lu_success",
      "    @ C:\\Users\\GanZL\\.julia\\juliaup\\julia-1.11.1+0.x64.w64.mingw32\\share\\julia\\stdlib\\v1.11\\LinearAlgebra\\src\\lu.jl:84 [inlined]",
      "  [3] #lu!#182",
      "    @ C:\\Users\\GanZL\\.julia\\juliaup\\julia-1.11.1+0.x64.w64.mingw32\\share\\julia\\stdlib\\v1.11\\LinearAlgebra\\src\\lu.jl:92 [inlined]",
      "  [4] lu!",
      "    @ C:\\Users\\GanZL\\.julia\\juliaup\\julia-1.11.1+0.x64.w64.mingw32\\share\\julia\\stdlib\\v1.11\\LinearAlgebra\\src\\lu.jl:90 [inlined]",
      "  [5] lu!",
      "    @ C:\\Users\\GanZL\\.julia\\juliaup\\julia-1.11.1+0.x64.w64.mingw32\\share\\julia\\stdlib\\v1.11\\LinearAlgebra\\src\\lu.jl:89 [inlined]",
      "  [6] _lu",
      "    @ C:\\Users\\GanZL\\.julia\\juliaup\\julia-1.11.1+0.x64.w64.mingw32\\share\\julia\\stdlib\\v1.11\\LinearAlgebra\\src\\lu.jl:347 [inlined]",
      "  [7] lu(::Matrix{Int64}; kwargs::@Kwargs{})",
      "    @ LinearAlgebra C:\\Users\\GanZL\\.julia\\juliaup\\julia-1.11.1+0.x64.w64.mingw32\\share\\julia\\stdlib\\v1.11\\LinearAlgebra\\src\\lu.jl:341",
      "  [8] lu",
      "    @ C:\\Users\\GanZL\\.julia\\juliaup\\julia-1.11.1+0.x64.w64.mingw32\\share\\julia\\stdlib\\v1.11\\LinearAlgebra\\src\\lu.jl:341 [inlined]",
      "  [9] \\(A::Matrix{Int64}, B::Vector{Int64})",
      "    @ LinearAlgebra C:\\Users\\GanZL\\.julia\\juliaup\\julia-1.11.1+0.x64.w64.mingw32\\share\\julia\\stdlib\\v1.11\\LinearAlgebra\\src\\generic.jl:1132",
      " [10] top-level scope",
      "    @ In[150]:4"
     ]
    }
   ],
   "source": [
    "# tenth task\n",
    "A_10 = [1 1 1; 1 1 2; 2 2 3]\n",
    "b_10 = [1; 0; 0]\n",
    "A_10\\b_10"
   ]
  },
  {
   "cell_type": "markdown",
   "metadata": {},
   "source": [
    "1.Представление СЛАУ в матричной форме: СЛАУ с двумя или несколькими неизвестными можно записать в матричной форме, где матрица коэффициентов переменных (A) умножается на вектор неизвестных (x), что дает вектор значений правой части (b):\n",
    "\n",
    "𝐴∗𝑥=𝑏\n",
    "\n",
    "Здесь A — это матрица коэффициентов, а b — вектор правых частей.\n",
    "\n",
    "2.Решение через оператор \"левого деления\" (\\): В Julia для решения линейных уравнений используется оператор \\, который находит вектор неизвестных x:\n",
    "\n",
    "x = A \\ b\n",
    "\n",
    "Этот оператор находит решение, используя методы линейной алгебры, такие как метод Гаусса или LU-разложение."
   ]
  },
  {
   "cell_type": "markdown",
   "metadata": {},
   "source": [
    "## 4.4.3 Операции с матрицами"
   ]
  },
  {
   "cell_type": "markdown",
   "metadata": {
    "tags": []
   },
   "source": [
    "#### Приведите приведенные ниже матрицы к диагональному виду"
   ]
  },
  {
   "cell_type": "code",
   "execution_count": 153,
   "metadata": {
    "tags": []
   },
   "outputs": [
    {
     "data": {
      "text/plain": [
       "diagonal_matrices (generic function with 1 method)"
      ]
     },
     "execution_count": 153,
     "metadata": {},
     "output_type": "execute_result"
    }
   ],
   "source": [
    "function diagonal_matrices(matrix)\n",
    "    # Проведем симметризацию матриц\n",
    "    Asym = matrix + matrix'\n",
    "    # Спектральное разложение симметризированной матрицы\n",
    "    AsymEig = eigen(Asym)\n",
    "    # в итоге приводим матрицу к диагональному виду\n",
    "    return inv(AsymEig.vectors) * matrix * AsymEig.vectors\n",
    "end"
   ]
  },
  {
   "cell_type": "code",
   "execution_count": 155,
   "metadata": {
    "tags": []
   },
   "outputs": [
    {
     "data": {
      "text/plain": [
       "2×2 Matrix{Float64}:\n",
       " -1.0  0.0\n",
       "  0.0  3.0"
      ]
     },
     "execution_count": 155,
     "metadata": {},
     "output_type": "execute_result"
    }
   ],
   "source": [
    "matrix_1 = [1 -2; -2 1]\n",
    "diagonal_matrices(matrix_1)"
   ]
  },
  {
   "cell_type": "code",
   "execution_count": 157,
   "metadata": {
    "tags": []
   },
   "outputs": [
    {
     "data": {
      "text/plain": [
       "2×2 Matrix{Float64}:\n",
       " -0.236068     4.44089e-16\n",
       "  2.22045e-16  4.23607"
      ]
     },
     "execution_count": 157,
     "metadata": {},
     "output_type": "execute_result"
    }
   ],
   "source": [
    "matrix_2 = [1 -2; -2 3]\n",
    "diagonal_matrices(matrix_2)"
   ]
  },
  {
   "cell_type": "code",
   "execution_count": 159,
   "metadata": {
    "tags": []
   },
   "outputs": [
    {
     "data": {
      "text/plain": [
       "3×3 Matrix{Float64}:\n",
       " -2.14134       3.55271e-15  -1.9984e-15\n",
       "  3.38618e-15   0.515138      1.11022e-16\n",
       " -6.66134e-16  -4.44089e-16   3.6262"
      ]
     },
     "execution_count": 159,
     "metadata": {},
     "output_type": "execute_result"
    }
   ],
   "source": [
    "matrix_3 = [1 -2 0; -2 1 2; 0 2 0]\n",
    "diagonal_matrices(matrix_3)"
   ]
  },
  {
   "cell_type": "markdown",
   "metadata": {},
   "source": [
    "1.Симметризация: Первым шагом симметризуем матрицу, чтобы работать с более удобной в вычислениях версией, так как симметричные матрицы имеют вещественные собственные значения.\n",
    "\n",
    "2.Спектральное разложение: Вычисляем собственные значения и векторы симметризованной матрицы, что позволяет привести исходную матрицу к диагональному виду.\n",
    "\n",
    "3.Диагонализация: Используем собственные векторы для преобразования матрицы в диагональный вид, что упрощает ее дальнейший анализ и вычисления."
   ]
  },
  {
   "cell_type": "markdown",
   "metadata": {
    "tags": []
   },
   "source": [
    "#### Вычислим матрицы"
   ]
  },
  {
   "cell_type": "code",
   "execution_count": 161,
   "metadata": {
    "tags": []
   },
   "outputs": [
    {
     "data": {
      "text/plain": [
       "2×2 Matrix{Int64}:\n",
       "  29525  -29524\n",
       " -29524   29525"
      ]
     },
     "execution_count": 161,
     "metadata": {},
     "output_type": "execute_result"
    }
   ],
   "source": [
    "([1 -2; -2 1])^10"
   ]
  },
  {
   "cell_type": "code",
   "execution_count": 163,
   "metadata": {
    "tags": []
   },
   "outputs": [
    {
     "data": {
      "text/plain": [
       "2×2 Matrix{Float64}:\n",
       "  2.1889   -0.45685\n",
       " -0.45685   2.1889"
      ]
     },
     "execution_count": 163,
     "metadata": {},
     "output_type": "execute_result"
    }
   ],
   "source": [
    "sqrt([5 -2; -2 5])"
   ]
  },
  {
   "cell_type": "code",
   "execution_count": 165,
   "metadata": {
    "tags": []
   },
   "outputs": [
    {
     "data": {
      "text/plain": [
       "2×2 Symmetric{ComplexF64, Matrix{ComplexF64}}:\n",
       "  0.971125+0.433013im  -0.471125+0.433013im\n",
       " -0.471125+0.433013im   0.971125+0.433013im"
      ]
     },
     "execution_count": 165,
     "metadata": {},
     "output_type": "execute_result"
    }
   ],
   "source": [
    "([1 -2; -2 1])^(1/3)"
   ]
  },
  {
   "cell_type": "code",
   "execution_count": 167,
   "metadata": {
    "tags": []
   },
   "outputs": [
    {
     "data": {
      "text/plain": [
       "2×2 Matrix{ComplexF64}:\n",
       " 0.568864+0.351578im  0.920442-0.217287im\n",
       " 0.920442-0.217287im   1.48931+0.134291im"
      ]
     },
     "execution_count": 167,
     "metadata": {},
     "output_type": "execute_result"
    }
   ],
   "source": [
    "sqrt([1 2; 2 3])"
   ]
  },
  {
   "cell_type": "markdown",
   "metadata": {},
   "source": [
    "1.Возведение матрицы в степень: Использую оператор ^, чтобы возвести матрицу в нужную степень. Это полезно, когда необходимо работать с многократными линейными преобразованиями.\n",
    "\n",
    "2.Извлечение корня: Применяю функцию sqrt() для извлечения квадратного корня из матрицы, что работает с симметричными положительно определёнными матрицами. Для кубического корня применяю возведение в степень 1/3."
   ]
  },
  {
   "cell_type": "markdown",
   "metadata": {},
   "source": [
    "#### Найдите собственные значения марицы A"
   ]
  },
  {
   "cell_type": "code",
   "execution_count": 169,
   "metadata": {
    "tags": []
   },
   "outputs": [
    {
     "data": {
      "text/plain": [
       "5-element Vector{Float64}:\n",
       " -128.49322764802145\n",
       "  -55.88778455305688\n",
       "   42.75216727931894\n",
       "   87.16111477514521\n",
       "  542.4677301466143"
      ]
     },
     "execution_count": 169,
     "metadata": {},
     "output_type": "execute_result"
    }
   ],
   "source": [
    "# Введем матрицу А \n",
    "A = [140 97 74 168 131; 97 106 89 131 36; 74 89 152 144 71; 168 131 144 54 142; 131 36 71 142 36]\n",
    "# Найдем собственные значения\n",
    "eigenvalues = eigvals(A)"
   ]
  },
  {
   "cell_type": "code",
   "execution_count": 171,
   "metadata": {
    "tags": []
   },
   "outputs": [
    {
     "name": "stdout",
     "output_type": "stream",
     "text": [
      "  1.170 μs (15 allocations: 2.55 KiB)\n"
     ]
    }
   ],
   "source": [
    "# Оценка эффективности выполнения операции по нахождению\n",
    "# собственных значений матрицы:\n",
    "@btime eigvals(A);"
   ]
  },
  {
   "cell_type": "code",
   "execution_count": 173,
   "metadata": {
    "tags": []
   },
   "outputs": [
    {
     "name": "stdout",
     "output_type": "stream",
     "text": [
      "  137.324 ns (5 allocations: 80 bytes)\n"
     ]
    },
    {
     "data": {
      "text/plain": [
       "5×5 Matrix{Float64}:\n",
       " -128.493    0.0      0.0      0.0       0.0\n",
       "    0.0    -55.8878   0.0      0.0       0.0\n",
       "    0.0      0.0     42.7522   0.0       0.0\n",
       "    0.0      0.0      0.0     87.1611    0.0\n",
       "    0.0      0.0      0.0      0.0     542.468"
      ]
     },
     "execution_count": 173,
     "metadata": {},
     "output_type": "execute_result"
    }
   ],
   "source": [
    "# Создадим диагональную матрицу из собственных значений\n",
    "B = zeros(5, 5)\n",
    "@btime for i in 1:1:5\n",
    "    B[i, i] = eigenvalues[i]\n",
    "end\n",
    "B"
   ]
  },
  {
   "cell_type": "code",
   "execution_count": 175,
   "metadata": {
    "tags": []
   },
   "outputs": [
    {
     "name": "stdout",
     "output_type": "stream",
     "text": [
      "  46.411 ns (2 allocations: 272 bytes)\n"
     ]
    },
    {
     "data": {
      "text/plain": [
       "5×5 Matrix{Float64}:\n",
       " 1.0        0.0        0.0       0.0       0.0\n",
       " 0.779762   1.0        0.0       0.0       0.0\n",
       " 0.440476  -0.47314    1.0       0.0       0.0\n",
       " 0.833333   0.183929  -0.556312  1.0       0.0\n",
       " 0.577381  -0.459012  -0.189658  0.897068  1.0"
      ]
     },
     "execution_count": 175,
     "metadata": {},
     "output_type": "execute_result"
    }
   ],
   "source": [
    "# Создадим нижнеждиагональную матрицу из матрицы А\n",
    "# LU-факторизация:\n",
    "Alu = lu(A)\n",
    "@btime Alu.L"
   ]
  },
  {
   "cell_type": "markdown",
   "metadata": {},
   "source": [
    "1.Собственные значения: Для нахождения собственных значений использую eigvals(). Это важный шаг для анализа структуры матрицы и её свойств.\n",
    "\n",
    "2.Диагональная матрица: Создаю диагональную матрицу из собственных значений, чтобы легко анализировать свойства матрицы в диагонализованной форме.\n",
    "\n",
    "3.Нижняя треугольная матрица: Использую LU-разложение для выделения нижней треугольной матрицы. Этот метод удобен для анализа, поскольку LU-разложение разбивает матрицу на произведение двух треугольных матриц, что упрощает дальнейшие вычисления."
   ]
  },
  {
   "cell_type": "markdown",
   "metadata": {},
   "source": [
    "## 4.4.4 Линейные модели экономики"
   ]
  },
  {
   "cell_type": "code",
   "execution_count": 177,
   "metadata": {
    "tags": []
   },
   "outputs": [
    {
     "data": {
      "text/plain": [
       "productive_matrix (generic function with 1 method)"
      ]
     },
     "execution_count": 177,
     "metadata": {},
     "output_type": "execute_result"
    }
   ],
   "source": [
    "function productive_matrix(matrix, size)\n",
    "    ans=\"\"\n",
    "    # единичная матрица\n",
    "    E = [1 0; 0 1]\n",
    "    # зададим любые неотрицательные числа\n",
    "    Y = rand(0:1000, size)\n",
    "    # По формуле вычислим x - A*x = y\n",
    "    S = E - matrix\n",
    "    # найдем значения x\n",
    "    X = S\\Y\n",
    "    # теперь проверим есть ли среди x отрциательное число\n",
    "    for i in 1:1:size\n",
    "        if X[i] < 0\n",
    "            ans = \"Матрица непродуктивная\"\n",
    "            break\n",
    "        else\n",
    "            ans = \"Матрица продуктивная\"\n",
    "        end\n",
    "    end\n",
    "    return ans\n",
    "end"
   ]
  },
  {
   "cell_type": "code",
   "execution_count": 179,
   "metadata": {
    "tags": []
   },
   "outputs": [
    {
     "data": {
      "text/plain": [
       "\"Матрица непродуктивная\""
      ]
     },
     "execution_count": 179,
     "metadata": {},
     "output_type": "execute_result"
    }
   ],
   "source": [
    "matrix_1 = [1 2; 3 4]\n",
    "productive_matrix(matrix_1, 2)"
   ]
  },
  {
   "cell_type": "code",
   "execution_count": 181,
   "metadata": {
    "tags": []
   },
   "outputs": [
    {
     "data": {
      "text/plain": [
       "\"Матрица непродуктивная\""
      ]
     },
     "execution_count": 181,
     "metadata": {},
     "output_type": "execute_result"
    }
   ],
   "source": [
    "matrix_2 = ([1 2; 3 4])*(1/2)\n",
    "productive_matrix(matrix_2, 2)"
   ]
  },
  {
   "cell_type": "code",
   "execution_count": 183,
   "metadata": {
    "tags": []
   },
   "outputs": [
    {
     "data": {
      "text/plain": [
       "\"Матрица продуктивная\""
      ]
     },
     "execution_count": 183,
     "metadata": {},
     "output_type": "execute_result"
    }
   ],
   "source": [
    "matrix_3 = ([1 2; 3 4])*(1/10)\n",
    "productive_matrix(matrix_3, 2)"
   ]
  },
  {
   "cell_type": "markdown",
   "metadata": {},
   "source": [
    "1.Проверка продуктивности через систему уравнений: Сначала формирую матрицу вида E - A и решаю систему линейных уравнений с случайной неотрицательной правой частью. Если среди элементов решения есть отрицательные, матрица считается непродуктивной.\n",
    "\n",
    "2.Обратная матрица для анализа знаков: Также использую метод нахождения обратной матрицы E - A и анализирую все её элементы на наличие отрицательных значений. Отрицательные элементы свидетельствуют о непродуктивности матрицы."
   ]
  },
  {
   "cell_type": "code",
   "execution_count": 185,
   "metadata": {
    "tags": []
   },
   "outputs": [
    {
     "data": {
      "text/plain": [
       "productive_matrix_2 (generic function with 1 method)"
      ]
     },
     "execution_count": 185,
     "metadata": {},
     "output_type": "execute_result"
    }
   ],
   "source": [
    "function productive_matrix_2(matrix, size)\n",
    "    # единичная матрица\n",
    "    ans = \"\"\n",
    "    E = [1 0; 0 1]\n",
    "    matrix_new = E - matrix\n",
    "    inv_matrix_new = inv(matrix_new)\n",
    "    for i in 1:1:size\n",
    "        for j in 1:1:size\n",
    "            if inv_matrix_new[i, j] < 0\n",
    "                ans = \"Матрица непродуктивная\"\n",
    "                break\n",
    "            else\n",
    "                ans = \"Матрица продуктивная\"\n",
    "            end\n",
    "        end\n",
    "    end\n",
    "    return ans\n",
    "end"
   ]
  },
  {
   "cell_type": "code",
   "execution_count": 187,
   "metadata": {
    "tags": []
   },
   "outputs": [
    {
     "data": {
      "text/plain": [
       "\"Матрица непродуктивная\""
      ]
     },
     "execution_count": 187,
     "metadata": {},
     "output_type": "execute_result"
    }
   ],
   "source": [
    "matrix_1 = [1 2; 3 1]\n",
    "productive_matrix_2(matrix_1, 2)"
   ]
  },
  {
   "cell_type": "code",
   "execution_count": 189,
   "metadata": {
    "tags": []
   },
   "outputs": [
    {
     "data": {
      "text/plain": [
       "\"Матрица непродуктивная\""
      ]
     },
     "execution_count": 189,
     "metadata": {},
     "output_type": "execute_result"
    }
   ],
   "source": [
    "matrix_2 = ([1 2; 3 1])*(1/2)\n",
    "productive_matrix_2(matrix_2, 2)"
   ]
  },
  {
   "cell_type": "code",
   "execution_count": 191,
   "metadata": {
    "tags": []
   },
   "outputs": [
    {
     "data": {
      "text/plain": [
       "\"Матрица продуктивная\""
      ]
     },
     "execution_count": 191,
     "metadata": {},
     "output_type": "execute_result"
    }
   ],
   "source": [
    "matrix_3 = ([1 2; 3 1])*(1/10)\n",
    "productive_matrix_2(matrix_3, 2)"
   ]
  },
  {
   "cell_type": "markdown",
   "metadata": {},
   "source": [
    "1.Формирование обратной матрицы: Сначала вычисляю обратную матрицу для (E - A). Продуктивность матрицы A определяется тем, что все элементы обратной матрицы должны быть неотрицательными.\n",
    "\n",
    "2.Проверка на неотрицательность: Анализирую все элементы обратной матрицы. Если среди них встречаются отрицательные значения, матрица считается непродуктивной. Если все элементы неотрицательные, то матрица является продуктивной."
   ]
  },
  {
   "cell_type": "code",
   "execution_count": 193,
   "metadata": {
    "tags": []
   },
   "outputs": [
    {
     "data": {
      "text/plain": [
       "productive_matrix_3 (generic function with 1 method)"
      ]
     },
     "execution_count": 193,
     "metadata": {},
     "output_type": "execute_result"
    }
   ],
   "source": [
    "function productive_matrix_3(matrix, size)\n",
    "    ans=\"\"\n",
    "    # найдем собственные значения переданной матрицы\n",
    "    eigenvalues = eigvals(matrix)\n",
    "    for i in 1:1:size\n",
    "        if abs(eigenvalues[i]) > 1\n",
    "            ans = \"Матрица непродуктивная\"\n",
    "            break\n",
    "        else\n",
    "            ans = \"Матрица продуктивная\"\n",
    "        end\n",
    "    end\n",
    "    return ans\n",
    "end"
   ]
  },
  {
   "cell_type": "code",
   "execution_count": 195,
   "metadata": {
    "tags": []
   },
   "outputs": [
    {
     "data": {
      "text/plain": [
       "\"Матрица непродуктивная\""
      ]
     },
     "execution_count": 195,
     "metadata": {},
     "output_type": "execute_result"
    }
   ],
   "source": [
    "matrix_1 = [1 2; 3 1]\n",
    "productive_matrix_3(matrix_1, 2)"
   ]
  },
  {
   "cell_type": "code",
   "execution_count": 197,
   "metadata": {
    "tags": []
   },
   "outputs": [
    {
     "data": {
      "text/plain": [
       "\"Матрица непродуктивная\""
      ]
     },
     "execution_count": 197,
     "metadata": {},
     "output_type": "execute_result"
    }
   ],
   "source": [
    "matrix_2 = ([1 2; 3 1])*(1/2)\n",
    "productive_matrix_3(matrix_2, 2)"
   ]
  },
  {
   "cell_type": "code",
   "execution_count": 199,
   "metadata": {
    "tags": []
   },
   "outputs": [
    {
     "data": {
      "text/plain": [
       "\"Матрица продуктивная\""
      ]
     },
     "execution_count": 199,
     "metadata": {},
     "output_type": "execute_result"
    }
   ],
   "source": [
    "matrix_3 = ([1 2; 3 1])*(1/10)\n",
    "productive_matrix_3(matrix_3, 2)"
   ]
  },
  {
   "cell_type": "code",
   "execution_count": 201,
   "metadata": {
    "tags": []
   },
   "outputs": [
    {
     "data": {
      "text/plain": [
       "\"Матрица продуктивная\""
      ]
     },
     "execution_count": 201,
     "metadata": {},
     "output_type": "execute_result"
    }
   ],
   "source": [
    "matrix_4 = [0.1 0.2 0.3; 0 0.1 0.2; 0 0.1 0.3]\n",
    "productive_matrix_3(matrix_4, 2)"
   ]
  },
  {
   "cell_type": "markdown",
   "metadata": {},
   "source": [
    "1.Спектральный критерий: Сначала нахожу собственные значения матрицы. Продуктивность матрицы A определяется тем, что все её собственные значения по модулю должны быть меньше 1.\n",
    "\n",
    "2.Проверка собственных значений: Анализирую модуль каждого собственного значения. Если хотя бы одно значение больше или равно 1, то матрица считается непродуктивной. Если все значения меньше 1, то матрица продуктивная."
   ]
  },
  {
   "cell_type": "code",
   "execution_count": null,
   "metadata": {},
   "outputs": [],
   "source": []
  }
 ],
 "metadata": {
  "kernelspec": {
   "display_name": "Julia 1.11.1",
   "language": "julia",
   "name": "julia-1.11"
  },
  "language_info": {
   "file_extension": ".jl",
   "mimetype": "application/julia",
   "name": "julia",
   "version": "1.11.1"
  }
 },
 "nbformat": 4,
 "nbformat_minor": 4
}
