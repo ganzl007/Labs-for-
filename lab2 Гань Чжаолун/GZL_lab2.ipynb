{
 "cells": [
  {
   "cell_type": "code",
   "execution_count": 1,
   "id": "6ff7f90c-cb82-4983-80b4-e5c28ed80a25",
   "metadata": {},
   "outputs": [
    {
     "data": {
      "text/plain": [
       "()"
      ]
     },
     "execution_count": 1,
     "metadata": {},
     "output_type": "execute_result"
    }
   ],
   "source": [
    "# пустой кортеж:\n",
    "()"
   ]
  },
  {
   "cell_type": "code",
   "execution_count": 3,
   "id": "73bc74fb-c0d9-4823-9c0f-747ae8fa7249",
   "metadata": {},
   "outputs": [
    {
     "data": {
      "text/plain": [
       "(\"Python\", \"Julia\", \"R\")"
      ]
     },
     "execution_count": 3,
     "metadata": {},
     "output_type": "execute_result"
    }
   ],
   "source": [
    "# кортеж из элементов типа String\n",
    "favoritelang = (\"Python\", \"Julia\", \"R\")"
   ]
  },
  {
   "cell_type": "code",
   "execution_count": 5,
   "id": "eae7e536-01f2-4cca-8892-5c341d3e6793",
   "metadata": {},
   "outputs": [
    {
     "data": {
      "text/plain": [
       "(1, 2, 3)"
      ]
     },
     "execution_count": 5,
     "metadata": {},
     "output_type": "execute_result"
    }
   ],
   "source": [
    "# кортеж из целых чисел\n",
    "x1 = (1, 2, 3)"
   ]
  },
  {
   "cell_type": "code",
   "execution_count": 7,
   "id": "f4a030f1-e07b-407a-a7ac-96812db591cb",
   "metadata": {},
   "outputs": [
    {
     "data": {
      "text/plain": [
       "(1, 2.0, \"tmp\")"
      ]
     },
     "execution_count": 7,
     "metadata": {},
     "output_type": "execute_result"
    }
   ],
   "source": [
    "# кортеж из элементов разных типов\n",
    "x2 = (1, 2.0, \"tmp\")"
   ]
  },
  {
   "cell_type": "code",
   "execution_count": 9,
   "id": "23b8b941-8b78-4d22-8e7c-df59564e5a0d",
   "metadata": {},
   "outputs": [
    {
     "data": {
      "text/plain": [
       "(a = 2, b = 3)"
      ]
     },
     "execution_count": 9,
     "metadata": {},
     "output_type": "execute_result"
    }
   ],
   "source": [
    "# именованный кортеж:\n",
    "x3 = (a=2, b=1+2)"
   ]
  },
  {
   "cell_type": "code",
   "execution_count": 11,
   "id": "f8465bd1-b225-4cec-9af5-d1f96a7a6bd2",
   "metadata": {},
   "outputs": [
    {
     "data": {
      "text/plain": [
       "3"
      ]
     },
     "execution_count": 11,
     "metadata": {},
     "output_type": "execute_result"
    }
   ],
   "source": [
    "# длина кортежа x1\n",
    "length(x2)"
   ]
  },
  {
   "cell_type": "code",
   "execution_count": 13,
   "id": "ff56bd43-b77a-41c1-ace0-21fd4593135a",
   "metadata": {},
   "outputs": [
    {
     "data": {
      "text/plain": [
       "(1, 2.0, \"tmp\")"
      ]
     },
     "execution_count": 13,
     "metadata": {},
     "output_type": "execute_result"
    }
   ],
   "source": [
    "# обратиться к элементам кортежа x2:\n",
    "x2[1], x2[2], x2[3]"
   ]
  },
  {
   "cell_type": "code",
   "execution_count": 15,
   "id": "3dc91c1a-0194-42b2-9e0f-304215649469",
   "metadata": {},
   "outputs": [
    {
     "data": {
      "text/plain": [
       "5"
      ]
     },
     "execution_count": 15,
     "metadata": {},
     "output_type": "execute_result"
    }
   ],
   "source": [
    "# произвести какую-либо операцию (сложение)\n",
    "# с вторым и третьим элементами кортежа x1:\n",
    "с = x1[2] + x1[3]"
   ]
  },
  {
   "cell_type": "code",
   "execution_count": 17,
   "id": "0e1aea38-1865-48af-9340-3acda9150ebe",
   "metadata": {},
   "outputs": [
    {
     "data": {
      "text/plain": [
       "(2, 3, 3)"
      ]
     },
     "execution_count": 17,
     "metadata": {},
     "output_type": "execute_result"
    }
   ],
   "source": [
    "# обращение к элементам именованного кортежа x3:\n",
    "x3.a, x3.b, x3[2]"
   ]
  },
  {
   "cell_type": "code",
   "execution_count": 19,
   "id": "c22ac898-c309-4ab3-8921-5be4a48aa4fb",
   "metadata": {},
   "outputs": [
    {
     "data": {
      "text/plain": [
       "(true, false)"
      ]
     },
     "execution_count": 19,
     "metadata": {},
     "output_type": "execute_result"
    }
   ],
   "source": [
    "# проверка вхождения элементов tmp и 0 в кортеж x2\n",
    "# (два способа обращения к методу in()):\n",
    "in(\"tmp\", x2), 0 in x2"
   ]
  },
  {
   "cell_type": "code",
   "execution_count": 21,
   "id": "96abbe31-2f2d-4a8f-8a9b-ba1d8d074b50",
   "metadata": {},
   "outputs": [
    {
     "data": {
      "text/plain": [
       "Dict{String, Any} with 2 entries:\n",
       "  \"Бухгалтерия\" => \"555-2368\"\n",
       "  \"Иванов И.И.\" => (\"867-5309\", \"333-5544\")"
      ]
     },
     "execution_count": 21,
     "metadata": {},
     "output_type": "execute_result"
    }
   ],
   "source": [
    "# создать словарь с именем phonebook:\n",
    "phonebook = Dict(\"Иванов И.И.\" => (\"867-5309\",\"333-5544\"), \"Бухгалтерия\" => \"555-2368\")"
   ]
  },
  {
   "cell_type": "code",
   "execution_count": 23,
   "id": "e89824a1-a2ba-4152-a74a-09aed4f296d4",
   "metadata": {},
   "outputs": [
    {
     "data": {
      "text/plain": [
       "KeySet for a Dict{String, Any} with 2 entries. Keys:\n",
       "  \"Бухгалтерия\"\n",
       "  \"Иванов И.И.\""
      ]
     },
     "execution_count": 23,
     "metadata": {},
     "output_type": "execute_result"
    }
   ],
   "source": [
    "# вывести ключи словаря:\n",
    "keys(phonebook)"
   ]
  },
  {
   "cell_type": "code",
   "execution_count": 25,
   "id": "55caa2e4-92a9-4a18-be65-c83d60a684e5",
   "metadata": {},
   "outputs": [
    {
     "data": {
      "text/plain": [
       "ValueIterator for a Dict{String, Any} with 2 entries. Values:\n",
       "  \"555-2368\"\n",
       "  (\"867-5309\", \"333-5544\")"
      ]
     },
     "execution_count": 25,
     "metadata": {},
     "output_type": "execute_result"
    }
   ],
   "source": [
    "# вывести значения элементов словаря:\n",
    "values(phonebook)"
   ]
  },
  {
   "cell_type": "code",
   "execution_count": 27,
   "id": "cb1a2387-d9a1-4b63-b871-ae05e03c9637",
   "metadata": {},
   "outputs": [
    {
     "data": {
      "text/plain": [
       "Dict{String, Any} with 2 entries:\n",
       "  \"Бухгалтерия\" => \"555-2368\"\n",
       "  \"Иванов И.И.\" => (\"867-5309\", \"333-5544\")"
      ]
     },
     "execution_count": 27,
     "metadata": {},
     "output_type": "execute_result"
    }
   ],
   "source": [
    "# вывести заданные в словаре пары \"ключ - значение\":\n",
    "pairs(phonebook)"
   ]
  },
  {
   "cell_type": "code",
   "execution_count": 29,
   "id": "e61cd9cf-4e28-4c4a-8532-19b0ec87889f",
   "metadata": {},
   "outputs": [
    {
     "data": {
      "text/plain": [
       "true"
      ]
     },
     "execution_count": 29,
     "metadata": {},
     "output_type": "execute_result"
    }
   ],
   "source": [
    "# проверка вхождения ключа в словарь:\n",
    "haskey(phonebook, \"Иванов И.И.\")"
   ]
  },
  {
   "cell_type": "code",
   "execution_count": 31,
   "id": "5db190d8-f38d-4f71-aff6-e2485e2827ec",
   "metadata": {},
   "outputs": [
    {
     "data": {
      "text/plain": [
       "\"555-3344\""
      ]
     },
     "execution_count": 31,
     "metadata": {},
     "output_type": "execute_result"
    }
   ],
   "source": [
    "# добавить элемент в словарь:\n",
    "phonebook[\"Сидоров П.С.\"] = \"555-3344\""
   ]
  },
  {
   "cell_type": "code",
   "execution_count": 33,
   "id": "a8c233ec-0e85-405a-9088-cd5d90854ab2",
   "metadata": {},
   "outputs": [
    {
     "data": {
      "text/plain": [
       "(\"867-5309\", \"333-5544\")"
      ]
     },
     "execution_count": 33,
     "metadata": {},
     "output_type": "execute_result"
    }
   ],
   "source": [
    "# удалить ключ и связанные с ним значения из словаря\n",
    "pop!(phonebook, \"Иванов И.И.\")"
   ]
  },
  {
   "cell_type": "code",
   "execution_count": 35,
   "id": "90f17a05-817f-41c4-b7de-4129dbbd32c4",
   "metadata": {},
   "outputs": [
    {
     "data": {
      "text/plain": [
       "(Dict{String, Real}(\"bar\" => 13.0, \"baz\" => 17, \"foo\" => 0.0), Dict{String, Real}(\"bar\" => 42.0, \"baz\" => 17, \"foo\" => 0.0))"
      ]
     },
     "execution_count": 35,
     "metadata": {},
     "output_type": "execute_result"
    }
   ],
   "source": [
    "# Объединение словарей (функция merge()):\n",
    "a = Dict(\"foo\" => 0.0, \"bar\" => 42.0);\n",
    "b = Dict(\"baz\" => 17, \"bar\" => 13.0);\n",
    "merge(a, b), merge(b,a)"
   ]
  },
  {
   "cell_type": "code",
   "execution_count": 37,
   "id": "63f55640-1a9e-4f29-aeb9-6a1a609f5932",
   "metadata": {},
   "outputs": [
    {
     "data": {
      "text/plain": [
       "Set{Int64} with 4 elements:\n",
       "  5\n",
       "  4\n",
       "  3\n",
       "  1"
      ]
     },
     "execution_count": 37,
     "metadata": {},
     "output_type": "execute_result"
    }
   ],
   "source": [
    "# создать множество из четырёх целочисленных значений:\n",
    "A = Set([1, 3, 4, 5])"
   ]
  },
  {
   "cell_type": "code",
   "execution_count": 39,
   "id": "584b72b6-8594-465e-9d79-4a231ddcdaed",
   "metadata": {},
   "outputs": [
    {
     "data": {
      "text/plain": [
       "Set{Char} with 5 elements:\n",
       "  'a'\n",
       "  'd'\n",
       "  'r'\n",
       "  'k'\n",
       "  'b'"
      ]
     },
     "execution_count": 39,
     "metadata": {},
     "output_type": "execute_result"
    }
   ],
   "source": [
    "# создать множество из 11 символьных значений:\n",
    "B = Set(\"abrakadabra\")"
   ]
  },
  {
   "cell_type": "code",
   "execution_count": 41,
   "id": "94b57f2d-631b-43b3-9a00-7ce427acaef0",
   "metadata": {},
   "outputs": [
    {
     "data": {
      "text/plain": [
       "false"
      ]
     },
     "execution_count": 41,
     "metadata": {},
     "output_type": "execute_result"
    }
   ],
   "source": [
    "# проверка эквивалентности двух множеств:\n",
    "S1 = Set([1,2]);\n",
    "S2 = Set([3,4]);\n",
    "issetequal(S1,S2)"
   ]
  },
  {
   "cell_type": "code",
   "execution_count": 43,
   "id": "c9f97442-5f61-4fdf-b8f5-a1ca3418baae",
   "metadata": {},
   "outputs": [
    {
     "data": {
      "text/plain": [
       "true"
      ]
     },
     "execution_count": 43,
     "metadata": {},
     "output_type": "execute_result"
    }
   ],
   "source": [
    "# проверка эквивалентности 3 и 4 множества\n",
    "S3 = Set([1,2,2,3,1,2,3,2,1]);\n",
    "S4 = Set([2,3,1]);\n",
    "issetequal(S3,S4)"
   ]
  },
  {
   "cell_type": "code",
   "execution_count": 45,
   "id": "f5b80747-04be-430a-9df2-1b86ccca03af",
   "metadata": {},
   "outputs": [
    {
     "data": {
      "text/plain": [
       "Set{Int64} with 4 elements:\n",
       "  4\n",
       "  2\n",
       "  3\n",
       "  1"
      ]
     },
     "execution_count": 45,
     "metadata": {},
     "output_type": "execute_result"
    }
   ],
   "source": [
    "# объединение множеств:\n",
    "C=union(S1,S2)"
   ]
  },
  {
   "cell_type": "code",
   "execution_count": 47,
   "id": "f8a6941a-b7c7-4cbe-8489-898d5e3e5c2e",
   "metadata": {},
   "outputs": [
    {
     "data": {
      "text/plain": [
       "Set{Int64} with 2 elements:\n",
       "  2\n",
       "  1"
      ]
     },
     "execution_count": 47,
     "metadata": {},
     "output_type": "execute_result"
    }
   ],
   "source": [
    "# пересечение множеств:\n",
    "D = intersect(S1,S3)"
   ]
  },
  {
   "cell_type": "code",
   "execution_count": 49,
   "id": "98c655dd-2add-4e38-9fc9-c0aac9957fe0",
   "metadata": {},
   "outputs": [
    {
     "data": {
      "text/plain": [
       "Set{Int64} with 1 element:\n",
       "  3"
      ]
     },
     "execution_count": 49,
     "metadata": {},
     "output_type": "execute_result"
    }
   ],
   "source": [
    "# разность множеств:\n",
    "E = setdiff(S3,S1)"
   ]
  },
  {
   "cell_type": "code",
   "execution_count": 51,
   "id": "b2b5fe4f-f61c-46e8-93bb-093227b9c06d",
   "metadata": {},
   "outputs": [
    {
     "data": {
      "text/plain": [
       "true"
      ]
     },
     "execution_count": 51,
     "metadata": {},
     "output_type": "execute_result"
    }
   ],
   "source": [
    "# проверка вхождения элементов одного множества в другое:\n",
    "issubset(S1,S4)"
   ]
  },
  {
   "cell_type": "code",
   "execution_count": 53,
   "id": "a1d930a9-b1ba-423c-ba7d-67a05243ba79",
   "metadata": {},
   "outputs": [
    {
     "data": {
      "text/plain": [
       "Set{Int64} with 4 elements:\n",
       "  2\n",
       "  99\n",
       "  3\n",
       "  1"
      ]
     },
     "execution_count": 53,
     "metadata": {},
     "output_type": "execute_result"
    }
   ],
   "source": [
    "# добавление элемента в множество:\n",
    "push!(S4, 99)"
   ]
  },
  {
   "cell_type": "code",
   "execution_count": 55,
   "id": "c9d42c33-1f21-4567-a4a4-7f2f35b800e4",
   "metadata": {},
   "outputs": [
    {
     "data": {
      "text/plain": [
       "2"
      ]
     },
     "execution_count": 55,
     "metadata": {},
     "output_type": "execute_result"
    }
   ],
   "source": [
    "# удаление последнего элемента множества:\n",
    "pop!(S4)"
   ]
  },
  {
   "cell_type": "code",
   "execution_count": 57,
   "id": "527999c5-87f9-4340-b708-f217c20cac85",
   "metadata": {},
   "outputs": [
    {
     "data": {
      "text/plain": [
       "Set{Int64} with 3 elements:\n",
       "  99\n",
       "  3\n",
       "  1"
      ]
     },
     "execution_count": 57,
     "metadata": {},
     "output_type": "execute_result"
    }
   ],
   "source": [
    "S4"
   ]
  },
  {
   "cell_type": "code",
   "execution_count": 59,
   "id": "b0017bc5-24d9-479b-964d-db11143c8d18",
   "metadata": {},
   "outputs": [
    {
     "data": {
      "text/plain": [
       "Any[]"
      ]
     },
     "execution_count": 59,
     "metadata": {},
     "output_type": "execute_result"
    }
   ],
   "source": [
    "# создание пустого массива с абстрактным типом:\n",
    "empty_array_1 = []"
   ]
  },
  {
   "cell_type": "code",
   "execution_count": 61,
   "id": "85f06cda-96f4-4c06-a46a-a6c73818d207",
   "metadata": {},
   "outputs": [
    {
     "data": {
      "text/plain": [
       "Int64[]"
      ]
     },
     "execution_count": 61,
     "metadata": {},
     "output_type": "execute_result"
    }
   ],
   "source": [
    "# создание пустого массива с конкретным типом:\n",
    "empty_array_2 = (Int64)[]"
   ]
  },
  {
   "cell_type": "code",
   "execution_count": 63,
   "id": "88891c94-81e5-4446-84f0-075bfa66f181",
   "metadata": {},
   "outputs": [
    {
     "data": {
      "text/plain": [
       "Float64[]"
      ]
     },
     "execution_count": 63,
     "metadata": {},
     "output_type": "execute_result"
    }
   ],
   "source": [
    "empty_array_3 = (Float64)[]"
   ]
  },
  {
   "cell_type": "code",
   "execution_count": 65,
   "id": "546339ea-1383-40eb-83d8-14d8d7f4b486",
   "metadata": {},
   "outputs": [
    {
     "data": {
      "text/plain": [
       "3-element Vector{Int64}:\n",
       " 1\n",
       " 2\n",
       " 3"
      ]
     },
     "execution_count": 65,
     "metadata": {},
     "output_type": "execute_result"
    }
   ],
   "source": [
    "# вектор-столбец:\n",
    "a = [1, 2, 3]"
   ]
  },
  {
   "cell_type": "code",
   "execution_count": 67,
   "id": "f5d79de7-3af1-4989-ac44-f832e5a5f10b",
   "metadata": {},
   "outputs": [
    {
     "data": {
      "text/plain": [
       "1×3 Matrix{Int64}:\n",
       " 1  2  3"
      ]
     },
     "execution_count": 67,
     "metadata": {},
     "output_type": "execute_result"
    }
   ],
   "source": [
    "# вектор-строка:\n",
    "b = [1 2 3]"
   ]
  },
  {
   "cell_type": "code",
   "execution_count": 69,
   "id": "52b86d4b-1ff5-4b35-a1f3-88cc721c0177",
   "metadata": {},
   "outputs": [
    {
     "data": {
      "text/plain": [
       "3×3 Matrix{Int64}:\n",
       " 1  2  3\n",
       " 4  5  6\n",
       " 7  8  9"
      ]
     },
     "execution_count": 69,
     "metadata": {},
     "output_type": "execute_result"
    }
   ],
   "source": [
    "# многомерные массивы (матрицы):\n",
    "A = [[1, 2, 3] [4, 5, 6] [7, 8, 9]]\n",
    "B = [[1 2 3]; [4 5 6]; [7 8 9]]"
   ]
  },
  {
   "cell_type": "code",
   "execution_count": 71,
   "id": "77f966f5-4aaf-4bc1-9c38-4397ba8cf2c9",
   "metadata": {},
   "outputs": [
    {
     "data": {
      "text/plain": [
       "1×8 Matrix{Float64}:\n",
       " 0.139052  0.265166  0.145633  0.0896685  …  0.41114  0.893847  0.267533"
      ]
     },
     "execution_count": 71,
     "metadata": {},
     "output_type": "execute_result"
    }
   ],
   "source": [
    "# одномерный массив из 8 элементов (массив $1 \\times 8$)\n",
    "# со значениями, случайно распределёнными на интервале [0, 1):\n",
    "c = rand(1,8)"
   ]
  },
  {
   "cell_type": "code",
   "execution_count": 73,
   "id": "beb46f4a-1fc6-4f84-9d62-f87ba892da4e",
   "metadata": {},
   "outputs": [
    {
     "data": {
      "text/plain": [
       "2×3 Matrix{Float64}:\n",
       " 0.0355167  0.529554  0.0514481\n",
       " 0.119321   0.47618   0.465355"
      ]
     },
     "execution_count": 73,
     "metadata": {},
     "output_type": "execute_result"
    }
   ],
   "source": [
    "# многомерный массив $2 \\times 3$ (2 строки, 3 столбца) элементов\n",
    "# со значениями, случайно распределёнными на интервале [0, 1):\n",
    "C = rand(2,3)"
   ]
  },
  {
   "cell_type": "code",
   "execution_count": 75,
   "id": "9013be01-6a11-4c30-b029-43d47fc0465b",
   "metadata": {},
   "outputs": [
    {
     "data": {
      "text/plain": [
       "4×3×2 Array{Float64, 3}:\n",
       "[:, :, 1] =\n",
       " 0.283411  0.218688  0.454782\n",
       " 0.938875  0.832847  0.877779\n",
       " 0.703477  0.217353  0.445808\n",
       " 0.144286  0.915661  0.543622\n",
       "\n",
       "[:, :, 2] =\n",
       " 0.366512   0.913371   0.291656\n",
       " 0.0258695  0.0519026  0.61626\n",
       " 0.473893   0.0946979  0.357052\n",
       " 0.595379   0.871507   0.38627"
      ]
     },
     "execution_count": 75,
     "metadata": {},
     "output_type": "execute_result"
    }
   ],
   "source": [
    "# трёхмерный массив:\n",
    "D = rand(4, 3, 2)"
   ]
  },
  {
   "cell_type": "code",
   "execution_count": 77,
   "id": "d523e1ce-1c6e-43b7-889f-46f7f3766d5b",
   "metadata": {},
   "outputs": [
    {
     "data": {
      "text/plain": [
       "10-element Vector{Float64}:\n",
       " 1.0\n",
       " 1.4142135623730951\n",
       " 1.7320508075688772\n",
       " 2.0\n",
       " 2.23606797749979\n",
       " 2.449489742783178\n",
       " 2.6457513110645907\n",
       " 2.8284271247461903\n",
       " 3.0\n",
       " 3.1622776601683795"
      ]
     },
     "execution_count": 77,
     "metadata": {},
     "output_type": "execute_result"
    }
   ],
   "source": [
    "# массив из квадратных корней всех целых чисел от 1 до 10:\n",
    "roots = [sqrt(i) for i in 1:10]"
   ]
  },
  {
   "cell_type": "code",
   "execution_count": 79,
   "id": "52660633-50a1-41a0-96a0-7a1b698bcfcf",
   "metadata": {},
   "outputs": [
    {
     "data": {
      "text/plain": [
       "5-element Vector{Int64}:\n",
       "   3\n",
       "  27\n",
       "  75\n",
       " 147\n",
       " 243"
      ]
     },
     "execution_count": 79,
     "metadata": {},
     "output_type": "execute_result"
    }
   ],
   "source": [
    "# массив с элементами вида 3*x^2,\n",
    "# где x - нечётное число от 1 до 9 (включительно)\n",
    "ar_1 = [3*i^2 for i in 1:2:9]"
   ]
  },
  {
   "cell_type": "code",
   "execution_count": 81,
   "id": "ec8fd983-6107-4708-8827-ebd3d38919d1",
   "metadata": {},
   "outputs": [
    {
     "data": {
      "text/plain": [
       "4-element Vector{Int64}:\n",
       "  1\n",
       "  9\n",
       " 49\n",
       " 81"
      ]
     },
     "execution_count": 81,
     "metadata": {},
     "output_type": "execute_result"
    }
   ],
   "source": [
    "# массив квадратов элементов, если квадрат не делится на 5 или 4:\n",
    "ar_2=[i^2 for i=1:10 if (i^2%5!=0 && i^2%4!=0)]"
   ]
  },
  {
   "cell_type": "code",
   "execution_count": 83,
   "id": "360e0064-fab5-4acf-a98a-d3163b9bd2b1",
   "metadata": {},
   "outputs": [
    {
     "data": {
      "text/plain": [
       "5-element Vector{Float64}:\n",
       " 1.0\n",
       " 1.0\n",
       " 1.0\n",
       " 1.0\n",
       " 1.0"
      ]
     },
     "execution_count": 83,
     "metadata": {},
     "output_type": "execute_result"
    }
   ],
   "source": [
    "# одномерный массив из пяти единиц:\n",
    "ones(5)"
   ]
  },
  {
   "cell_type": "code",
   "execution_count": 85,
   "id": "02d54bc7-5179-4a57-bce6-11e7dd5ba52f",
   "metadata": {},
   "outputs": [
    {
     "data": {
      "text/plain": [
       "2×3 Matrix{Float64}:\n",
       " 1.0  1.0  1.0\n",
       " 1.0  1.0  1.0"
      ]
     },
     "execution_count": 85,
     "metadata": {},
     "output_type": "execute_result"
    }
   ],
   "source": [
    "# двумерный массив 2x3 из единиц:\n",
    "ones(2,3)"
   ]
  },
  {
   "cell_type": "code",
   "execution_count": 87,
   "id": "d687095e-01bc-43bb-86bf-0e7630652012",
   "metadata": {},
   "outputs": [
    {
     "data": {
      "text/plain": [
       "4-element Vector{Float64}:\n",
       " 0.0\n",
       " 0.0\n",
       " 0.0\n",
       " 0.0"
      ]
     },
     "execution_count": 87,
     "metadata": {},
     "output_type": "execute_result"
    }
   ],
   "source": [
    "# одномерный массив из 4 нулей:\n",
    "zeros(4)"
   ]
  },
  {
   "cell_type": "code",
   "execution_count": 89,
   "id": "735167d7-b5b1-4a57-93c0-2b22b81deb2c",
   "metadata": {},
   "outputs": [
    {
     "data": {
      "text/plain": [
       "3×2 Matrix{Float64}:\n",
       " 3.5  3.5\n",
       " 3.5  3.5\n",
       " 3.5  3.5"
      ]
     },
     "execution_count": 89,
     "metadata": {},
     "output_type": "execute_result"
    }
   ],
   "source": [
    "# заполнить массив 3x2 цифрами 3.5\n",
    "fill(3.5,(3,2))"
   ]
  },
  {
   "cell_type": "code",
   "execution_count": 91,
   "id": "61445530-47fd-426f-8182-42c0cdf7652a",
   "metadata": {},
   "outputs": [
    {
     "data": {
      "text/plain": [
       "6×3 Matrix{Int64}:\n",
       " 1  1  1\n",
       " 2  2  2\n",
       " 1  1  1\n",
       " 2  2  2\n",
       " 1  1  1\n",
       " 2  2  2"
      ]
     },
     "execution_count": 91,
     "metadata": {},
     "output_type": "execute_result"
    }
   ],
   "source": [
    "# заполнение массива посредством функции repeat():\n",
    "repeat([1,2],3,3)"
   ]
  },
  {
   "cell_type": "code",
   "execution_count": 93,
   "id": "76e744ce-7b72-4b91-8963-a99df2bff1fc",
   "metadata": {},
   "outputs": [
    {
     "data": {
      "text/plain": [
       "3×6 Matrix{Int64}:\n",
       " 1  2  1  2  1  2\n",
       " 1  2  1  2  1  2\n",
       " 1  2  1  2  1  2"
      ]
     },
     "execution_count": 93,
     "metadata": {},
     "output_type": "execute_result"
    }
   ],
   "source": [
    "repeat([1 2],3,3)"
   ]
  },
  {
   "cell_type": "code",
   "execution_count": 95,
   "id": "85c95322-8f8b-4ece-a03f-a7461835fc3a",
   "metadata": {},
   "outputs": [
    {
     "data": {
      "text/plain": [
       "2×6 Matrix{Int64}:\n",
       " 1  3  5  7   9  11\n",
       " 2  4  6  8  10  12"
      ]
     },
     "execution_count": 95,
     "metadata": {},
     "output_type": "execute_result"
    }
   ],
   "source": [
    "# преобразование одномерного массива из целых чисел от 1 до 12\n",
    "# в двумерный массив 2x6\n",
    "a = collect(1:12)\n",
    "b = reshape(a,(2,6))"
   ]
  },
  {
   "cell_type": "code",
   "execution_count": 97,
   "id": "6853f1e9-a7ff-4810-974c-3e5edd6f1be3",
   "metadata": {},
   "outputs": [
    {
     "data": {
      "text/plain": [
       "6×2 adjoint(::Matrix{Int64}) with eltype Int64:\n",
       "  1   2\n",
       "  3   4\n",
       "  5   6\n",
       "  7   8\n",
       "  9  10\n",
       " 11  12"
      ]
     },
     "execution_count": 97,
     "metadata": {},
     "output_type": "execute_result"
    }
   ],
   "source": [
    "# транспонирование\n",
    "b'"
   ]
  },
  {
   "cell_type": "code",
   "execution_count": 99,
   "id": "164908d2-7f23-4877-9741-0065fdeed690",
   "metadata": {},
   "outputs": [
    {
     "data": {
      "text/plain": [
       "6×2 transpose(::Matrix{Int64}) with eltype Int64:\n",
       "  1   2\n",
       "  3   4\n",
       "  5   6\n",
       "  7   8\n",
       "  9  10\n",
       " 11  12"
      ]
     },
     "execution_count": 99,
     "metadata": {},
     "output_type": "execute_result"
    }
   ],
   "source": [
    "# транспонирование\n",
    "с = transpose(b)"
   ]
  },
  {
   "cell_type": "code",
   "execution_count": 101,
   "id": "992da2bf-293c-4137-9562-b70c3e9a39be",
   "metadata": {},
   "outputs": [
    {
     "data": {
      "text/plain": [
       "10×5 Matrix{Int64}:\n",
       " 10  18  17  19  15\n",
       " 11  10  14  20  10\n",
       " 11  13  14  14  12\n",
       " 10  10  18  14  20\n",
       " 13  17  18  20  15\n",
       " 19  13  12  12  13\n",
       " 15  20  14  16  16\n",
       " 18  17  14  10  20\n",
       " 14  12  12  17  20\n",
       " 13  13  17  19  11"
      ]
     },
     "execution_count": 101,
     "metadata": {},
     "output_type": "execute_result"
    }
   ],
   "source": [
    "# массив 10x5 целых чисел в диапазоне [10, 20]:\n",
    "ar = rand(10:20, 10, 5)"
   ]
  },
  {
   "cell_type": "code",
   "execution_count": 103,
   "id": "ccead75f-2063-4a31-9adf-7e021c92da41",
   "metadata": {},
   "outputs": [
    {
     "data": {
      "text/plain": [
       "10-element Vector{Int64}:\n",
       " 18\n",
       " 10\n",
       " 13\n",
       " 10\n",
       " 17\n",
       " 13\n",
       " 20\n",
       " 17\n",
       " 12\n",
       " 13"
      ]
     },
     "execution_count": 103,
     "metadata": {},
     "output_type": "execute_result"
    }
   ],
   "source": [
    "# выбор всех значений строки в столбце 2:\n",
    "ar[:, 2]"
   ]
  },
  {
   "cell_type": "code",
   "execution_count": 105,
   "id": "ea507c71-8c9c-43f1-b61e-f524c33aa147",
   "metadata": {},
   "outputs": [
    {
     "data": {
      "text/plain": [
       "10×2 Matrix{Int64}:\n",
       " 18  15\n",
       " 10  10\n",
       " 13  12\n",
       " 10  20\n",
       " 17  15\n",
       " 13  13\n",
       " 20  16\n",
       " 17  20\n",
       " 12  20\n",
       " 13  11"
      ]
     },
     "execution_count": 105,
     "metadata": {},
     "output_type": "execute_result"
    }
   ],
   "source": [
    "# выбор всех значений в столбцах 2 и 5:\n",
    "ar[:, [2, 5]]"
   ]
  },
  {
   "cell_type": "code",
   "execution_count": 107,
   "id": "e7ecef59-e7dd-40b6-916a-19aa461e4b35",
   "metadata": {},
   "outputs": [
    {
     "data": {
      "text/plain": [
       "10×3 Matrix{Int64}:\n",
       " 18  17  19\n",
       " 10  14  20\n",
       " 13  14  14\n",
       " 10  18  14\n",
       " 17  18  20\n",
       " 13  12  12\n",
       " 20  14  16\n",
       " 17  14  10\n",
       " 12  12  17\n",
       " 13  17  19"
      ]
     },
     "execution_count": 107,
     "metadata": {},
     "output_type": "execute_result"
    }
   ],
   "source": [
    "# все значения строк в столбцах 2, 3 и 4:\n",
    "ar[:, 2:4]"
   ]
  },
  {
   "cell_type": "code",
   "execution_count": 109,
   "id": "3af4446b-db21-4496-892b-475a1f693476",
   "metadata": {},
   "outputs": [
    {
     "data": {
      "text/plain": [
       "3×2 Matrix{Int64}:\n",
       " 11  10\n",
       " 10  20\n",
       " 19  13"
      ]
     },
     "execution_count": 109,
     "metadata": {},
     "output_type": "execute_result"
    }
   ],
   "source": [
    "# значения в строках 2, 4, 6 и в столбцах 1 и 5:\n",
    "ar[[2, 4, 6], [1, 5]]"
   ]
  },
  {
   "cell_type": "code",
   "execution_count": 111,
   "id": "2a9fc95c-ab94-4d23-9981-43649ee90aeb",
   "metadata": {},
   "outputs": [
    {
     "data": {
      "text/plain": [
       "3-element Vector{Int64}:\n",
       " 17\n",
       " 19\n",
       " 15"
      ]
     },
     "execution_count": 111,
     "metadata": {},
     "output_type": "execute_result"
    }
   ],
   "source": [
    "# значения в строке 1 от столбца 3 до последнего столбца:\n",
    "ar[1, 3:end]"
   ]
  },
  {
   "cell_type": "code",
   "execution_count": 113,
   "id": "8340134d-8b63-43e4-b24f-c4067f1deead",
   "metadata": {},
   "outputs": [
    {
     "data": {
      "text/plain": [
       "10×5 Matrix{Int64}:\n",
       " 10  10  12  10  10\n",
       " 10  10  12  12  11\n",
       " 11  12  14  14  12\n",
       " 11  13  14  14  13\n",
       " 13  13  14  16  15\n",
       " 13  13  14  17  15\n",
       " 14  17  17  19  16\n",
       " 15  17  17  19  20\n",
       " 18  18  18  20  20\n",
       " 19  20  18  20  20"
      ]
     },
     "execution_count": 113,
     "metadata": {},
     "output_type": "execute_result"
    }
   ],
   "source": [
    "# сортировка по строкам:\n",
    "sort(ar,dims=1)"
   ]
  },
  {
   "cell_type": "code",
   "execution_count": 115,
   "id": "98b8f11c-7310-40f8-a0ba-8b1567b4f74f",
   "metadata": {},
   "outputs": [
    {
     "data": {
      "text/plain": [
       "10×5 Matrix{Int64}:\n",
       " 10  15  17  18  19\n",
       " 10  10  11  14  20\n",
       " 11  12  13  14  14\n",
       " 10  10  14  18  20\n",
       " 13  15  17  18  20\n",
       " 12  12  13  13  19\n",
       " 14  15  16  16  20\n",
       " 10  14  17  18  20\n",
       " 12  12  14  17  20\n",
       " 11  13  13  17  19"
      ]
     },
     "execution_count": 115,
     "metadata": {},
     "output_type": "execute_result"
    }
   ],
   "source": [
    "# сортировка по столбцам:\n",
    "sort(ar,dims=2)"
   ]
  },
  {
   "cell_type": "code",
   "execution_count": 117,
   "id": "26cf35d6-a213-4b25-b0c7-f397fd1e8896",
   "metadata": {},
   "outputs": [
    {
     "data": {
      "text/plain": [
       "10×5 BitMatrix:\n",
       " 0  1  1  1  1\n",
       " 0  0  0  1  0\n",
       " 0  0  0  0  0\n",
       " 0  0  1  0  1\n",
       " 0  1  1  1  1\n",
       " 1  0  0  0  0\n",
       " 1  1  0  1  1\n",
       " 1  1  0  0  1\n",
       " 0  0  0  1  1\n",
       " 0  0  1  1  0"
      ]
     },
     "execution_count": 117,
     "metadata": {},
     "output_type": "execute_result"
    }
   ],
   "source": [
    "# поэлементное сравнение с числом\n",
    "# (результат - массив логических значений):\n",
    "ar .> 14"
   ]
  },
  {
   "cell_type": "code",
   "execution_count": 119,
   "id": "bbe3add5-a565-4f34-8b6e-12c84be0698b",
   "metadata": {},
   "outputs": [
    {
     "data": {
      "text/plain": [
       "23-element Vector{CartesianIndex{2}}:\n",
       " CartesianIndex(6, 1)\n",
       " CartesianIndex(7, 1)\n",
       " CartesianIndex(8, 1)\n",
       " CartesianIndex(1, 2)\n",
       " CartesianIndex(5, 2)\n",
       " CartesianIndex(7, 2)\n",
       " CartesianIndex(8, 2)\n",
       " CartesianIndex(1, 3)\n",
       " CartesianIndex(4, 3)\n",
       " CartesianIndex(5, 3)\n",
       " CartesianIndex(10, 3)\n",
       " CartesianIndex(1, 4)\n",
       " CartesianIndex(2, 4)\n",
       " CartesianIndex(5, 4)\n",
       " CartesianIndex(7, 4)\n",
       " CartesianIndex(9, 4)\n",
       " CartesianIndex(10, 4)\n",
       " CartesianIndex(1, 5)\n",
       " CartesianIndex(4, 5)\n",
       " CartesianIndex(5, 5)\n",
       " CartesianIndex(7, 5)\n",
       " CartesianIndex(8, 5)\n",
       " CartesianIndex(9, 5)"
      ]
     },
     "execution_count": 119,
     "metadata": {},
     "output_type": "execute_result"
    }
   ],
   "source": [
    "# возврат индексов элементов массива, удовлетворяющих условию:\n",
    "findall(ar .> 14)"
   ]
  },
  {
   "cell_type": "code",
   "execution_count": null,
   "id": "b1e29e0d-404b-44cf-b381-5caa33c350e5",
   "metadata": {},
   "outputs": [],
   "source": [
    "===================================================================================================================================="
   ]
  },
  {
   "cell_type": "code",
   "execution_count": null,
   "id": "9ff6ce07-6ffd-46ad-92df-b55cb4f6ef7b",
   "metadata": {},
   "outputs": [],
   "source": [
    "\n",
    "### Задания для самостоятельного выполнения\n",
    "\n",
    "1. Даны множества: 𝐴 = {0, 3, 4, 9}, 𝐵 = {1, 3, 4, 7}, 𝐶 = {0, 1, 2, 4, 7, 8, 9}.  \n",
    "Найти 𝑃 = 𝐴 ∩ 𝐵 ∪ 𝐴 ∩ 𝐵 ∪ 𝐴 ∩ 𝐶 ∪ 𝐵 ∩ 𝐶."
   ]
  },
  {
   "cell_type": "code",
   "execution_count": 121,
   "id": "b6561cfd-fac8-4da6-8880-8277319f3ca2",
   "metadata": {},
   "outputs": [
    {
     "name": "stdout",
     "output_type": "stream",
     "text": [
      "Set([0, 4, 7, 9, 3, 1])"
     ]
    }
   ],
   "source": [
    "A = Set([0, 3, 4, 9])\n",
    "B = Set([1, 3, 4, 7])\n",
    "C = Set([0, 1, 2, 4, 7, 8, 9])\n",
    " \n",
    "P = union(union(union(intersect(A, B), intersect(A, B)), intersect(A, C)), intersect(B, C))\n",
    "print(P)"
   ]
  },
  {
   "cell_type": "markdown",
   "id": "c886b244-9255-4783-944f-75d64b774cbd",
   "metadata": {},
   "source": [
    "2. Приведите свои примеры с выполнением операций над множествами элементов разных типов."
   ]
  },
  {
   "cell_type": "code",
   "execution_count": 123,
   "id": "8ebab65e-1435-405f-8511-fc8e27959093",
   "metadata": {},
   "outputs": [
    {
     "data": {
      "text/plain": [
       "Set{Any} with 7 elements:\n",
       "  5\n",
       "  \"S\"\n",
       "  7\n",
       "  \"GZL\"\n",
       "  \"P\"\n",
       "  9\n",
       "  3"
      ]
     },
     "execution_count": 123,
     "metadata": {},
     "output_type": "execute_result"
    }
   ],
   "source": [
    "# создание двух множеств с элементами разных типов\n",
    "A = Set([3, 5, 7, 9])\n",
    "B = Set([\"P\", \"S\", \"GZL\"])\n",
    "\n",
    "# объединение множеств A и B\n",
    "C = union(A, B)"
   ]
  },
  {
   "cell_type": "code",
   "execution_count": 125,
   "id": "2d8ef468-ba47-4ff4-9214-01d82f62756b",
   "metadata": {},
   "outputs": [
    {
     "data": {
      "text/plain": [
       "Set{String} with 3 elements:\n",
       "  \"S\"\n",
       "  \"GZL\"\n",
       "  \"P\""
      ]
     },
     "execution_count": 125,
     "metadata": {},
     "output_type": "execute_result"
    }
   ],
   "source": [
    "# разность множеств B и A\n",
    "D = setdiff(B, A)"
   ]
  },
  {
   "cell_type": "code",
   "execution_count": 127,
   "id": "65755287-511b-4b97-b6c2-e089e49549bf",
   "metadata": {},
   "outputs": [
    {
     "data": {
      "text/plain": [
       "false"
      ]
     },
     "execution_count": 127,
     "metadata": {},
     "output_type": "execute_result"
    }
   ],
   "source": [
    "# проверка вхождения элементов множества A в множество B\n",
    "issubset(A, B)"
   ]
  },
  {
   "cell_type": "code",
   "execution_count": 129,
   "id": "1a92789c-3d40-48ea-81be-0a60b4e594d8",
   "metadata": {},
   "outputs": [
    {
     "data": {
      "text/plain": [
       "Set{Int64} with 5 elements:\n",
       "  5\n",
       "  7\n",
       "  9\n",
       "  12\n",
       "  3"
      ]
     },
     "execution_count": 129,
     "metadata": {},
     "output_type": "execute_result"
    }
   ],
   "source": [
    "# добавление элемента в множество A \n",
    "push!(A, 12)"
   ]
  },
  {
   "cell_type": "code",
   "execution_count": 131,
   "id": "1aa88b86-02a4-4dca-83fb-789f6c136ee8",
   "metadata": {},
   "outputs": [
    {
     "data": {
      "text/plain": [
       "5"
      ]
     },
     "execution_count": 131,
     "metadata": {},
     "output_type": "execute_result"
    }
   ],
   "source": [
    "# удаление последнего элемента множества A\n",
    "pop!(A)"
   ]
  },
  {
   "cell_type": "markdown",
   "id": "ad85e3c0-6b40-47c1-8ee6-4168b70dcf64",
   "metadata": {},
   "source": [
    "3. Создайте разными способами:"
   ]
  },
  {
   "cell_type": "markdown",
   "id": "1163e2d5-03d8-49a2-a089-dea577631fde",
   "metadata": {},
   "source": [
    "3.1 массив (1, 2, 3, … 𝑁 − 1, 𝑁 ), 𝑁 выберите больше 20;"
   ]
  },
  {
   "cell_type": "code",
   "execution_count": 133,
   "id": "79c47a93-7b82-490d-af9f-053dbb70b739",
   "metadata": {},
   "outputs": [
    {
     "name": "stdout",
     "output_type": "stream",
     "text": [
      "[1, 2, 3, 4, 5, 6, 7, 8, 9, 10, 11, 12, 13, 14, 15, 16, 17, 18, 19, 20, 21, 22, 23, 24]"
     ]
    }
   ],
   "source": [
    "N =24\n",
    "A = collect(1:N)\n",
    "print(A)"
   ]
  },
  {
   "cell_type": "markdown",
   "id": "e3ff7254-eb72-4c2f-9737-fa90abe39667",
   "metadata": {},
   "source": [
    "3.2 массив (𝑁, 𝑁 − 1 … , 2, 1), 𝑁 выберите больше 20;"
   ]
  },
  {
   "cell_type": "code",
   "execution_count": 135,
   "id": "6f4dc4fb-2b31-4380-b53e-d1f28941f7e3",
   "metadata": {},
   "outputs": [
    {
     "name": "stdout",
     "output_type": "stream",
     "text": [
      "[24, 23, 22, 21, 20, 19, 18, 17, 16, 15, 14, 13, 12, 11, 10, 9, 8, 7, 6, 5, 4, 3, 2, 1, 0]"
     ]
    }
   ],
   "source": [
    "B = [i for i in N:-1:0]\n",
    "print(B)"
   ]
  },
  {
   "cell_type": "markdown",
   "id": "f65efba5-21cb-43da-8b68-bf6d8a1516f3",
   "metadata": {},
   "source": [
    "3.3 массив (1, 2, 3, … , 𝑁 − 1, 𝑁, 𝑁 − 1, … , 2, 1), 𝑁 выберите больше 20;"
   ]
  },
  {
   "cell_type": "code",
   "execution_count": 137,
   "id": "ded95d2b-f512-49f5-a008-90b86786e698",
   "metadata": {},
   "outputs": [
    {
     "name": "stdout",
     "output_type": "stream",
     "text": [
      "[1, 2, 3, 4, 5, 6, 7, 8, 9, 10, 11, 12, 13, 14, 15, 16, 17, 18, 19, 20, 21, 22, 23, 24, 23, 22, 21, 20, 19, 18, 17, 16, 15, 14, 13, 12, 11, 10, 9, 8, 7, 6, 5, 4, 3, 2, 1]"
     ]
    }
   ],
   "source": [
    "C = []\n",
    "C = [i for i in 1:N]\n",
    "for i in N-1:-1:1\n",
    "    push!(C, i)\n",
    "end\n",
    "print(C)"
   ]
  },
  {
   "cell_type": "markdown",
   "id": "86a4c7a2-adb0-41ae-bac2-7e6c83c0921c",
   "metadata": {},
   "source": [
    "3.4 массив с именем tmp вида (4, 6, 3);"
   ]
  },
  {
   "cell_type": "code",
   "execution_count": 139,
   "id": "69a4777f-cdf2-4520-b462-107f93078901",
   "metadata": {},
   "outputs": [
    {
     "name": "stdout",
     "output_type": "stream",
     "text": [
      "[4, 6, 3]"
     ]
    }
   ],
   "source": [
    "tmp = [4, 6, 3]\n",
    "print(tmp)"
   ]
  },
  {
   "cell_type": "markdown",
   "id": "836ffb4e-e149-4b56-b847-f73e339a894c",
   "metadata": {},
   "source": [
    "3.5 массив, в котором первый элемент массива tmp повторяется 10 раз;"
   ]
  },
  {
   "cell_type": "code",
   "execution_count": 141,
   "id": "65194ee5-7301-4179-91d3-ed664a15efe5",
   "metadata": {},
   "outputs": [
    {
     "name": "stdout",
     "output_type": "stream",
     "text": [
      "[4 4 4 4 4 4 4 4 4 4]"
     ]
    }
   ],
   "source": [
    "tmp_3_5 = fill(tmp[1],(1,10))\n",
    "print(tmp_3_5)"
   ]
  },
  {
   "cell_type": "markdown",
   "id": "6914e177-b6f8-49a1-8f00-54fe2493719c",
   "metadata": {},
   "source": [
    "3.6 массив, в котором все элементы массива tmp повторяются 10 раз;"
   ]
  },
  {
   "cell_type": "code",
   "execution_count": 143,
   "id": "4d7bf43e-3315-4dbd-89cc-f5abcb86713a",
   "metadata": {},
   "outputs": [
    {
     "name": "stdout",
     "output_type": "stream",
     "text": [
      "[4, 6, 3, 4, 6, 3, 4, 6, 3, 4, 6, 3, 4, 6, 3, 4, 6, 3, 4, 6, 3, 4, 6, 3, 4, 6, 3, 4, 6, 3]"
     ]
    }
   ],
   "source": [
    "tmp_3_6 = repeat(tmp,10)\n",
    "print(tmp_3_6)"
   ]
  },
  {
   "cell_type": "markdown",
   "id": "d29f88ab-5d94-4e5f-93c3-f732e948526d",
   "metadata": {},
   "source": [
    "3.7 массив, в котором первый элемент массива tmp встречается 11 раз, второй элемент — 10 раз, третий элемент — 10 раз;"
   ]
  },
  {
   "cell_type": "code",
   "execution_count": 147,
   "id": "00ff132f-efdb-4035-955b-f311bca161da",
   "metadata": {},
   "outputs": [
    {
     "name": "stdout",
     "output_type": "stream",
     "text": [
      "[4, 4, 4, 4, 4, 4, 4, 4, 4, 4, 4, 6, 6, 6, 6, 6, 6, 6, 6, 6, 6, 3, 3, 3, 3, 3, 3, 3, 3, 3, 3]"
     ]
    }
   ],
   "source": [
    "tmp_3_7 = vcat(fill(tmp[1],11),fill(tmp[2],10),fill(tmp[3],10))\n",
    "print(tmp_3_7)"
   ]
  },
  {
   "cell_type": "markdown",
   "id": "b6f69226-b71c-4010-95ac-fb91a2e4a145",
   "metadata": {},
   "source": [
    "3.8 массив, в котором первый элемент массива tmp встречается 10 раз подряд, второй элемент — 20 раз подряд, третий элемент — 30 раз подряд;"
   ]
  },
  {
   "cell_type": "code",
   "execution_count": 149,
   "id": "b4486ae1-25cb-4db4-877e-0695de8a8cfa",
   "metadata": {},
   "outputs": [
    {
     "name": "stdout",
     "output_type": "stream",
     "text": [
      "[4, 4, 4, 4, 4, 4, 4, 4, 4, 4, 6, 6, 6, 6, 6, 6, 6, 6, 6, 6, 6, 6, 6, 6, 6, 6, 6, 6, 6, 6, 3, 3, 3, 3, 3, 3, 3, 3, 3, 3, 3, 3, 3, 3, 3, 3, 3, 3, 3, 3, 3, 3, 3, 3, 3, 3, 3, 3, 3, 3]"
     ]
    }
   ],
   "source": [
    "tmp_3_8 = vcat(fill(tmp[1],10),fill(tmp[2],20),fill(tmp[3],30))\n",
    "print(tmp_3_8)"
   ]
  },
  {
   "cell_type": "markdown",
   "id": "b59fe27e-6ae0-4b4d-bc04-bbc1b0ade0b0",
   "metadata": {},
   "source": [
    "3.9 массив из элементов вида $2^{tmp[i]}$, 𝑖 = 1, 2, 3, где элемент $2^{tmp[3]}$ встречается 4 раза; посчитайте в полученном векторе, сколько раз встречается цифра 6, и выведите это значение на экран;"
   ]
  },
  {
   "cell_type": "code",
   "execution_count": 151,
   "id": "60b363c3-87ca-4e35-9379-e395b214e512",
   "metadata": {},
   "outputs": [
    {
     "name": "stdout",
     "output_type": "stream",
     "text": [
      "[16, 64, 8, 8, 8, 8]\n",
      "2"
     ]
    }
   ],
   "source": [
    "tmp_square = [[2^tmp[i] for i in 1:length(tmp)]; fill(2^tmp[3], 3);]\n",
    "\n",
    "println(tmp_square)\n",
    "\n",
    "# разделим все числа в массиве, чтобы найти количество цифр 6\n",
    "count = 0\n",
    "numbers = []  # Empty array of Ints\n",
    "for i in 1:1:length(tmp_square)\n",
    "    while tmp_square[i] != 0\n",
    "        rem = tmp_square[i] % 10  # Modulo division - get last digit\n",
    "        push!(numbers, rem)\n",
    "        tmp_square[i] = div(tmp_square[i],10)\n",
    "    end\n",
    "end\n",
    "\n",
    "# подсчитаем количество цифр 6\n",
    "for i in 1:1:length(numbers)\n",
    "    if numbers[i] == 6\n",
    "        count += 1\n",
    "    end\n",
    "end\n",
    "print(count)"
   ]
  },
  {
   "cell_type": "markdown",
   "id": "9eba0a24-8540-49cc-b5b0-85c8354f3b87",
   "metadata": {},
   "source": [
    "3.10 вектор значений $y = e^x cos(𝑥)$ в точках 𝑥 = 3, 3.1, 3.2, … , 6, найдите среднее значение 𝑦;"
   ]
  },
  {
   "cell_type": "code",
   "execution_count": 153,
   "id": "707265f8-e592-4d8f-bd72-74d5b42e2cbd",
   "metadata": {},
   "outputs": [
    {
     "data": {
      "text/plain": [
       "53.11374594642971"
      ]
     },
     "execution_count": 153,
     "metadata": {},
     "output_type": "execute_result"
    }
   ],
   "source": [
    "using Statistics\n",
    "\n",
    "y = [exp(i)*cos(i) for i in 3:0.1:6]\n",
    "\n",
    "mean(y)"
   ]
  },
  {
   "cell_type": "markdown",
   "id": "51ef9b9c-e695-4efa-a9ab-2033bd9af7fc",
   "metadata": {},
   "source": [
    "3.11 вектор вида ($𝑥^{𝑖}, 𝑦^{𝑗}$), 𝑥 = 0.1, 𝑖 = 3, 6, 9, … , 36, 𝑦 = 0.2, 𝑗 = 1, 4, 7, … , 34;"
   ]
  },
  {
   "cell_type": "code",
   "execution_count": 155,
   "id": "e09fe3b2-41f2-4426-a915-a2c487b11e31",
   "metadata": {},
   "outputs": [
    {
     "data": {
      "text/plain": [
       "12×12 Matrix{Matrix{Float64}}:\n",
       " [0.001 0.2]    [0.001 0.0016]    [0.001 1.28e-5]    …  [0.001 1.71799e-24]\n",
       " [1.0e-6 0.2]   [1.0e-6 0.0016]   [1.0e-6 1.28e-5]      [1.0e-6 1.71799e-24]\n",
       " [1.0e-9 0.2]   [1.0e-9 0.0016]   [1.0e-9 1.28e-5]      [1.0e-9 1.71799e-24]\n",
       " [1.0e-12 0.2]  [1.0e-12 0.0016]  [1.0e-12 1.28e-5]     [1.0e-12 1.71799e-24]\n",
       " [1.0e-15 0.2]  [1.0e-15 0.0016]  [1.0e-15 1.28e-5]     [1.0e-15 1.71799e-24]\n",
       " [1.0e-18 0.2]  [1.0e-18 0.0016]  [1.0e-18 1.28e-5]  …  [1.0e-18 1.71799e-24]\n",
       " [1.0e-21 0.2]  [1.0e-21 0.0016]  [1.0e-21 1.28e-5]     [1.0e-21 1.71799e-24]\n",
       " [1.0e-24 0.2]  [1.0e-24 0.0016]  [1.0e-24 1.28e-5]     [1.0e-24 1.71799e-24]\n",
       " [1.0e-27 0.2]  [1.0e-27 0.0016]  [1.0e-27 1.28e-5]     [1.0e-27 1.71799e-24]\n",
       " [1.0e-30 0.2]  [1.0e-30 0.0016]  [1.0e-30 1.28e-5]     [1.0e-30 1.71799e-24]\n",
       " [1.0e-33 0.2]  [1.0e-33 0.0016]  [1.0e-33 1.28e-5]  …  [1.0e-33 1.71799e-24]\n",
       " [1.0e-36 0.2]  [1.0e-36 0.0016]  [1.0e-36 1.28e-5]     [1.0e-36 1.71799e-24]"
      ]
     },
     "execution_count": 155,
     "metadata": {},
     "output_type": "execute_result"
    }
   ],
   "source": [
    "x = 0.1\n",
    "y = 0.2\n",
    "vector_1 = [[x^i y^j] for i = 3:3:36, j in 1:3:34]"
   ]
  },
  {
   "cell_type": "markdown",
   "id": "09267292-2470-45de-90f2-e5aeecef755b",
   "metadata": {},
   "source": [
    "3.12 вектор с элементами $\\frac{2^{i}}{i}$, 𝑖 = 1, 2, … , 𝑀, 𝑀 = 25;"
   ]
  },
  {
   "cell_type": "code",
   "execution_count": 157,
   "id": "9b6f2b4d-18ba-4958-b4d7-7666286ae28b",
   "metadata": {},
   "outputs": [
    {
     "name": "stdout",
     "output_type": "stream",
     "text": [
      "[2.0, 2.0, 2.6666666666666665, 4.0, 6.4, 10.666666666666666, 18.285714285714285, 32.0, 56.888888888888886, 102.4, 186.1818181818182, 341.3333333333333, 630.1538461538462, 1170.2857142857142, 2184.5333333333333, 4096.0, 7710.117647058823, 14563.555555555555, 27594.105263157893, 52428.8, 99864.38095238095, 190650.18181818182, 364722.0869565217, 699050.6666666666, 1.34217728e6]"
     ]
    }
   ],
   "source": [
    "M = 25\n",
    "vector_2 = [(2^i)/i for i=1:1:M]\n",
    "print(vector_2)"
   ]
  },
  {
   "cell_type": "markdown",
   "id": "a582e4c2-cdc2-4cad-85d8-d3414dc4d154",
   "metadata": {},
   "source": [
    "3.13 вектор вида (”fn1”, ”fn2”, …, ”fnN”), 𝑁 = 30;"
   ]
  },
  {
   "cell_type": "code",
   "execution_count": 159,
   "id": "e9af788e-d632-4c3f-b204-56c68cb60c40",
   "metadata": {},
   "outputs": [
    {
     "name": "stdout",
     "output_type": "stream",
     "text": [
      "[\"fn1\", \"fn2\", \"fn3\", \"fn4\", \"fn5\", \"fn6\", \"fn7\", \"fn8\", \"fn9\", \"fn10\", \"fn11\", \"fn12\", \"fn13\", \"fn14\", \"fn15\", \"fn16\", \"fn17\", \"fn18\", \"fn19\", \"fn20\", \"fn21\", \"fn22\", \"fn23\", \"fn24\", \"fn25\", \"fn26\", \"fn27\", \"fn28\", \"fn29\", \"fn30\"]"
     ]
    }
   ],
   "source": [
    "N = 30\n",
    "vector_3 = [string(\"fn\", i) for i=1:1:N]\n",
    "print(vector_3)"
   ]
  },
  {
   "cell_type": "markdown",
   "id": "0b988b40-79f4-4bef-a826-1c6f3a4b385a",
   "metadata": {},
   "source": [
    "3.14 векторы 𝑥 = (𝑥1, 𝑥2, … , 𝑥𝑛) и 𝑦 = (𝑦1, 𝑦2, … , 𝑦𝑛) целочисленного типа длины 𝑛 = 250 как случайные выборки из совокупности 0, 1, … , 999; на его основе:  "
   ]
  },
  {
   "cell_type": "code",
   "execution_count": 161,
   "id": "bcbb6002-74b7-4ca6-af1b-a1503031ea52",
   "metadata": {},
   "outputs": [
    {
     "name": "stdout",
     "output_type": "stream",
     "text": [
      "250\n",
      "[968, 289, 190, 332, 125, 39, 774, 396, 618, 328, 675, 721, 194, 633, 9, 290, 259, 895, 839, 555, 385, 209, 231, 762, 662, 166, 532, 588, 289, 47, 341, 993, 150, 795, 364, 497, 649, 289, 855, 31, 787, 37, 571, 918, 127, 45, 934, 536, 7, 360, 17, 779, 914, 511, 590, 668, 251, 327, 501, 709, 724, 2, 434, 85, 791, 985, 495, 794, 90, 812, 264, 112, 864, 561, 560, 572, 875, 360, 311, 867, 84, 686, 153, 967, 316, 600, 156, 178, 67, 81, 71, 837, 7, 523, 960, 970, 938, 674, 363, 205, 833, 787, 734, 350, 406, 178, 655, 431, 898, 317, 647, 22, 929, 8, 128, 314, 751, 650, 41, 186, 516, 870, 840, 136, 774, 56, 157, 274, 416, 655, 444, 823, 566, 927, 622, 151, 601, 766, 261, 998, 780, 47, 131, 805, 645, 42, 885, 967, 560, 690, 110, 863, 511, 288, 920, 235, 513, 20, 415, 918, 694, 647, 770, 693, 628, 424, 939, 724, 131, 901, 148, 133, 136, 38, 579, 715, 164, 817, 363, 564, 227, 860, 346, 362, 673, 297, 206, 457, 110, 552, 9, 731, 313, 709, 247, 882, 24, 233, 436, 277, 563, 813, 662, 956, 214, 513, 358, 188, 102, 404, 644, 473, 815, 209, 602, 519, 388, 987, 432, 409, 169, 470, 25, 829, 694, 101, 486, 645, 653, 977, 507, 536, 183, 536, 376, 236, 590, 182, 969, 936, 287, 612, 176, 499, 101, 945, 633, 941, 571, 465]\n",
      "[691, 273, 344, 358, 540, 178, 232, 422, 464, 944, 982, 668, 248, 826, 13, 306, 511, 47, 506, 237, 351, 31, 417, 494, 737, 186, 312, 675, 313, 586, 722, 543, 573, 697, 670, 874, 520, 950, 975, 446, 569, 876, 628, 228, 372, 802, 543, 486, 108, 715, 256, 92, 354, 832, 958, 752, 440, 764, 268, 14, 996, 774, 232, 586, 678, 63, 978, 904, 736, 503, 221, 233, 83, 209, 689, 997, 199, 550, 351, 589, 747, 666, 963, 345, 379, 467, 909, 494, 151, 340, 321, 537, 736, 144, 805, 720, 892, 895, 401, 337, 910, 323, 278, 188, 32, 229, 799, 879, 497, 68, 901, 592, 862, 222, 56, 151, 628, 743, 857, 631, 272, 648, 774, 736, 513, 276, 936, 55, 785, 786, 226, 764, 87, 975, 311, 746, 495, 695, 663, 575, 267, 160, 485, 191, 655, 753, 18, 240, 448, 827, 48, 397, 399, 270, 590, 572, 457, 709, 567, 438, 802, 679, 296, 72, 254, 401, 274, 70, 317, 38, 126, 353, 595, 593, 493, 278, 554, 834, 121, 816, 602, 288, 229, 230, 596, 360, 216, 773, 320, 137, 619, 353, 486, 736, 977, 910, 58, 246, 832, 128, 920, 16, 623, 379, 937, 45, 557, 134, 767, 359, 270, 147, 786, 578, 628, 48, 597, 879, 306, 649, 881, 305, 306, 140, 500, 245, 184, 48, 336, 617, 486, 506, 546, 541, 679, 568, 4, 615, 526, 204, 425, 970, 601, 488, 671, 88, 719, 920, 384, 259]\n"
     ]
    }
   ],
   "source": [
    "n = 250\n",
    "x = rand(0:999, n)\n",
    "y = rand(0:999, n)\n",
    "\n",
    "# проверим длину выборки x\n",
    "println(length(x))\n",
    "println(x)\n",
    "println(y)"
   ]
  },
  {
   "cell_type": "markdown",
   "id": "801f3bff-b636-4c6e-82f1-e64a44fb7dae",
   "metadata": {},
   "source": [
    "– сформируйте вектор ($y_{2}-x_{1}$, … , $y_{n}-x_{n-1}$); "
   ]
  },
  {
   "cell_type": "code",
   "execution_count": 163,
   "id": "ca6c5797-05fc-44ad-baf9-abe6983f5597",
   "metadata": {},
   "outputs": [
    {
     "name": "stdout",
     "output_type": "stream",
     "text": [
      "[-695, 55, 168, 208, 53, 193, -352, 68, 326, 654, -7, -473, 632, -620, 297, 221, -212, -389, -602, -204, -354, 208, 263, -25, -476, 146, 143, -275, 297, 675, 202, -420, 547, -125, 510, 23, 301, 686, -409, 538, 89, 591, -343, -546, 675, 498, -448, -428, 708, -104, 75, -425, -82, 447, 162, -228, 513, -59, -487, 287, 50, 230, 152, 593, -728, -7, 409, -58, 413, -591, -31, -29, -655, 128, 437, -373, -325, -9, 278, -120, 582, 277, 192, -588, 151, 309, 338, -27, 273, 240, 466, -101, 137, 282, -240, -78, -43, -273, -26, 705, -510, -509, -546, -318, -177, 621, 224, 66, -830, 584, -55, 840, -707, 48, 23, 314, -8, 207, 590, 86, 132, -96, -104, 377, -498, 880, -102, 511, 370, -429, 320, -736, 409, -616, 124, 344, 94, -103, 314, -731, -620, 438, 60, -150, 108, -24, -645, -519, 267, -642, 287, -464, -241, 302, -348, 222, 196, 547, 23, -116, -15, -351, -698, -439, -227, -150, -869, -407, -93, -775, 205, 462, 457, 455, -301, -161, 670, -696, 453, 38, 61, -631, -116, 234, -313, -81, 567, -137, 27, 67, 344, -245, 423, 268, 663, -824, 222, 599, -308, 643, -547, -190, -283, -19, -169, 44, -224, 579, 257, -134, -497, 313, -237, 419, -554, 78, 491, -681, 217, 472, 136, -164, 115, -329, -449, 83, -438, -309, -36, -491, -1, 10, 358, 143, 192, -232, 25, 344, -765, -511, 683, -11, 312, 172, -13, -226, 287, -557, -312]"
     ]
    }
   ],
   "source": [
    "vector1 = [y[i]-x[i-1] for i in 2:250]\n",
    "print(vector1)"
   ]
  },
  {
   "cell_type": "markdown",
   "id": "f43a0744-d1a2-45f8-aece-66d377b23033",
   "metadata": {},
   "source": [
    "– сформируйте вектор ($x_{1}+2x_{2} - x_{3}$, $x_{2}+2x_{3} - x_{4}$, … , $x_{n-2}+2x_{n-1} - x_{n}$); "
   ]
  },
  {
   "cell_type": "code",
   "execution_count": 165,
   "id": "74cead7e-0a27-4321-b1e2-720d45b839ed",
   "metadata": {},
   "outputs": [
    {
     "name": "stdout",
     "output_type": "stream",
     "text": [
      "[1356, 337, 729, 543, -571, 1191, 948, 1304, 599, 957, 1923, 476, 1451, 361, 330, -87, 1210, 2018, 1564, 1116, 572, -91, 1093, 1920, 462, 642, 1419, 1119, 42, -264, 2177, 498, 1376, 1026, 709, 1506, 372, 1968, 130, 1568, 290, 261, 2280, 1127, -717, 1377, 1999, 190, 710, -385, 661, 2096, 1346, 1023, 1675, 843, 404, 620, 1195, 2155, 294, 785, -187, 682, 2266, 1181, 1993, 162, 1450, 1228, -376, 1279, 1426, 1109, 829, 1962, 1284, 115, 1961, 349, 1303, 25, 1771, 999, 1360, 734, 445, 231, 158, -614, 1738, 328, 93, 1473, 1962, 2172, 1923, 1195, -60, 1084, 1673, 1905, 1028, 984, 107, 1057, 619, 1910, 885, 1589, -238, 1872, 817, -50, 5, 1166, 2010, 546, -103, 348, 1416, 2414, 338, 1628, 729, 96, 289, 451, 1282, 720, 1524, 1028, 1798, 2020, 323, 587, 1872, 290, 1477, 2511, 743, -496, 1096, 2053, -156, 845, 2259, 1397, 1830, 47, 1325, 1597, 167, 1893, 877, 1241, 138, -68, 1557, 1659, 1218, 1494, 1528, 1525, 537, 1578, 2256, 85, 1785, 1064, 278, 367, -367, 481, 1845, 226, 1435, 979, 1264, 158, 1601, 1190, 397, 1411, 1061, 252, 1010, 125, 1205, -161, 1158, 648, 1484, 321, 1987, 697, 54, 828, 427, 590, 1527, 1181, 2360, 871, 882, 1041, 632, -12, 266, 1219, 775, 1894, 631, 894, 1252, 308, 1930, 1442, 1081, 277, 1084, -309, 989, 2116, 410, 428, 1123, 974, 2100, 1455, 1396, 366, 879, 1052, 258, 1234, -15, 1184, 2554, 898, 1335, 465, 1073, -244, 1358, 1270, 1944, 1618]"
     ]
    }
   ],
   "source": [
    "vector2 = [x[i]+2*x[i+1]-x[i+2] for i in 1:248]\n",
    "print(vector2)"
   ]
  },
  {
   "cell_type": "markdown",
   "id": "753a9d76-07d1-47c8-872e-6a71bf489f06",
   "metadata": {},
   "source": [
    "– сформируйте вектор ($\\frac{\\sin(y1)}{\\cos(x2)}$,$\\frac{\\sin(y2)}{\\cos(x3)}$, … ,$\\frac{\\sin(y_{n-1})}{\\cos(x_{n})}$); "
   ]
  },
  {
   "cell_type": "code",
   "execution_count": 167,
   "id": "78c76495-2163-401f-857e-c5cfb9e9e14d",
   "metadata": {},
   "outputs": [
    {
     "name": "stdout",
     "output_type": "stream",
     "text": [
      "[-0.14987031767091288, 4.723495618045471, -1.8766525922911392, -0.17911332486188286, -1.2998390818350767, 2.2398452986040747, -0.4657760114017271, -1.365598206309524, -2.795951083070179, -1.10523371396021, 215.85931603093564, 1.2875845370686796, -5.9761760441179, -0.25968056028362785, 0.7470580136090632, -5.28690402508279, -0.9400275788884965, -0.12595443536130319, 0.4149704307165043, 6.364726598261218, 9.010447972208764, -4.353562187210435, -4.533328436710022, 1.0873351049658793, -1.0924073115163213, 1.2558233183571141, 0.9596814881468934, 0.4282788308443628, 0.9235883616905673, -7.2801246934080055, -0.5547009053056638, 0.6800094419838516, -0.9575041947052774, -0.46108291753819297, -0.9210884593408833, -2.3047006070808336, -0.9981463714300118, 1.0697297683019327, 0.9773650175760045, 3.4140983435174443, -0.47455039024468665, 0.6730288301136562, -0.3948794555309918, 4.185861685596807, 1.8301266775970157, 1.3344574056745482, -1.355366285972636, 1.076513263483843, -3.2669989761091958, 3.4848653097612763, -1.0058493575259602, 0.7958828458322693, -1.783956720205399, 0.6124430286904642, -0.4616853434796277, -0.967966249073741, 0.18294796812812122, 6.658442142377563, -1.5209223528554043, 7.24777222397991, 0.2760435465489662, 1.026889780611317, 0.46717557381951813, 1.28189865184507, -4.9908647793048475, 0.8459010255154696, 1.2085110947351982, 1.5674732665659685, 7.511371510211083, 0.3402794856193902, 1.9429798844781772, -0.49970002510573663, -4.326924556545901, 1.4251368125442228, -0.8593451720776114, 13.52419890377283, 3.1083064027388656, 0.21951835699977565, -0.7591850140651127, 1.4687994800999447, -1.5172245939114883, 0.02983184002540898, 1.2141693139618708, 2.0399436292848097, -0.9064507433310887, 1.8869448346124151, 1.8392907111130645, 1.344423281842723, 0.26027234441579455, -2.1044107144542186, 2.277689241993434, 0.2795476435853696, 10.153611282028908, -2.037038283960416, -0.9357335783509765, 2.3406262862419163, 1.645964687502694, 2.3813988054188684, 1.2896704634545364, 0.8457847994671096, 28.137899882328696, 1.2997592136487475, -3.5239908896831427, 0.6407517693468878, -1.1501503857704276, 14.953102429979982, -1.0434129286179232, -0.6842447516295289, -0.6154644717200608, -0.9107633699147457, -0.5948833914433511, 1.6028925291153686, -6.414721316120594, -1.2540858390635081, -0.5282363300979774, -0.2047440473442852, 0.3288127015911227, -1.0127329891704975, -0.7626962470303496, 0.6238938059436789, -0.9925325094441608, -2.012936640242088, -1.5020036003160486, 1.9463859633611682, -0.932751516529979, -0.4454974443995499, 0.2489930283393263, -3.8739312544858535, -17.570814354318728, -1.1097835783109815, -0.1943626679585035, -0.641519491586298, 0.844077627635988, 0.894595930920931, 0.018044317689175856, 1.7190077420122627, -1.1488214656674, 0.6708260517387642, -0.2387440880395451, -0.13963772704117025, -0.03564135149420598, 0.3755938834760111, 1.2739019168869956, -1.0577957243797316, -2.499483026181436, -1.3896342304221247, -0.9165757317433685, 1.3521663827417119, 2.323416736669702, 0.6904176423281648, 1.2990038715924068, -1.9431304961507168, -0.03424529894813157, 0.1991682512081372, 0.7130473919897989, -0.3767291420068118, -2.4378181405990857, -0.8834891424380289, 1.2588227432854895, 1.0111678037759573, -0.7906466807451711, -0.4242913518769728, -2.313633621249368, 0.26726784956716787, -0.45500473240587785, 0.955256321547709, -4.608742677603981, 1.3246816187868582, -0.3686601172353329, -0.31494186279993447, 0.6668202660572994, -1.4844707930886656, -0.9899288718216745, 1.1805916528724003, 0.8036899463889491, 1.2435327301586483, 0.897274491757768, -6.841843982131883, 11.887895988348692, -1.0493986218499947, -1.325330964851261, -0.9389612788497758, -0.4376841109949815, -0.8049178518160502, 6.584536614637229, 4.285267499995181, -6.853956832454241, -0.16757922977903714, -0.7070219624813275, 1.0344453411180259, 0.19359509062571123, 2.2732013734976784, 1.5019546888330322, -2.030682363381608, -0.05004002264515844, -2.0587249925319124, 1.1455094219317554, -1.0515704572190794, 0.5813337673871246, -0.9091388020759573, -0.5978321522122886, 0.4497149626334062, 1.424530850339192, 0.9719378357129027, -1.1909095647055197, 0.8595013311197482, -0.9167142761998942, 8.720959586062438, -1.4510582422668363, -0.7570878949271923, 0.9306769815546634, -2.528197034258996, -6.740812896894384, -0.14118279514044682, 0.38963433261279945, -57.733604475061355, 0.11336771763000199, -19.414565030515117, -1.1500901697234578, 1.2099020939369938, 2.9972038915435006, -0.26473284651840445, -1.0272139732159085, -1.023559955397154, -0.5244049905619529, 0.07567621459257047, -1.736446362743474, -0.8537176729921356, -0.14994089676365688, -2.6413888918772406, -2.3133598120012495, -0.2865640089965053, 1.6956697804321303, 1.0991201868870137, -0.43522902333038227, 0.7218554427568983, -0.7741961316374948, -3.788466289773376, -0.9953872620965662, -0.4592434268445509, 0.9445724696411707, 0.6849121244655977, 0.9375721189892088, -0.9741882615830117, 1.183664563263979, -1.1450287536104669, 4.437172448305226, 0.6513388283037566, 0.6643078012427791]"
     ]
    }
   ],
   "source": [
    "vector3 = [sin(y[i-1])/cos(x[i]) for i in 2:250]\n",
    "print(vector3)"
   ]
  },
  {
   "cell_type": "markdown",
   "id": "f524fad3-d5d2-4b2f-b10d-5f24ae81a112",
   "metadata": {},
   "source": [
    "– вычислите $\\sum_{i=1}^{n-1}\\frac{e^{-x_{i+1}}}{x_{i}+10}$;  "
   ]
  },
  {
   "cell_type": "code",
   "execution_count": 169,
   "id": "5b6962a9-8719-4154-8f24-c2b82c45d539",
   "metadata": {},
   "outputs": [
    {
     "data": {
      "text/plain": [
       "0.00018789610052354785"
      ]
     },
     "execution_count": 169,
     "metadata": {},
     "output_type": "execute_result"
    }
   ],
   "source": [
    "tor = [exp(-x[i+1])/(x[i]+10) for i in 1:249]\n",
    "sum(tor)"
   ]
  },
  {
   "cell_type": "markdown",
   "id": "100f6c9e-bbcf-40bf-8d0b-54551df7ae7c",
   "metadata": {},
   "source": [
    "– выберите элементы вектора 𝑦, значения которых больше 600, и выведите на экран; определите индексы этих элементов;"
   ]
  },
  {
   "cell_type": "code",
   "execution_count": 173,
   "id": "884807f2-ea75-4211-9a1a-40e8c0dd2436",
   "metadata": {
    "scrolled": true,
    "tags": []
   },
   "outputs": [
    {
     "name": "stdout",
     "output_type": "stream",
     "text": [
      "i = 1  y = 691\n",
      "i = 10  y = 944\n",
      "i = 11  y = 982\n",
      "i = 12  y = 668\n",
      "i = 14  y = 826\n",
      "i = 25  y = 737\n",
      "i = 28  y = 675\n",
      "i = 31  y = 722\n",
      "i = 34  y = 697\n",
      "i = 35  y = 670\n",
      "i = 36  y = 874\n",
      "i = 38  y = 950\n",
      "i = 39  y = 975\n",
      "i = 42  y = 876\n",
      "i = 43  y = 628\n",
      "i = 46  y = 802\n",
      "i = 50  y = 715\n",
      "i = 54  y = 832\n",
      "i = 55  y = 958\n",
      "i = 56  y = 752\n",
      "i = 58  y = 764\n",
      "i = 61  y = 996\n",
      "i = 62  y = 774\n",
      "i = 65  y = 678\n",
      "i = 67  y = 978\n",
      "i = 68  y = 904\n",
      "i = 69  y = 736\n",
      "i = 75  y = 689\n",
      "i = 76  y = 997\n",
      "i = 81  y = 747\n",
      "i = 82  y = 666\n",
      "i = 83  y = 963\n",
      "i = 87  y = 909\n",
      "i = 93  y = 736\n",
      "i = 95  y = 805\n",
      "i = 96  y = 720\n",
      "i = 97  y = 892\n",
      "i = 98  y = 895\n",
      "i = 101  y = 910\n",
      "i = 107  y = 799\n",
      "i = 108  y = 879\n",
      "i = 111  y = 901\n",
      "i = 113  y = 862\n",
      "i = 117  y = 628\n",
      "i = 118  y = 743\n",
      "i = 119  y = 857\n",
      "i = 120  y = 631\n",
      "i = 122  y = 648\n",
      "i = 123  y = 774\n",
      "i = 124  y = 736\n",
      "i = 127  y = 936\n",
      "i = 129  y = 785\n",
      "i = 130  y = 786\n",
      "i = 132  y = 764\n",
      "i = 134  y = 975\n",
      "i = 136  y = 746\n",
      "i = 138  y = 695\n",
      "i = 139  y = 663\n",
      "i = 145  y = 655\n",
      "i = 146  y = 753\n",
      "i = 150  y = 827\n",
      "i = 158  y = 709\n",
      "i = 161  y = 802\n",
      "i = 162  y = 679\n",
      "i = 178  y = 834\n",
      "i = 180  y = 816\n",
      "i = 181  y = 602\n",
      "i = 188  y = 773\n",
      "i = 191  y = 619\n",
      "i = 194  y = 736\n",
      "i = 195  y = 977\n",
      "i = 196  y = 910\n",
      "i = 199  y = 832\n",
      "i = 201  y = 920\n",
      "i = 203  y = 623\n",
      "i = 205  y = 937\n",
      "i = 209  y = 767\n",
      "i = 213  y = 786\n",
      "i = 215  y = 628\n",
      "i = 218  y = 879\n",
      "i = 220  y = 649\n",
      "i = 221  y = 881\n",
      "i = 230  y = 617\n",
      "i = 235  y = 679\n",
      "i = 238  y = 615\n",
      "i = 242  y = 970\n",
      "i = 243  y = 601\n",
      "i = 245  y = 671\n",
      "i = 247  y = 719\n",
      "i = 248  y = 920\n"
     ]
    }
   ],
   "source": [
    "for i in 1:250\n",
    "    if y[i]>600\n",
    "        println(\"i = \", i, \"  y = \", y[i])\n",
    "    end\n",
    "end"
   ]
  },
  {
   "cell_type": "markdown",
   "id": "739ebd54-0d25-4d37-bdc1-6e1947aabb61",
   "metadata": {},
   "source": [
    "– определите значения вектора 𝑥, соответствующие значениям вектора 𝑦, значения которых больше 600 (под соответствием понимается расположение на аналогичных индексных позициях);"
   ]
  },
  {
   "cell_type": "code",
   "execution_count": 175,
   "id": "acd6f351-cd48-48c6-b037-10d34e68bbf4",
   "metadata": {
    "scrolled": true,
    "tags": []
   },
   "outputs": [
    {
     "name": "stdout",
     "output_type": "stream",
     "text": [
      "i = 1  y = 691  x = 968\n",
      "i = 10  y = 944  x = 328\n",
      "i = 11  y = 982  x = 675\n",
      "i = 12  y = 668  x = 721\n",
      "i = 14  y = 826  x = 633\n",
      "i = 25  y = 737  x = 662\n",
      "i = 28  y = 675  x = 588\n",
      "i = 31  y = 722  x = 341\n",
      "i = 34  y = 697  x = 795\n",
      "i = 35  y = 670  x = 364\n",
      "i = 36  y = 874  x = 497\n",
      "i = 38  y = 950  x = 289\n",
      "i = 39  y = 975  x = 855\n",
      "i = 42  y = 876  x = 37\n",
      "i = 43  y = 628  x = 571\n",
      "i = 46  y = 802  x = 45\n",
      "i = 50  y = 715  x = 360\n",
      "i = 54  y = 832  x = 511\n",
      "i = 55  y = 958  x = 590\n",
      "i = 56  y = 752  x = 668\n",
      "i = 58  y = 764  x = 327\n",
      "i = 61  y = 996  x = 724\n",
      "i = 62  y = 774  x = 2\n",
      "i = 65  y = 678  x = 791\n",
      "i = 67  y = 978  x = 495\n",
      "i = 68  y = 904  x = 794\n",
      "i = 69  y = 736  x = 90\n",
      "i = 75  y = 689  x = 560\n",
      "i = 76  y = 997  x = 572\n",
      "i = 81  y = 747  x = 84\n",
      "i = 82  y = 666  x = 686\n",
      "i = 83  y = 963  x = 153\n",
      "i = 87  y = 909  x = 156\n",
      "i = 93  y = 736  x = 7\n",
      "i = 95  y = 805  x = 960\n",
      "i = 96  y = 720  x = 970\n",
      "i = 97  y = 892  x = 938\n",
      "i = 98  y = 895  x = 674\n",
      "i = 101  y = 910  x = 833\n",
      "i = 107  y = 799  x = 655\n",
      "i = 108  y = 879  x = 431\n",
      "i = 111  y = 901  x = 647\n",
      "i = 113  y = 862  x = 929\n",
      "i = 117  y = 628  x = 751\n",
      "i = 118  y = 743  x = 650\n",
      "i = 119  y = 857  x = 41\n",
      "i = 120  y = 631  x = 186\n",
      "i = 122  y = 648  x = 870\n",
      "i = 123  y = 774  x = 840\n",
      "i = 124  y = 736  x = 136\n",
      "i = 127  y = 936  x = 157\n",
      "i = 129  y = 785  x = 416\n",
      "i = 130  y = 786  x = 655\n",
      "i = 132  y = 764  x = 823\n",
      "i = 134  y = 975  x = 927\n",
      "i = 136  y = 746  x = 151\n",
      "i = 138  y = 695  x = 766\n",
      "i = 139  y = 663  x = 261\n",
      "i = 145  y = 655  x = 645\n",
      "i = 146  y = 753  x = 42\n",
      "i = 150  y = 827  x = 690\n",
      "i = 158  y = 709  x = 20\n",
      "i = 161  y = 802  x = 694\n",
      "i = 162  y = 679  x = 647\n",
      "i = 178  y = 834  x = 817\n",
      "i = 180  y = 816  x = 564\n",
      "i = 181  y = 602  x = 227\n",
      "i = 188  y = 773  x = 457\n",
      "i = 191  y = 619  x = 9\n",
      "i = 194  y = 736  x = 709\n",
      "i = 195  y = 977  x = 247\n",
      "i = 196  y = 910  x = 882\n",
      "i = 199  y = 832  x = 436\n",
      "i = 201  y = 920  x = 563\n",
      "i = 203  y = 623  x = 662\n",
      "i = 205  y = 937  x = 214\n",
      "i = 209  y = 767  x = 102\n",
      "i = 213  y = 786  x = 815\n",
      "i = 215  y = 628  x = 602\n",
      "i = 218  y = 879  x = 987\n",
      "i = 220  y = 649  x = 409\n",
      "i = 221  y = 881  x = 169\n",
      "i = 230  y = 617  x = 977\n",
      "i = 235  y = 679  x = 376\n",
      "i = 238  y = 615  x = 182\n",
      "i = 242  y = 970  x = 612\n",
      "i = 243  y = 601  x = 176\n",
      "i = 245  y = 671  x = 101\n",
      "i = 247  y = 719  x = 633\n",
      "i = 248  y = 920  x = 941\n"
     ]
    }
   ],
   "source": [
    "for i in 1:250\n",
    "    if y[i]>600\n",
    "        println(\"i = \", i, \"  y = \", y[i], \"  x = \", x[i])\n",
    "    end\n",
    "end"
   ]
  },
  {
   "cell_type": "markdown",
   "id": "fd692950-b94b-4196-ad7a-85be88517777",
   "metadata": {},
   "source": [
    "– сформируйте вектор $(\\mid{x_{1} - \\overline{x}}\\mid^{\\frac{1}{2}}, \\mid{x_{2} - \\overline{x}}\\mid^{\\frac{1}{2}}, \\mid{x_{n} - \\overline{x}}\\mid^{\\frac{1}{2}})$, где $\\overline{𝑥}$ обозначает среднее значение вектора 𝑥 = (𝑥1, 𝑥2, … , 𝑥𝑛);"
   ]
  },
  {
   "cell_type": "code",
   "execution_count": 177,
   "id": "61a586e2-0d2a-4a32-97b8-7dae677d31d8",
   "metadata": {},
   "outputs": [
    {
     "data": {
      "text/plain": [
       "250-element Vector{Float64}:\n",
       " 21.98635940759634\n",
       " 13.985706989637672\n",
       " 17.16391563717324\n",
       " 12.353137253345809\n",
       " 18.963122105813696\n",
       " 21.109239683134017\n",
       " 17.01176063786462\n",
       "  9.412757300600076\n",
       " 11.549891774384728\n",
       " 12.513992168768526\n",
       " 13.798550648528272\n",
       " 15.375304875026055\n",
       " 17.046993869888027\n",
       "  ⋮\n",
       " 22.009089031579656\n",
       " 21.24617612654098\n",
       " 14.057026712644463\n",
       " 11.287160847617969\n",
       " 17.567014544310027\n",
       "  3.7947331922020524\n",
       " 19.585709075752145\n",
       " 21.45693361130616\n",
       " 12.181953866272847\n",
       " 21.36352030916253\n",
       "  9.295160030897799\n",
       "  4.427188724235734"
      ]
     },
     "execution_count": 177,
     "metadata": {},
     "output_type": "execute_result"
    }
   ],
   "source": [
    "S = sum(x)/length(x)\n",
    "vector4 = [(abs(x[i]-S))^0.5 for i in 1:250]"
   ]
  },
  {
   "cell_type": "markdown",
   "id": "40cc0993-0bf5-4806-99b2-95270e6ad8a2",
   "metadata": {},
   "source": [
    "– определите, сколько элементов вектора 𝑦 отстоят от максимального значения не более, чем на 200;"
   ]
  },
  {
   "cell_type": "code",
   "execution_count": 179,
   "id": "96ef4747-6f16-4259-9165-c28736a3cd6b",
   "metadata": {},
   "outputs": [
    {
     "name": "stdout",
     "output_type": "stream",
     "text": [
      "40"
     ]
    }
   ],
   "source": [
    "count_numbers = 0\n",
    "for i in 1:250\n",
    "    if y[i] > maximum(y) - 200 \n",
    "        count_numbers += 1\n",
    "    end\n",
    "end\n",
    "print(count_numbers)"
   ]
  },
  {
   "cell_type": "markdown",
   "id": "1fb8b03b-25f3-441e-89c2-aa31a878e70e",
   "metadata": {},
   "source": [
    "– определите, сколько чётных и нечётных элементов вектора 𝑥;  "
   ]
  },
  {
   "cell_type": "code",
   "execution_count": 181,
   "id": "7951dd0c-c277-48ed-8da0-d10f5508bdde",
   "metadata": {},
   "outputs": [
    {
     "name": "stdout",
     "output_type": "stream",
     "text": [
      "Количество четных чисел = 120\n",
      "Количество нечетных чисел = 130"
     ]
    }
   ],
   "source": [
    "even_num = 0\n",
    "odd_num = 0\n",
    "for i in 1:1:n\n",
    "    if mod(x[i], 2) == 0\n",
    "        even_num += 1\n",
    "    else\n",
    "        odd_num += 1\n",
    "    end\n",
    "end\n",
    "println(\"Количество четных чисел = \", even_num)\n",
    "print(\"Количество нечетных чисел = \", odd_num)"
   ]
  },
  {
   "cell_type": "markdown",
   "id": "26c519e0-2bdd-4985-9976-dad9dc13036f",
   "metadata": {},
   "source": [
    "– определите, сколько элементов вектора 𝑥 кратны 7;  "
   ]
  },
  {
   "cell_type": "code",
   "execution_count": 183,
   "id": "1b4423fc-ee48-4b3e-ad94-77957f692511",
   "metadata": {},
   "outputs": [
    {
     "name": "stdout",
     "output_type": "stream",
     "text": [
      "Количество элементов кратных 7 = 39"
     ]
    }
   ],
   "source": [
    "count_seven = 0\n",
    "for i in 1:250\n",
    "    if mod(x[i], 7) == 0\n",
    "        count_seven += 1\n",
    "    end\n",
    "end\n",
    "print(\"Количество элементов кратных 7 = \", count_seven)"
   ]
  },
  {
   "cell_type": "markdown",
   "id": "ff2a45fd-b44b-470d-a38c-585b266d698f",
   "metadata": {},
   "source": [
    "– отсортируйте элементы вектора 𝑥 в порядке возрастания элементов вектора 𝑦;"
   ]
  },
  {
   "cell_type": "code",
   "execution_count": 185,
   "id": "f4511ab0-5110-416e-b6c6-b43ac0a05485",
   "metadata": {},
   "outputs": [
    {
     "name": "stdout",
     "output_type": "stream",
     "text": [
      "[4, 13, 14, 16, 18, 31, 32, 38, 45, 47, 48, 48, 48, 55, 56, 58, 63, 68, 70, 72, 83, 87, 88, 92, 108, 121, 126, 128, 134, 137, 140, 144, 147, 151, 151, 160, 178, 184, 186, 188, 191, 199, 204, 209, 216, 221, 222, 226, 228, 229, 229, 230, 232, 232, 233, 237, 240, 245, 246, 248, 254, 256, 259, 267, 268, 270, 270, 272, 273, 274, 276, 278, 278, 288, 296, 305, 306, 306, 306, 311, 312, 313, 317, 320, 321, 323, 336, 337, 340, 344, 345, 351, 351, 353, 353, 354, 358, 359, 360, 372, 379, 379, 384, 397, 399, 401, 401, 417, 422, 425, 438, 440, 446, 448, 457, 464, 467, 485, 486, 486, 486, 488, 493, 494, 494, 495, 497, 500, 503, 506, 506, 511, 513, 520, 526, 537, 540, 541, 543, 543, 546, 550, 554, 557, 567, 568, 569, 572, 573, 575, 578, 586, 586, 589, 590, 592, 593, 595, 596, 597, 601, 602, 615, 617, 619, 623, 628, 628, 628, 631, 648, 649, 655, 663, 666, 668, 670, 671, 675, 678, 679, 679, 689, 691, 695, 697, 709, 715, 719, 720, 722, 736, 736, 736, 736, 737, 743, 746, 747, 752, 753, 764, 764, 767, 773, 774, 774, 785, 786, 786, 799, 802, 802, 805, 816, 826, 827, 832, 832, 834, 857, 862, 874, 876, 879, 879, 881, 892, 895, 901, 904, 909, 910, 910, 920, 920, 936, 937, 944, 950, 958, 963, 970, 975, 975, 977, 978, 982, 996, 997]\n",
      "Any[590, 9, 709, 813, 885, 209, 406, 901, 513, 895, 110, 519, 645, 274, 128, 24, 985, 317, 724, 693, 864, 566, 945, 779, 7, 363, 148, 277, 188, 552, 829, 523, 473, 67, 314, 47, 39, 486, 166, 350, 805, 875, 936, 561, 206, 264, 8, 444, 918, 178, 346, 362, 774, 434, 112, 555, 967, 101, 233, 194, 628, 17, 465, 780, 501, 288, 644, 516, 289, 939, 56, 734, 715, 860, 770, 470, 290, 432, 25, 622, 532, 289, 131, 110, 71, 787, 653, 205, 81, 190, 967, 385, 311, 133, 731, 914, 332, 404, 297, 127, 316, 956, 571, 863, 511, 363, 424, 231, 396, 287, 918, 251, 31, 560, 513, 618, 600, 131, 536, 313, 507, 499, 579, 762, 178, 601, 898, 694, 812, 839, 536, 259, 774, 649, 969, 837, 125, 536, 993, 934, 183, 360, 164, 358, 415, 236, 787, 235, 150, 998, 209, 47, 85, 867, 920, 22, 38, 136, 673, 388, 176, 227, 182, 977, 9, 662, 571, 751, 602, 186, 870, 409, 645, 261, 686, 721, 364, 101, 588, 791, 647, 376, 560, 968, 766, 795, 20, 360, 633, 970, 341, 90, 7, 136, 709, 662, 650, 151, 84, 668, 42, 327, 823, 102, 457, 2, 840, 416, 655, 815, 655, 45, 694, 960, 564, 633, 690, 511, 436, 817, 41, 929, 497, 37, 431, 987, 169, 938, 674, 647, 794, 156, 833, 882, 563, 941, 157, 214, 328, 289, 590, 153, 612, 855, 927, 247, 495, 675, 724, 572]\n"
     ]
    }
   ],
   "source": [
    "println(sort(y))\n",
    "mass_new=[]\n",
    "ind = sortperm(y)\n",
    "for i in 1:length(x)\n",
    "    push!(mass_new, x[ind[i]])\n",
    "end\n",
    "println(mass_new)"
   ]
  },
  {
   "cell_type": "markdown",
   "id": "f708a2a1-4003-44f8-ad96-885fc75c4b83",
   "metadata": {},
   "source": [
    "– выведите элементы вектора 𝑥, которые входят в десятку наибольших (top-10)?  "
   ]
  },
  {
   "cell_type": "code",
   "execution_count": 187,
   "id": "f10b9e80-0b12-4114-b915-6f3fd273f12f",
   "metadata": {},
   "outputs": [
    {
     "name": "stdout",
     "output_type": "stream",
     "text": [
      "[998, 993, 987, 985, 977, 970, 969, 968, 967, 967]"
     ]
    }
   ],
   "source": [
    "x_sort = sort(x, rev=true)\n",
    "print(x_sort[1:10])"
   ]
  },
  {
   "cell_type": "markdown",
   "id": "8ff11d61-ec0d-4df1-800b-b33bc8053cfc",
   "metadata": {},
   "source": [
    "– сформируйте вектор, содержащий только уникальные (неповторяющиеся) элементы вектора 𝑥."
   ]
  },
  {
   "cell_type": "code",
   "execution_count": 189,
   "id": "168c10f0-08cd-4528-b34c-98710e2eabd6",
   "metadata": {},
   "outputs": [
    {
     "name": "stdout",
     "output_type": "stream",
     "text": [
      "[968, 289, 190, 332, 125, 39, 774, 396, 618, 328, 675, 721, 194, 633, 9, 290, 259, 895, 839, 555, 385, 209, 231, 762, 662, 166, 532, 588, 47, 341, 993, 150, 795, 364, 497, 649, 855, 31, 787, 37, 571, 918, 127, 45, 934, 536, 7, 360, 17, 779, 914, 511, 590, 668, 251, 327, 501, 709, 724, 2, 434, 85, 791, 985, 495, 794, 90, 812, 264, 112, 864, 561, 560, 572, 875, 311, 867, 84, 686, 153, 967, 316, 600, 156, 178, 67, 81, 71, 837, 523, 960, 970, 938, 674, 363, 205, 833, 734, 350, 406, 655, 431, 898, 317, 647, 22, 929, 8, 128, 314, 751, 650, 41, 186, 516, 870, 840, 136, 56, 157, 274, 416, 444, 823, 566, 927, 622, 151, 601, 766, 261, 998, 780, 131, 805, 645, 42, 885, 690, 110, 863, 288, 920, 235, 513, 20, 415, 694, 770, 693, 628, 424, 939, 901, 148, 133, 38, 579, 715, 164, 817, 564, 227, 860, 346, 362, 673, 297, 206, 457, 552, 731, 313, 247, 882, 24, 233, 436, 277, 563, 813, 956, 214, 358, 188, 102, 404, 644, 473, 815, 602, 519, 388, 987, 432, 409, 169, 470, 25, 829, 101, 486, 653, 977, 507, 183, 376, 236, 182, 969, 936, 287, 612, 176, 499, 945, 941, 465]"
     ]
    },
    {
     "data": {
      "text/plain": [
       "218"
      ]
     },
     "execution_count": 189,
     "metadata": {},
     "output_type": "execute_result"
    }
   ],
   "source": [
    "x_unique = unique(x)\n",
    "print(x_unique)\n",
    "length(x_unique)"
   ]
  },
  {
   "cell_type": "markdown",
   "id": "57ca9b59-70c1-4939-8b26-b33dfb89d33d",
   "metadata": {},
   "source": [
    "4. Создайте массив squares, в котором будут храниться квадраты всех целых чисел от 1 до 100."
   ]
  },
  {
   "cell_type": "code",
   "execution_count": 191,
   "id": "de51538c-6c6a-4cba-97e5-98d701baa6f0",
   "metadata": {},
   "outputs": [
    {
     "name": "stdout",
     "output_type": "stream",
     "text": [
      "[1, 4, 9, 16, 25, 36, 49, 64, 81, 100, 121, 144, 169, 196, 225, 256, 289, 324, 361, 400, 441, 484, 529, 576, 625, 676, 729, 784, 841, 900, 961, 1024, 1089, 1156, 1225, 1296, 1369, 1444, 1521, 1600, 1681, 1764, 1849, 1936, 2025, 2116, 2209, 2304, 2401, 2500, 2601, 2704, 2809, 2916, 3025, 3136, 3249, 3364, 3481, 3600, 3721, 3844, 3969, 4096, 4225, 4356, 4489, 4624, 4761, 4900, 5041, 5184, 5329, 5476, 5625, 5776, 5929, 6084, 6241, 6400, 6561, 6724, 6889, 7056, 7225, 7396, 7569, 7744, 7921, 8100, 8281, 8464, 8649, 8836, 9025, 9216, 9409, 9604, 9801, 10000]"
     ]
    }
   ],
   "source": [
    "# зададим в цикле получение квадратов всех целых чисел от 1 до 100\n",
    "\n",
    "squares = [i^2 for i=1:100]\n",
    "print(squares)"
   ]
  },
  {
   "cell_type": "markdown",
   "id": "af010f48-9fb2-4519-bd97-e63f4260a2fd",
   "metadata": {},
   "source": [
    "5. Подключите пакет Primes (функции для вычисления простых чисел). Сгенерируйте\n",
    "массив myprimes, в котором будут храниться первые 168 простых чисел. Определите\n",
    "89-е наименьшее простое число. Получите срез массива с 89-го до 99-го элемента\n",
    "включительно, содержащий наименьшие простые числа."
   ]
  },
  {
   "cell_type": "code",
   "execution_count": 195,
   "id": "8fe7aa35-caed-4aae-b20d-dc2f5d3cc2e6",
   "metadata": {
    "tags": []
   },
   "outputs": [
    {
     "name": "stderr",
     "output_type": "stream",
     "text": [
      "\u001b[32m\u001b[1m    Updating\u001b[22m\u001b[39m registry at `C:\\Users\\GanZL\\.julia\\registries\\General.toml`\n",
      "\u001b[32m\u001b[1m   Resolving\u001b[22m\u001b[39m package versions...\n",
      "\u001b[32m\u001b[1m   Installed\u001b[22m\u001b[39m IntegerMathUtils ─ v0.1.2\n",
      "\u001b[32m\u001b[1m   Installed\u001b[22m\u001b[39m Primes ─────────── v0.5.6\n",
      "\u001b[32m\u001b[1m    Updating\u001b[22m\u001b[39m `C:\\Users\\GanZL\\.julia\\environments\\v1.11\\Project.toml`\n",
      "  \u001b[90m[27ebfcd6] \u001b[39m\u001b[92m+ Primes v0.5.6\u001b[39m\n",
      "\u001b[32m\u001b[1m    Updating\u001b[22m\u001b[39m `C:\\Users\\GanZL\\.julia\\environments\\v1.11\\Manifest.toml`\n",
      "  \u001b[90m[18e54dd8] \u001b[39m\u001b[92m+ IntegerMathUtils v0.1.2\u001b[39m\n",
      "  \u001b[90m[27ebfcd6] \u001b[39m\u001b[92m+ Primes v0.5.6\u001b[39m\n",
      "\u001b[92m\u001b[1mPrecompiling\u001b[22m\u001b[39m project...\n",
      "   1205.9 ms\u001b[32m  ✓ \u001b[39m\u001b[90mIntegerMathUtils\u001b[39m\n",
      "    511.7 ms\u001b[32m  ✓ \u001b[39mPrimes\n",
      "  2 dependencies successfully precompiled in 2 seconds. 43 already precompiled.\n"
     ]
    }
   ],
   "source": [
    "import Pkg\n",
    "Pkg.add(\"Primes\")"
   ]
  },
  {
   "cell_type": "code",
   "execution_count": 197,
   "id": "2f8959b8-d311-4331-9f69-3a67ce686668",
   "metadata": {},
   "outputs": [
    {
     "name": "stdout",
     "output_type": "stream",
     "text": [
      "[2, 3, 5, 7, 11, 13, 17, 19, 23, 29, 31, 37, 41, 43, 47, 53, 59, 61, 67, 71, 73, 79, 83, 89, 97, 101, 103, 107, 109, 113, 127, 131, 137, 139, 149, 151, 157, 163, 167, 173, 179, 181, 191, 193, 197, 199, 211, 223, 227, 229, 233, 239, 241, 251, 257, 263, 269, 271, 277, 281, 283, 293, 307, 311, 313, 317, 331, 337, 347, 349, 353, 359, 367, 373, 379, 383, 389, 397, 401, 409, 419, 421, 431, 433, 439, 443, 449, 457, 461, 463, 467, 479, 487, 491, 499, 503, 509, 521, 523, 541, 547, 557, 563, 569, 571, 577, 587, 593, 599, 601, 607, 613, 617, 619, 631, 641, 643, 647, 653, 659, 661, 673, 677, 683, 691, 701, 709, 719, 727, 733, 739, 743, 751, 757, 761, 769, 773, 787, 797, 809, 811, 821, 823, 827, 829, 839, 853, 857, 859, 863, 877, 881, 883, 887, 907, 911, 919, 929, 937, 941, 947, 953, 967, 971, 977, 983, 991, 997]"
     ]
    }
   ],
   "source": [
    "# испольую пакет Primes и получим первые 168 простых чисел\n",
    "using Primes\n",
    "n = 1000\n",
    "myprimes = primes(n)\n",
    "print(myprimes)"
   ]
  },
  {
   "cell_type": "code",
   "execution_count": 199,
   "id": "3cbee743-f5b0-4a5a-aaae-d1969e261aee",
   "metadata": {},
   "outputs": [
    {
     "name": "stdout",
     "output_type": "stream",
     "text": [
      "89-е наименьшее простое число = 461\n",
      "срез массива с 89-го до 99-го элемента = [461, 463, 467, 479, 487, 491, 499, 503, 509, 521, 523]"
     ]
    }
   ],
   "source": [
    "# определим наименьшее 89-е число\n",
    "println(\"89-е наименьшее простое число = \", myprimes[89])\n",
    "print(\"срез массива с 89-го до 99-го элемента = \", myprimes[89:99])"
   ]
  },
  {
   "cell_type": "markdown",
   "id": "1c533f35-fea7-420c-b597-a8393960a97b",
   "metadata": {},
   "source": [
    "6. Вычислите следующие выражения:  \n",
    "    6.1 $\\sum_{i=10}^{100}(i^{3}+4i^{2})$;"
   ]
  },
  {
   "cell_type": "code",
   "execution_count": 201,
   "id": "8975c15d-d00e-4c55-84dd-b130fc3ffba2",
   "metadata": {},
   "outputs": [
    {
     "data": {
      "text/plain": [
       "26852735"
      ]
     },
     "execution_count": 201,
     "metadata": {},
     "output_type": "execute_result"
    }
   ],
   "source": [
    "sum((i^3)+4*(i^2) for i=10:100)"
   ]
  },
  {
   "cell_type": "markdown",
   "id": "c7a00e96-7bfb-4886-b324-c835196638c8",
   "metadata": {},
   "source": [
    "   6.2 $\\sum_{i=1}^M(\\frac{2^{i}}{i}+\\frac{3^{i}}{i^{2}})$, M = 25;"
   ]
  },
  {
   "cell_type": "code",
   "execution_count": 203,
   "id": "6643ebcf-913f-480a-b847-d59062d13749",
   "metadata": {},
   "outputs": [
    {
     "data": {
      "text/plain": [
       "2.1291704368143802e9"
      ]
     },
     "execution_count": 203,
     "metadata": {},
     "output_type": "execute_result"
    }
   ],
   "source": [
    "M = 25\n",
    "sum(((2^i)/i) + ((3^i)/(i^2)) for i=1:M)"
   ]
  },
  {
   "cell_type": "markdown",
   "id": "d520487f-4a7e-4746-b8c3-ddb988475e1b",
   "metadata": {},
   "source": [
    "   6.3 $1 + \\frac{2}{3}+(\\frac{2}{3}\\frac{4}{5}) + (\\frac{2}{3}\\frac{4}{5}\\frac{6}{7})+...+(\\frac{2}{3}\\frac{4}{5}...\\frac{38}{39})$. "
   ]
  },
  {
   "cell_type": "code",
   "execution_count": 205,
   "id": "dd85fa8f-9307-403c-b22f-e93f45531410",
   "metadata": {},
   "outputs": [
    {
     "name": "stdout",
     "output_type": "stream",
     "text": [
      "6.976346137897618"
     ]
    }
   ],
   "source": [
    "S = 1\n",
    "temp = 1\n",
    "for i in 2:2:38\n",
    "    temp *= i/(i+1)\n",
    "    S += temp\n",
    "end\n",
    "print(S)"
   ]
  },
  {
   "cell_type": "code",
   "execution_count": null,
   "id": "433c0eaa-aad3-4c2e-8b60-64f9c3d63941",
   "metadata": {},
   "outputs": [],
   "source": []
  }
 ],
 "metadata": {
  "kernelspec": {
   "display_name": "Julia 1.11.1",
   "language": "julia",
   "name": "julia-1.11"
  },
  "language_info": {
   "file_extension": ".jl",
   "mimetype": "application/julia",
   "name": "julia",
   "version": "1.11.1"
  }
 },
 "nbformat": 4,
 "nbformat_minor": 5
}
